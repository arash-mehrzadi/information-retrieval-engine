{
  "nbformat": 4,
  "nbformat_minor": 0,
  "metadata": {
    "colab": {
      "name": "Position_Index.ipynb",
      "provenance": [],
      "collapsed_sections": [],
      "authorship_tag": "ABX9TyPJTkVtgdvDQS7n9qYlX917"
    },
    "kernelspec": {
      "name": "python3",
      "display_name": "Python 3"
    }
  },
  "cells": [
    {
      "cell_type": "code",
      "metadata": {
        "id": "WJEw2b4Q-S91"
      },
      "source": [
        "import re\n",
        "import pandas as pd "
      ],
      "execution_count": null,
      "outputs": []
    },
    {
      "cell_type": "code",
      "metadata": {
        "id": "vp7WkJeg1Kuj"
      },
      "source": [
        "DocDic= {'Doc1':'the students are studying.','Doc2':'are all students studying?','Doc3':'we are here to study information retrieval.'}"
      ],
      "execution_count": null,
      "outputs": []
    },
    {
      "cell_type": "code",
      "metadata": {
        "colab": {
          "base_uri": "https://localhost:8080/"
        },
        "id": "eErKMsdF2nKn",
        "outputId": "822e3dc7-78cd-42f4-a98c-65170b497486"
      },
      "source": [
        "DocDic"
      ],
      "execution_count": null,
      "outputs": [
        {
          "output_type": "execute_result",
          "data": {
            "text/plain": [
              "{'Doc1': 'the students are studying.',\n",
              " 'Doc2': 'are all students studying?',\n",
              " 'Doc3': 'we are here to study information retrieval.'}"
            ]
          },
          "metadata": {
            "tags": []
          },
          "execution_count": 100
        }
      ]
    },
    {
      "cell_type": "code",
      "metadata": {
        "id": "kwcHp5m0-qMz"
      },
      "source": [
        "pat = re.compile(r\"([.()!?])\")\n",
        "def Prepration(Textin):\n",
        "  Dataout= []\n",
        "  for i in Textin:\n",
        "    t= pat.sub(\" \\\\1\",Textin[i])\n",
        "    Dataout.append(t.split())\n",
        "  return Dataout"
      ],
      "execution_count": null,
      "outputs": []
    },
    {
      "cell_type": "code",
      "metadata": {
        "id": "PRBLlbr4_rWO"
      },
      "source": [
        "Ptext= Prepration(DocDic)"
      ],
      "execution_count": null,
      "outputs": []
    },
    {
      "cell_type": "code",
      "metadata": {
        "colab": {
          "base_uri": "https://localhost:8080/"
        },
        "id": "E3AcL1UbCu7g",
        "outputId": "60a8ec91-772e-47e3-c805-dd1d92e724a4"
      },
      "source": [
        "Ptext"
      ],
      "execution_count": null,
      "outputs": [
        {
          "output_type": "execute_result",
          "data": {
            "text/plain": [
              "[['the', 'students', 'are', 'studying', '.'],\n",
              " ['are', 'all', 'students', 'studying', '?'],\n",
              " ['we', 'are', 'here', 'to', 'study', 'information', 'retrieval', '.']]"
            ]
          },
          "metadata": {
            "tags": []
          },
          "execution_count": 103
        }
      ]
    },
    {
      "cell_type": "code",
      "metadata": {
        "id": "8X6DmE1O_rVG"
      },
      "source": [
        "def ClP(Data_in, nin):\n",
        "  D_out= []\n",
        "  a= 0\n",
        "  for i in Data_in:\n",
        "    D_out.append(['{}:{}'.format(nin, a),i])\n",
        "    a+= 1\n",
        "  return D_out"
      ],
      "execution_count": null,
      "outputs": []
    },
    {
      "cell_type": "code",
      "metadata": {
        "id": "vBtnxEB7Coer"
      },
      "source": [
        "def  Coll(Data_in, nin):\n",
        "  Data_out= []\n",
        "  doc_name= []\n",
        "  a= 0\n",
        "  for n in DocDic:\n",
        "    doc_name.append(n)\n",
        "  for i in Data_in:\n",
        "    Data_out.append(ClP(i, doc_name[a]))\n",
        "    a+= 1\n",
        "  return Data_out"
      ],
      "execution_count": null,
      "outputs": []
    },
    {
      "cell_type": "code",
      "metadata": {
        "id": "W9igWpf1Cpl8"
      },
      "source": [
        "cLP = Coll(Ptext,DocDic)"
      ],
      "execution_count": null,
      "outputs": []
    },
    {
      "cell_type": "code",
      "metadata": {
        "colab": {
          "base_uri": "https://localhost:8080/"
        },
        "id": "Wy-9luu5CziM",
        "outputId": "2753beb7-95c9-4890-9c32-ba92b44326c1"
      },
      "source": [
        "cLP"
      ],
      "execution_count": null,
      "outputs": [
        {
          "output_type": "execute_result",
          "data": {
            "text/plain": [
              "[[['Doc1:0', 'the'],\n",
              "  ['Doc1:1', 'students'],\n",
              "  ['Doc1:2', 'are'],\n",
              "  ['Doc1:3', 'studying'],\n",
              "  ['Doc1:4', '.']],\n",
              " [['Doc2:0', 'are'],\n",
              "  ['Doc2:1', 'all'],\n",
              "  ['Doc2:2', 'students'],\n",
              "  ['Doc2:3', 'studying'],\n",
              "  ['Doc2:4', '?']],\n",
              " [['Doc3:0', 'we'],\n",
              "  ['Doc3:1', 'are'],\n",
              "  ['Doc3:2', 'here'],\n",
              "  ['Doc3:3', 'to'],\n",
              "  ['Doc3:4', 'study'],\n",
              "  ['Doc3:5', 'information'],\n",
              "  ['Doc3:6', 'retrieval'],\n",
              "  ['Doc3:7', '.']]]"
            ]
          },
          "metadata": {
            "tags": []
          },
          "execution_count": 120
        }
      ]
    },
    {
      "cell_type": "code",
      "metadata": {
        "colab": {
          "base_uri": "https://localhost:8080/"
        },
        "id": "48wHkyr9G6jb",
        "outputId": "5a195aa0-fb32-4cca-a6ec-f630295b5e76"
      },
      "source": [
        "cLP[0]"
      ],
      "execution_count": null,
      "outputs": [
        {
          "output_type": "execute_result",
          "data": {
            "text/plain": [
              "[['Doc1:0', 'the'],\n",
              " ['Doc1:1', 'students'],\n",
              " ['Doc1:2', 'are'],\n",
              " ['Doc1:3', 'studying'],\n",
              " ['Doc1:4', '.']]"
            ]
          },
          "metadata": {
            "tags": []
          },
          "execution_count": 121
        }
      ]
    },
    {
      "cell_type": "code",
      "metadata": {
        "id": "AafUL5BoCzgV"
      },
      "source": [
        "def PIT(Data_in,Dic_input):\n",
        "  Data_out= []\n",
        "  doc_name= []\n",
        "  for n in DocDic:\n",
        "    doc_name.append(n)\n",
        "  for i in Data_in:\n",
        "    Data_out.append(pd.DataFrame(i,columns=['Position','Word'])) \n",
        "  return Data_out"
      ],
      "execution_count": null,
      "outputs": []
    },
    {
      "cell_type": "code",
      "metadata": {
        "id": "Un7db2r6DJmV"
      },
      "source": [
        "PO= PIT(cLP,DocDic)"
      ],
      "execution_count": null,
      "outputs": []
    },
    {
      "cell_type": "code",
      "metadata": {
        "colab": {
          "base_uri": "https://localhost:8080/",
          "height": 204
        },
        "id": "UsU4Ww9GE5eR",
        "outputId": "c5136efb-fc43-4ac9-a0e0-e0e3bcd09d24"
      },
      "source": [
        "PO[1]"
      ],
      "execution_count": null,
      "outputs": [
        {
          "output_type": "execute_result",
          "data": {
            "text/html": [
              "<div>\n",
              "<style scoped>\n",
              "    .dataframe tbody tr th:only-of-type {\n",
              "        vertical-align: middle;\n",
              "    }\n",
              "\n",
              "    .dataframe tbody tr th {\n",
              "        vertical-align: top;\n",
              "    }\n",
              "\n",
              "    .dataframe thead th {\n",
              "        text-align: right;\n",
              "    }\n",
              "</style>\n",
              "<table border=\"1\" class=\"dataframe\">\n",
              "  <thead>\n",
              "    <tr style=\"text-align: right;\">\n",
              "      <th></th>\n",
              "      <th>Position</th>\n",
              "      <th>Word</th>\n",
              "    </tr>\n",
              "  </thead>\n",
              "  <tbody>\n",
              "    <tr>\n",
              "      <th>0</th>\n",
              "      <td>Doc2:0</td>\n",
              "      <td>are</td>\n",
              "    </tr>\n",
              "    <tr>\n",
              "      <th>1</th>\n",
              "      <td>Doc2:1</td>\n",
              "      <td>all</td>\n",
              "    </tr>\n",
              "    <tr>\n",
              "      <th>2</th>\n",
              "      <td>Doc2:2</td>\n",
              "      <td>students</td>\n",
              "    </tr>\n",
              "    <tr>\n",
              "      <th>3</th>\n",
              "      <td>Doc2:3</td>\n",
              "      <td>studying</td>\n",
              "    </tr>\n",
              "    <tr>\n",
              "      <th>4</th>\n",
              "      <td>Doc2:4</td>\n",
              "      <td>?</td>\n",
              "    </tr>\n",
              "  </tbody>\n",
              "</table>\n",
              "</div>"
            ],
            "text/plain": [
              "  Position      Word\n",
              "0   Doc2:0       are\n",
              "1   Doc2:1       all\n",
              "2   Doc2:2  students\n",
              "3   Doc2:3  studying\n",
              "4   Doc2:4         ?"
            ]
          },
          "metadata": {
            "tags": []
          },
          "execution_count": 153
        }
      ]
    },
    {
      "cell_type": "code",
      "metadata": {
        "id": "e_mshza-NViJ"
      },
      "source": [
        "dc= pd.concat(PO, ignore_index=True)"
      ],
      "execution_count": null,
      "outputs": []
    },
    {
      "cell_type": "code",
      "metadata": {
        "colab": {
          "base_uri": "https://localhost:8080/",
          "height": 607
        },
        "id": "4eAJNpbfOqD3",
        "outputId": "1d4e27b9-df92-4a28-98b2-223b68ac7e05"
      },
      "source": [
        "dc"
      ],
      "execution_count": null,
      "outputs": [
        {
          "output_type": "execute_result",
          "data": {
            "text/html": [
              "<div>\n",
              "<style scoped>\n",
              "    .dataframe tbody tr th:only-of-type {\n",
              "        vertical-align: middle;\n",
              "    }\n",
              "\n",
              "    .dataframe tbody tr th {\n",
              "        vertical-align: top;\n",
              "    }\n",
              "\n",
              "    .dataframe thead th {\n",
              "        text-align: right;\n",
              "    }\n",
              "</style>\n",
              "<table border=\"1\" class=\"dataframe\">\n",
              "  <thead>\n",
              "    <tr style=\"text-align: right;\">\n",
              "      <th></th>\n",
              "      <th>Position</th>\n",
              "      <th>Word</th>\n",
              "    </tr>\n",
              "  </thead>\n",
              "  <tbody>\n",
              "    <tr>\n",
              "      <th>0</th>\n",
              "      <td>Doc1:0</td>\n",
              "      <td>the</td>\n",
              "    </tr>\n",
              "    <tr>\n",
              "      <th>1</th>\n",
              "      <td>Doc1:1</td>\n",
              "      <td>students</td>\n",
              "    </tr>\n",
              "    <tr>\n",
              "      <th>2</th>\n",
              "      <td>Doc1:2</td>\n",
              "      <td>are</td>\n",
              "    </tr>\n",
              "    <tr>\n",
              "      <th>3</th>\n",
              "      <td>Doc1:3</td>\n",
              "      <td>studying</td>\n",
              "    </tr>\n",
              "    <tr>\n",
              "      <th>4</th>\n",
              "      <td>Doc1:4</td>\n",
              "      <td>.</td>\n",
              "    </tr>\n",
              "    <tr>\n",
              "      <th>5</th>\n",
              "      <td>Doc2:0</td>\n",
              "      <td>are</td>\n",
              "    </tr>\n",
              "    <tr>\n",
              "      <th>6</th>\n",
              "      <td>Doc2:1</td>\n",
              "      <td>all</td>\n",
              "    </tr>\n",
              "    <tr>\n",
              "      <th>7</th>\n",
              "      <td>Doc2:2</td>\n",
              "      <td>students</td>\n",
              "    </tr>\n",
              "    <tr>\n",
              "      <th>8</th>\n",
              "      <td>Doc2:3</td>\n",
              "      <td>studying</td>\n",
              "    </tr>\n",
              "    <tr>\n",
              "      <th>9</th>\n",
              "      <td>Doc2:4</td>\n",
              "      <td>?</td>\n",
              "    </tr>\n",
              "    <tr>\n",
              "      <th>10</th>\n",
              "      <td>Doc3:0</td>\n",
              "      <td>we</td>\n",
              "    </tr>\n",
              "    <tr>\n",
              "      <th>11</th>\n",
              "      <td>Doc3:1</td>\n",
              "      <td>are</td>\n",
              "    </tr>\n",
              "    <tr>\n",
              "      <th>12</th>\n",
              "      <td>Doc3:2</td>\n",
              "      <td>here</td>\n",
              "    </tr>\n",
              "    <tr>\n",
              "      <th>13</th>\n",
              "      <td>Doc3:3</td>\n",
              "      <td>to</td>\n",
              "    </tr>\n",
              "    <tr>\n",
              "      <th>14</th>\n",
              "      <td>Doc3:4</td>\n",
              "      <td>study</td>\n",
              "    </tr>\n",
              "    <tr>\n",
              "      <th>15</th>\n",
              "      <td>Doc3:5</td>\n",
              "      <td>information</td>\n",
              "    </tr>\n",
              "    <tr>\n",
              "      <th>16</th>\n",
              "      <td>Doc3:6</td>\n",
              "      <td>retrieval</td>\n",
              "    </tr>\n",
              "    <tr>\n",
              "      <th>17</th>\n",
              "      <td>Doc3:7</td>\n",
              "      <td>.</td>\n",
              "    </tr>\n",
              "  </tbody>\n",
              "</table>\n",
              "</div>"
            ],
            "text/plain": [
              "   Position         Word\n",
              "0    Doc1:0          the\n",
              "1    Doc1:1     students\n",
              "2    Doc1:2          are\n",
              "3    Doc1:3     studying\n",
              "4    Doc1:4            .\n",
              "5    Doc2:0          are\n",
              "6    Doc2:1          all\n",
              "7    Doc2:2     students\n",
              "8    Doc2:3     studying\n",
              "9    Doc2:4            ?\n",
              "10   Doc3:0           we\n",
              "11   Doc3:1          are\n",
              "12   Doc3:2         here\n",
              "13   Doc3:3           to\n",
              "14   Doc3:4        study\n",
              "15   Doc3:5  information\n",
              "16   Doc3:6    retrieval\n",
              "17   Doc3:7            ."
            ]
          },
          "metadata": {
            "tags": []
          },
          "execution_count": 164
        }
      ]
    },
    {
      "cell_type": "code",
      "metadata": {
        "colab": {
          "base_uri": "https://localhost:8080/",
          "height": 452
        },
        "id": "QGfgSQu7N_MU",
        "outputId": "59306a1f-79e6-4ee5-eec8-267d8b8d88c5"
      },
      "source": [
        "dc['Position'].groupby(dc['Word']).apply(list).reset_index()"
      ],
      "execution_count": 176,
      "outputs": [
        {
          "output_type": "execute_result",
          "data": {
            "text/html": [
              "<div>\n",
              "<style scoped>\n",
              "    .dataframe tbody tr th:only-of-type {\n",
              "        vertical-align: middle;\n",
              "    }\n",
              "\n",
              "    .dataframe tbody tr th {\n",
              "        vertical-align: top;\n",
              "    }\n",
              "\n",
              "    .dataframe thead th {\n",
              "        text-align: right;\n",
              "    }\n",
              "</style>\n",
              "<table border=\"1\" class=\"dataframe\">\n",
              "  <thead>\n",
              "    <tr style=\"text-align: right;\">\n",
              "      <th></th>\n",
              "      <th>Word</th>\n",
              "      <th>Position</th>\n",
              "    </tr>\n",
              "  </thead>\n",
              "  <tbody>\n",
              "    <tr>\n",
              "      <th>0</th>\n",
              "      <td>.</td>\n",
              "      <td>[Doc1:4, Doc3:7]</td>\n",
              "    </tr>\n",
              "    <tr>\n",
              "      <th>1</th>\n",
              "      <td>?</td>\n",
              "      <td>[Doc2:4]</td>\n",
              "    </tr>\n",
              "    <tr>\n",
              "      <th>2</th>\n",
              "      <td>all</td>\n",
              "      <td>[Doc2:1]</td>\n",
              "    </tr>\n",
              "    <tr>\n",
              "      <th>3</th>\n",
              "      <td>are</td>\n",
              "      <td>[Doc1:2, Doc2:0, Doc3:1]</td>\n",
              "    </tr>\n",
              "    <tr>\n",
              "      <th>4</th>\n",
              "      <td>here</td>\n",
              "      <td>[Doc3:2]</td>\n",
              "    </tr>\n",
              "    <tr>\n",
              "      <th>5</th>\n",
              "      <td>information</td>\n",
              "      <td>[Doc3:5]</td>\n",
              "    </tr>\n",
              "    <tr>\n",
              "      <th>6</th>\n",
              "      <td>retrieval</td>\n",
              "      <td>[Doc3:6]</td>\n",
              "    </tr>\n",
              "    <tr>\n",
              "      <th>7</th>\n",
              "      <td>students</td>\n",
              "      <td>[Doc1:1, Doc2:2]</td>\n",
              "    </tr>\n",
              "    <tr>\n",
              "      <th>8</th>\n",
              "      <td>study</td>\n",
              "      <td>[Doc3:4]</td>\n",
              "    </tr>\n",
              "    <tr>\n",
              "      <th>9</th>\n",
              "      <td>studying</td>\n",
              "      <td>[Doc1:3, Doc2:3]</td>\n",
              "    </tr>\n",
              "    <tr>\n",
              "      <th>10</th>\n",
              "      <td>the</td>\n",
              "      <td>[Doc1:0]</td>\n",
              "    </tr>\n",
              "    <tr>\n",
              "      <th>11</th>\n",
              "      <td>to</td>\n",
              "      <td>[Doc3:3]</td>\n",
              "    </tr>\n",
              "    <tr>\n",
              "      <th>12</th>\n",
              "      <td>we</td>\n",
              "      <td>[Doc3:0]</td>\n",
              "    </tr>\n",
              "  </tbody>\n",
              "</table>\n",
              "</div>"
            ],
            "text/plain": [
              "           Word                  Position\n",
              "0             .          [Doc1:4, Doc3:7]\n",
              "1             ?                  [Doc2:4]\n",
              "2           all                  [Doc2:1]\n",
              "3           are  [Doc1:2, Doc2:0, Doc3:1]\n",
              "4          here                  [Doc3:2]\n",
              "5   information                  [Doc3:5]\n",
              "6     retrieval                  [Doc3:6]\n",
              "7      students          [Doc1:1, Doc2:2]\n",
              "8         study                  [Doc3:4]\n",
              "9      studying          [Doc1:3, Doc2:3]\n",
              "10          the                  [Doc1:0]\n",
              "11           to                  [Doc3:3]\n",
              "12           we                  [Doc3:0]"
            ]
          },
          "metadata": {
            "tags": []
          },
          "execution_count": 176
        }
      ]
    },
    {
      "cell_type": "code",
      "metadata": {
        "id": "o4s5QB9AmZB0"
      },
      "source": [
        "Table= dc['Position'].groupby(dc['Word']).apply(list).reset_index()"
      ],
      "execution_count": 177,
      "outputs": []
    },
    {
      "cell_type": "code",
      "metadata": {
        "colab": {
          "base_uri": "https://localhost:8080/"
        },
        "id": "ShUOm6EYlsWB",
        "outputId": "9237a0c2-61b8-4cc9-b05b-8314341b1622"
      },
      "source": [
        "Search_W= input(\"Enter Word:\")\n",
        "print(\"Result :\\nSearch : {}\\nDocname & Posision:\\n {}\".format(Search_W, Table.loc[Table['Word']== Search_W]))"
      ],
      "execution_count": 182,
      "outputs": [
        {
          "output_type": "stream",
          "text": [
            "Enter Word:are\n",
            "Result :\n",
            "Search : are\n",
            "Docname & Posision:\n",
            "   Word                  Position\n",
            "3  are  [Doc1:2, Doc2:0, Doc3:1]\n"
          ],
          "name": "stdout"
        }
      ]
    }
  ]
}
