{
  "nbformat": 4,
  "nbformat_minor": 0,
  "metadata": {
    "colab": {
      "name": "Untitled14.ipynb",
      "provenance": [],
      "collapsed_sections": [],
      "mount_file_id": "18Vqgubvd9drG3RJqMoH2pDuQssTgbhus",
      "authorship_tag": "ABX9TyMt/NzpDZQGQdhD5Zv9R1Nb"
    },
    "kernelspec": {
      "display_name": "Python 3",
      "name": "python3"
    }
  },
  "cells": [
    {
      "cell_type": "markdown",
      "metadata": {
        "id": "eTj1_1dtXmVc"
      },
      "source": [
        "# Information Retrieval"
      ]
    },
    {
      "cell_type": "markdown",
      "metadata": {
        "id": "VDtrStPCo91q"
      },
      "source": [
        "---\n",
        "\n",
        "\n",
        "Information Retrieval (IR) can be defined as a software program that deals with the organization, storage, retrieval, and evaluation of information from document repositories, particularly textual information. Information Retrieval is the activity of obtaining material that can usually be documented on an unstructured nature i.e. usually text which satisfies an information need from within large collections which is stored on computers. For example, Information Retrieval can be when a user enters a query into the system. \n",
        "\n",
        "In this project, I implement various data recovery techniques with all the operational details and try not to use existing modules and implement all functions."
      ]
    },
    {
      "cell_type": "markdown",
      "metadata": {
        "id": "ls1GfJfBYj3t"
      },
      "source": [
        "**Install Modules**\n",
        "\n"
      ]
    },
    {
      "cell_type": "markdown",
      "metadata": {
        "id": "2xewLZngs_f8"
      },
      "source": [
        "You can use one of the following modules to import the text of the documents into the project .\n",
        "\n",
        "**python-docx** : python-docx is a Python library for creating and updating Microsoft Word (.docx) files.\n",
        "\n",
        "More information is available in the [python-docx documentation.](https://python-docx.readthedocs.io/en/latest/)\n",
        "\n",
        "**docx2txt** : A pure python-based utility to extract text and images from docx files.\n",
        "\n",
        "More information is available in the [docx2txt documentation.](https://pypi.org/project/docx2txt/)"
      ]
    },
    {
      "cell_type": "code",
      "metadata": {
        "id": "50ug1AzuYjNq",
        "outputId": "784b6753-c0af-454b-97ad-c5fc7256d6fd",
        "colab": {
          "base_uri": "https://localhost:8080/"
        }
      },
      "source": [
        "pip install python-docx"
      ],
      "execution_count": null,
      "outputs": [
        {
          "output_type": "stream",
          "text": [
            "Collecting python-docx\n",
            "\u001b[?25l  Downloading https://files.pythonhosted.org/packages/e4/83/c66a1934ed5ed8ab1dbb9931f1779079f8bca0f6bbc5793c06c4b5e7d671/python-docx-0.8.10.tar.gz (5.5MB)\n",
            "\u001b[K     |████████████████████████████████| 5.5MB 6.2MB/s \n",
            "\u001b[?25hRequirement already satisfied: lxml>=2.3.2 in /usr/local/lib/python3.6/dist-packages (from python-docx) (4.2.6)\n",
            "Building wheels for collected packages: python-docx\n",
            "  Building wheel for python-docx (setup.py) ... \u001b[?25l\u001b[?25hdone\n",
            "  Created wheel for python-docx: filename=python_docx-0.8.10-cp36-none-any.whl size=184491 sha256=5beca9247bf087b4e14146e75e7f21bb35c4bc1abf16e65be89203897abc310b\n",
            "  Stored in directory: /root/.cache/pip/wheels/18/0b/a0/1dd62ff812c857c9e487f27d80d53d2b40531bec1acecfa47b\n",
            "Successfully built python-docx\n",
            "Installing collected packages: python-docx\n",
            "Successfully installed python-docx-0.8.10\n"
          ],
          "name": "stdout"
        }
      ]
    },
    {
      "cell_type": "code",
      "metadata": {
        "id": "_3sMdnfCaIRR",
        "outputId": "05d83ffb-9ec0-49f6-db72-ce4260eadbb0",
        "colab": {
          "base_uri": "https://localhost:8080/"
        }
      },
      "source": [
        "pip install docx2txt"
      ],
      "execution_count": null,
      "outputs": [
        {
          "output_type": "stream",
          "text": [
            "Collecting docx2txt\n",
            "  Downloading https://files.pythonhosted.org/packages/7d/7d/60ee3f2b16d9bfdfa72e8599470a2c1a5b759cb113c6fe1006be28359327/docx2txt-0.8.tar.gz\n",
            "Building wheels for collected packages: docx2txt\n",
            "  Building wheel for docx2txt (setup.py) ... \u001b[?25l\u001b[?25hdone\n",
            "  Created wheel for docx2txt: filename=docx2txt-0.8-cp36-none-any.whl size=3965 sha256=1a4c422a5d5d4660e89e1188e71b2ac603f37b94ef3c6300e8bda1473655f8ee\n",
            "  Stored in directory: /root/.cache/pip/wheels/b2/1f/26/a051209bbb77fc6bcfae2bb7e01fa0ff941b82292ab084d596\n",
            "Successfully built docx2txt\n",
            "Installing collected packages: docx2txt\n",
            "Successfully installed docx2txt-0.8\n"
          ],
          "name": "stdout"
        }
      ]
    },
    {
      "cell_type": "markdown",
      "metadata": {
        "id": "ufeHJr3zT2Im"
      },
      "source": [
        "**Import Modules**\n",
        "\n",
        "---\n",
        "\n"
      ]
    },
    {
      "cell_type": "code",
      "metadata": {
        "id": "QHyMZJCwYzjN"
      },
      "source": [
        "from docx import Document\n",
        "import docx2txt\n",
        "import pandas as pd \n",
        "import string\n",
        "import os"
      ],
      "execution_count": 248,
      "outputs": []
    },
    {
      "cell_type": "markdown",
      "metadata": {
        "id": "lknKdjDMXwj6"
      },
      "source": [
        "**Import Data**\n",
        "\n",
        "---\n",
        "\n"
      ]
    },
    {
      "cell_type": "markdown",
      "metadata": {
        "id": "KO7XwHThwj8W"
      },
      "source": [
        "The functions of the **Import Data** section are implemented in such a way that you enter all the documents in (.docx) Format into the project by entering the path of your document folder.\n",
        "\n",
        "! This system has no limit on the number or volume of documents"
      ]
    },
    {
      "cell_type": "code",
      "metadata": {
        "id": "7YdukjKJF-DE"
      },
      "source": [
        "files=[]\n",
        "Text= []\n",
        "filesname= [] \n",
        "def importDocuments(path):\n",
        "  for r, d, f in os.walk(path):\n",
        "      for file in f:\n",
        "          if '.docx' in file:\n",
        "              files.append(os.path.join(r, file))\n",
        "              filesname.append(file.replace(\".docx\",\"\"))\n",
        "  print(\"Documents imported successfully\\nDocuments List :\\n\")\n",
        "  for f in files:\n",
        "      Text.append(docx2txt.process(f)) \n",
        "      print(f)"
      ],
      "execution_count": 249,
      "outputs": []
    },
    {
      "cell_type": "code",
      "metadata": {
        "id": "k2QxmlJxGnop",
        "outputId": "c2ccd964-079a-429a-8d7a-c2cebde5be6d",
        "colab": {
          "base_uri": "https://localhost:8080/"
        }
      },
      "source": [
        "importDocuments(input(\"input your folder path : \"))"
      ],
      "execution_count": 250,
      "outputs": [
        {
          "output_type": "stream",
          "text": [
            "input your folder path : /content/drive/My Drive/IR_Data\n",
            "Documents imported successfully\n",
            "Documents List :\n",
            "\n",
            "/content/drive/My Drive/IR_Data/DataScience.docx\n",
            "/content/drive/My Drive/IR_Data/Piet Mondrian.docx\n",
            "/content/drive/My Drive/IR_Data/Performance Art.docx\n"
          ],
          "name": "stdout"
        }
      ]
    },
    {
      "cell_type": "code",
      "metadata": {
        "id": "-fMUf_kmH8eH",
        "outputId": "7e21c357-c37e-49b7-e21d-24c23d7c7f99",
        "colab": {
          "base_uri": "https://localhost:8080/"
        }
      },
      "source": [
        "filesname"
      ],
      "execution_count": null,
      "outputs": [
        {
          "output_type": "execute_result",
          "data": {
            "text/plain": [
              "['DataScience', 'Piet Mondrian', 'Performance Art']"
            ]
          },
          "metadata": {
            "tags": []
          },
          "execution_count": 7
        }
      ]
    },
    {
      "cell_type": "markdown",
      "metadata": {
        "id": "ELaB_7Q6T9qT"
      },
      "source": [
        "\n",
        "\n",
        "**Data Prepration**\n",
        "\n",
        "---\n",
        "\n"
      ]
    },
    {
      "cell_type": "code",
      "metadata": {
        "id": "NcaA0jZaUNSJ"
      },
      "source": [
        "PText= []\n",
        "def Prepration(inputtext):\n",
        "  for ftext in inputtext:\n",
        "    RRM= ftext.translate(str.maketrans('', '', string.punctuation))\n",
        "    RRM= RRM.replace(\"\\n\",\"\")\n",
        "    PText.append(RRM.split())"
      ],
      "execution_count": 251,
      "outputs": []
    },
    {
      "cell_type": "code",
      "metadata": {
        "id": "Cf3ha-WUVE_S"
      },
      "source": [
        "Prepration(Text)"
      ],
      "execution_count": 252,
      "outputs": []
    },
    {
      "cell_type": "code",
      "metadata": {
        "id": "NupMd7gMmEl8",
        "outputId": "a5917225-8317-40f5-b4b9-ac1d7c147817",
        "colab": {
          "base_uri": "https://localhost:8080/"
        }
      },
      "source": [
        "PText[1]"
      ],
      "execution_count": 280,
      "outputs": [
        {
          "output_type": "execute_result",
          "data": {
            "text/plain": [
              "['WHO',\n",
              " 'IS',\n",
              " 'PIET',\n",
              " 'MONDRIANPiet',\n",
              " 'Mondrian',\n",
              " 'is',\n",
              " 'a',\n",
              " 'Dutch',\n",
              " 'artist',\n",
              " 'best',\n",
              " 'known',\n",
              " 'for',\n",
              " 'his',\n",
              " 'abstract',\n",
              " 'paintings',\n",
              " 'Art',\n",
              " 'that',\n",
              " 'is',\n",
              " 'abstract',\n",
              " 'does',\n",
              " 'not',\n",
              " 'show',\n",
              " 'things',\n",
              " 'that',\n",
              " 'are',\n",
              " 'recognisable',\n",
              " 'such',\n",
              " 'as',\n",
              " 'people',\n",
              " 'objects',\n",
              " 'or',\n",
              " 'landscapes',\n",
              " 'Instead',\n",
              " 'artists',\n",
              " 'use',\n",
              " 'colours',\n",
              " 'shapes',\n",
              " 'and',\n",
              " 'textures',\n",
              " 'to',\n",
              " 'achieve',\n",
              " 'their',\n",
              " 'effectAs',\n",
              " 'well',\n",
              " 'as',\n",
              " 'abstract',\n",
              " 'art',\n",
              " 'Mondrian',\n",
              " 'was',\n",
              " 'also',\n",
              " 'passionate',\n",
              " 'about',\n",
              " 'dancing',\n",
              " 'Apparently',\n",
              " 'he',\n",
              " 'didnt',\n",
              " 'like',\n",
              " 'slow',\n",
              " 'traditional',\n",
              " 'dances',\n",
              " 'like',\n",
              " 'waltzes',\n",
              " 'or',\n",
              " 'tango',\n",
              " 'but',\n",
              " 'enjoyed',\n",
              " 'high',\n",
              " 'energy',\n",
              " 'fast',\n",
              " 'dancing',\n",
              " 'styles',\n",
              " 'He',\n",
              " 'even',\n",
              " 'called',\n",
              " 'one',\n",
              " 'of',\n",
              " 'his',\n",
              " 'abstract',\n",
              " 'paintings',\n",
              " 'Broadway',\n",
              " 'Boogie',\n",
              " 'Woogie',\n",
              " 'after',\n",
              " 'a',\n",
              " 'popular',\n",
              " 'dance',\n",
              " 'of',\n",
              " 'the',\n",
              " 'timeWhen',\n",
              " 'Mondrian',\n",
              " 'made',\n",
              " 'his',\n",
              " 'paintings',\n",
              " 'he',\n",
              " 'would',\n",
              " 'always',\n",
              " 'mix',\n",
              " 'his',\n",
              " 'own',\n",
              " 'colours',\n",
              " 'never',\n",
              " 'using',\n",
              " 'the',\n",
              " 'paint',\n",
              " 'directly',\n",
              " 'out',\n",
              " 'of',\n",
              " 'a',\n",
              " 'tube',\n",
              " 'He',\n",
              " 'often',\n",
              " 'used',\n",
              " 'primary',\n",
              " 'colours',\n",
              " '–',\n",
              " 'red',\n",
              " 'yellow',\n",
              " 'and',\n",
              " 'blue',\n",
              " '–',\n",
              " 'as',\n",
              " 'in',\n",
              " 'this',\n",
              " 'paintingMondrian',\n",
              " 'did',\n",
              " 'not',\n",
              " 'use',\n",
              " 'a',\n",
              " 'ruler',\n",
              " 'to',\n",
              " 'measure',\n",
              " 'out',\n",
              " 'his',\n",
              " 'lines',\n",
              " 'He',\n",
              " 'thought',\n",
              " 'carefully',\n",
              " 'about',\n",
              " 'where',\n",
              " 'to',\n",
              " 'place',\n",
              " 'the',\n",
              " 'lines',\n",
              " 'like',\n",
              " 'those',\n",
              " 'that',\n",
              " 'you',\n",
              " 'see',\n",
              " 'in',\n",
              " 'this',\n",
              " 'painting',\n",
              " 'Notice',\n",
              " 'how',\n",
              " 'the',\n",
              " 'red',\n",
              " 'yellow',\n",
              " 'and',\n",
              " 'blue',\n",
              " 'are',\n",
              " 'placed',\n",
              " 'to',\n",
              " 'the',\n",
              " 'side',\n",
              " 'and',\n",
              " 'the',\n",
              " 'centre',\n",
              " 'of',\n",
              " 'painting',\n",
              " 'doesnt',\n",
              " 'have',\n",
              " 'any',\n",
              " 'colour',\n",
              " 'Mondrian',\n",
              " 'often',\n",
              " 'used',\n",
              " 'colour',\n",
              " 'and',\n",
              " 'composition',\n",
              " 'in',\n",
              " 'this',\n",
              " 'way',\n",
              " 'A',\n",
              " 'composition',\n",
              " 'is',\n",
              " 'the',\n",
              " 'arrangement',\n",
              " 'of',\n",
              " 'shapes',\n",
              " 'and',\n",
              " 'images',\n",
              " 'in',\n",
              " 'a',\n",
              " 'pictureAlthough',\n",
              " 'he',\n",
              " 'is',\n",
              " 'best',\n",
              " 'known',\n",
              " 'for',\n",
              " 'his',\n",
              " 'abstract',\n",
              " 'paintings',\n",
              " 'made',\n",
              " 'from',\n",
              " 'squares',\n",
              " 'and',\n",
              " 'rectangles',\n",
              " 'Piet',\n",
              " 'Mondrian',\n",
              " 'started',\n",
              " 'out',\n",
              " 'painting',\n",
              " 'realistic',\n",
              " 'scenes',\n",
              " 'He',\n",
              " 'especially',\n",
              " 'liked',\n",
              " 'painting',\n",
              " 'treesCan',\n",
              " 'you',\n",
              " 'see',\n",
              " 'the',\n",
              " 'shape',\n",
              " 'of',\n",
              " 'a',\n",
              " 'tree',\n",
              " 'in',\n",
              " 'this',\n",
              " 'painting',\n",
              " 'It',\n",
              " 'shows',\n",
              " 'how',\n",
              " 'he',\n",
              " 'began',\n",
              " 'to',\n",
              " 'develop',\n",
              " 'his',\n",
              " 'abstract',\n",
              " 'style',\n",
              " 'The',\n",
              " 'trunk',\n",
              " 'and',\n",
              " 'branches',\n",
              " 'of',\n",
              " 'the',\n",
              " 'tree',\n",
              " 'have',\n",
              " 'become',\n",
              " 'a',\n",
              " 'network',\n",
              " 'of',\n",
              " 'horizontal',\n",
              " 'and',\n",
              " 'vertical',\n",
              " 'linesIn',\n",
              " 'the',\n",
              " 'early',\n",
              " '19th',\n",
              " 'century',\n",
              " 'Paris',\n",
              " 'was',\n",
              " 'the',\n",
              " 'place',\n",
              " 'where',\n",
              " 'all',\n",
              " 'the',\n",
              " 'exciting',\n",
              " 'new',\n",
              " 'art',\n",
              " 'was',\n",
              " 'happening',\n",
              " 'and',\n",
              " 'Mondrian',\n",
              " 'felt',\n",
              " 'he',\n",
              " 'had',\n",
              " 'to',\n",
              " 'go',\n",
              " 'there',\n",
              " 'He',\n",
              " 'took',\n",
              " 'a',\n",
              " 'big',\n",
              " 'risk',\n",
              " 'for',\n",
              " 'his',\n",
              " 'art',\n",
              " 'He',\n",
              " 'left',\n",
              " 'behind',\n",
              " 'his',\n",
              " 'home',\n",
              " 'in',\n",
              " 'the',\n",
              " 'Netherlands',\n",
              " 'in',\n",
              " '1911',\n",
              " 'and',\n",
              " 'the',\n",
              " 'woman',\n",
              " 'he',\n",
              " 'was',\n",
              " 'going',\n",
              " 'to',\n",
              " 'marry',\n",
              " 'to',\n",
              " 'pursue',\n",
              " 'his',\n",
              " 'career',\n",
              " 'as',\n",
              " 'an',\n",
              " 'artist',\n",
              " 'in',\n",
              " 'ParisThis',\n",
              " 'is',\n",
              " 'the',\n",
              " 'Piet',\n",
              " 'Mondrian',\n",
              " 'in',\n",
              " 'his',\n",
              " 'Paris',\n",
              " 'studioThe',\n",
              " 'risk',\n",
              " 'paid',\n",
              " 'off',\n",
              " 'Mondrian',\n",
              " 'became',\n",
              " 'an',\n",
              " 'important',\n",
              " 'artist',\n",
              " 'whose',\n",
              " 'ideas',\n",
              " 'and',\n",
              " 'work',\n",
              " 'influenced',\n",
              " 'lots',\n",
              " 'of',\n",
              " 'later',\n",
              " 'artists',\n",
              " 'In',\n",
              " 'fact',\n",
              " 'it',\n",
              " 'wasnt',\n",
              " 'just',\n",
              " 'art',\n",
              " 'that',\n",
              " 'Mondrian',\n",
              " 'inspired',\n",
              " 'The',\n",
              " 'influence',\n",
              " 'of',\n",
              " 'his',\n",
              " 'paintings',\n",
              " 'can',\n",
              " 'be',\n",
              " 'seen',\n",
              " 'in',\n",
              " 'lots',\n",
              " 'of',\n",
              " 'other',\n",
              " 'things',\n",
              " '–',\n",
              " 'from',\n",
              " 'furniture',\n",
              " 'to',\n",
              " 'fashion']"
            ]
          },
          "metadata": {
            "tags": []
          },
          "execution_count": 280
        }
      ]
    },
    {
      "cell_type": "markdown",
      "metadata": {
        "id": "k1mTr4sSwzIK"
      },
      "source": [
        "\n",
        "\n",
        "**Create Table**\n",
        "\n",
        "---\n",
        "\n"
      ]
    },
    {
      "cell_type": "code",
      "metadata": {
        "id": "wQ7uBs0jMZ7U"
      },
      "source": [
        "Data_dic= {}\n",
        "def df_CSV():\n",
        "  a= len(filesname)\n",
        "  b= 0\n",
        "  Table= pd.DataFrame(Data_F,columns=['Word','Document'])\n",
        "  while b< len(filesname):\n",
        "    AT= Table.loc[Table['Document'] == filesname[b]]\n",
        "    b+= 1\n",
        "    a-= 1\n",
        "    AT= AT.drop_duplicates(subset=['Word'])\n",
        "    AT= AT.reset_index(drop=True)\n",
        "    Data_dic[filesname[b-1]]= AT"
      ],
      "execution_count": 253,
      "outputs": []
    },
    {
      "cell_type": "code",
      "metadata": {
        "id": "ZWh_C_sBgUBp"
      },
      "source": [
        "Data_F= []\n",
        "def CreateTable(inputdata,docname):\n",
        "  #Data_F=[len(docname)]\n",
        "  i= 0\n",
        "  a= len(docname)\n",
        "  while a!= 0:\n",
        "    Words_count= len(inputdata[a-1])\n",
        "    a-= 1\n",
        "    while Words_count != 0 :\n",
        "      ipt=[inputdata[a][Words_count-1],docname[a]]\n",
        "      Data_F.append(ipt)\n",
        "      Words_count= Words_count-1\n",
        "      i+=1\n",
        "    df_CSV()"
      ],
      "execution_count": 254,
      "outputs": []
    },
    {
      "cell_type": "code",
      "metadata": {
        "id": "30X1tv1TGcn1"
      },
      "source": [
        "CreateTable(PText, filesname)"
      ],
      "execution_count": 255,
      "outputs": []
    },
    {
      "cell_type": "code",
      "metadata": {
        "id": "Ho426boo2jMt",
        "outputId": "fafe92cd-789b-4e95-d287-45258e5c141d",
        "colab": {
          "base_uri": "https://localhost:8080/",
          "height": 424
        }
      },
      "source": [
        "Data_dic['Performance Art']"
      ],
      "execution_count": 256,
      "outputs": [
        {
          "output_type": "execute_result",
          "data": {
            "text/html": [
              "<div>\n",
              "<style scoped>\n",
              "    .dataframe tbody tr th:only-of-type {\n",
              "        vertical-align: middle;\n",
              "    }\n",
              "\n",
              "    .dataframe tbody tr th {\n",
              "        vertical-align: top;\n",
              "    }\n",
              "\n",
              "    .dataframe thead th {\n",
              "        text-align: right;\n",
              "    }\n",
              "</style>\n",
              "<table border=\"1\" class=\"dataframe\">\n",
              "  <thead>\n",
              "    <tr style=\"text-align: right;\">\n",
              "      <th></th>\n",
              "      <th>Word</th>\n",
              "      <th>Document</th>\n",
              "    </tr>\n",
              "  </thead>\n",
              "  <tbody>\n",
              "    <tr>\n",
              "      <th>0</th>\n",
              "      <td>Nevada</td>\n",
              "      <td>Performance Art</td>\n",
              "    </tr>\n",
              "    <tr>\n",
              "      <th>1</th>\n",
              "      <td>Desert</td>\n",
              "      <td>Performance Art</td>\n",
              "    </tr>\n",
              "    <tr>\n",
              "      <th>2</th>\n",
              "      <td>Rock</td>\n",
              "      <td>Performance Art</td>\n",
              "    </tr>\n",
              "    <tr>\n",
              "      <th>3</th>\n",
              "      <td>Black</td>\n",
              "      <td>Performance Art</td>\n",
              "    </tr>\n",
              "    <tr>\n",
              "      <th>4</th>\n",
              "      <td>the</td>\n",
              "      <td>Performance Art</td>\n",
              "    </tr>\n",
              "    <tr>\n",
              "      <th>...</th>\n",
              "      <td>...</td>\n",
              "      <td>...</td>\n",
              "    </tr>\n",
              "    <tr>\n",
              "      <th>298</th>\n",
              "      <td>features</td>\n",
              "      <td>Performance Art</td>\n",
              "    </tr>\n",
              "    <tr>\n",
              "      <th>299</th>\n",
              "      <td>typically</td>\n",
              "      <td>Performance Art</td>\n",
              "    </tr>\n",
              "    <tr>\n",
              "      <th>300</th>\n",
              "      <td>timebased</td>\n",
              "      <td>Performance Art</td>\n",
              "    </tr>\n",
              "    <tr>\n",
              "      <th>301</th>\n",
              "      <td>artPerformance</td>\n",
              "      <td>Performance Art</td>\n",
              "    </tr>\n",
              "    <tr>\n",
              "      <th>302</th>\n",
              "      <td>Performance</td>\n",
              "      <td>Performance Art</td>\n",
              "    </tr>\n",
              "  </tbody>\n",
              "</table>\n",
              "<p>303 rows × 2 columns</p>\n",
              "</div>"
            ],
            "text/plain": [
              "               Word         Document\n",
              "0            Nevada  Performance Art\n",
              "1            Desert  Performance Art\n",
              "2              Rock  Performance Art\n",
              "3             Black  Performance Art\n",
              "4               the  Performance Art\n",
              "..              ...              ...\n",
              "298        features  Performance Art\n",
              "299       typically  Performance Art\n",
              "300       timebased  Performance Art\n",
              "301  artPerformance  Performance Art\n",
              "302     Performance  Performance Art\n",
              "\n",
              "[303 rows x 2 columns]"
            ]
          },
          "metadata": {
            "tags": []
          },
          "execution_count": 256
        }
      ]
    },
    {
      "cell_type": "code",
      "metadata": {
        "id": "Sk9_FUaZnWu2"
      },
      "source": [
        "def Merge(input_table):\n",
        "  a=0\n",
        "  if a == 0:\n",
        "    output_table= pd.merge(input_table[filesname[a]], input_table[filesname[a+1]],on='Word',how='outer')\n",
        "    a+= 2\n",
        "  \n",
        "  while a!= len(filesname):\n",
        "    output_table = output_table.append(pd.merge(output_table, Data_dic[filesname[a]],on='Word',how='outer'))\n",
        "    a+= 1\n",
        "  return output_table"
      ],
      "execution_count": 257,
      "outputs": []
    },
    {
      "cell_type": "code",
      "metadata": {
        "id": "ie3A-GQDz51n"
      },
      "source": [
        "def fix_t(In_Da, fname):\n",
        "  for name in fname:\n",
        "    In_Da[name].columns= ['Word',name]\n",
        "  return In_Da"
      ],
      "execution_count": 258,
      "outputs": []
    },
    {
      "cell_type": "code",
      "metadata": {
        "id": "UCMOzwtc0teG"
      },
      "source": [
        "Data_dic= fix_t(Data_dic, filesname)"
      ],
      "execution_count": 259,
      "outputs": []
    },
    {
      "cell_type": "code",
      "metadata": {
        "id": "l-7Th7tG1NO-",
        "outputId": "2c0f40d1-89c9-4fcd-d61b-dcfbd1e7b23a",
        "colab": {
          "base_uri": "https://localhost:8080/",
          "height": 424
        }
      },
      "source": [
        "Data_dic['DataScience']"
      ],
      "execution_count": 260,
      "outputs": [
        {
          "output_type": "execute_result",
          "data": {
            "text/html": [
              "<div>\n",
              "<style scoped>\n",
              "    .dataframe tbody tr th:only-of-type {\n",
              "        vertical-align: middle;\n",
              "    }\n",
              "\n",
              "    .dataframe tbody tr th {\n",
              "        vertical-align: top;\n",
              "    }\n",
              "\n",
              "    .dataframe thead th {\n",
              "        text-align: right;\n",
              "    }\n",
              "</style>\n",
              "<table border=\"1\" class=\"dataframe\">\n",
              "  <thead>\n",
              "    <tr style=\"text-align: right;\">\n",
              "      <th></th>\n",
              "      <th>Word</th>\n",
              "      <th>DataScience</th>\n",
              "    </tr>\n",
              "  </thead>\n",
              "  <tbody>\n",
              "    <tr>\n",
              "      <th>0</th>\n",
              "      <td>articles</td>\n",
              "      <td>DataScience</td>\n",
              "    </tr>\n",
              "    <tr>\n",
              "      <th>1</th>\n",
              "      <td>future</td>\n",
              "      <td>DataScience</td>\n",
              "    </tr>\n",
              "    <tr>\n",
              "      <th>2</th>\n",
              "      <td>in</td>\n",
              "      <td>DataScience</td>\n",
              "    </tr>\n",
              "    <tr>\n",
              "      <th>3</th>\n",
              "      <td>concepts</td>\n",
              "      <td>DataScience</td>\n",
              "    </tr>\n",
              "    <tr>\n",
              "      <th>4</th>\n",
              "      <td>deeper</td>\n",
              "      <td>DataScience</td>\n",
              "    </tr>\n",
              "    <tr>\n",
              "      <th>...</th>\n",
              "      <td>...</td>\n",
              "      <td>...</td>\n",
              "    </tr>\n",
              "    <tr>\n",
              "      <th>640</th>\n",
              "      <td>KIAU22An</td>\n",
              "      <td>DataScience</td>\n",
              "    </tr>\n",
              "    <tr>\n",
              "      <th>641</th>\n",
              "      <td>Community</td>\n",
              "      <td>DataScience</td>\n",
              "    </tr>\n",
              "    <tr>\n",
              "      <th>642</th>\n",
              "      <td>Engineering</td>\n",
              "      <td>DataScience</td>\n",
              "    </tr>\n",
              "    <tr>\n",
              "      <th>643</th>\n",
              "      <td>KIAUComputer</td>\n",
              "      <td>DataScience</td>\n",
              "    </tr>\n",
              "    <tr>\n",
              "      <th>644</th>\n",
              "      <td>Computer</td>\n",
              "      <td>DataScience</td>\n",
              "    </tr>\n",
              "  </tbody>\n",
              "</table>\n",
              "<p>645 rows × 2 columns</p>\n",
              "</div>"
            ],
            "text/plain": [
              "             Word  DataScience\n",
              "0        articles  DataScience\n",
              "1          future  DataScience\n",
              "2              in  DataScience\n",
              "3        concepts  DataScience\n",
              "4          deeper  DataScience\n",
              "..            ...          ...\n",
              "640      KIAU22An  DataScience\n",
              "641     Community  DataScience\n",
              "642   Engineering  DataScience\n",
              "643  KIAUComputer  DataScience\n",
              "644      Computer  DataScience\n",
              "\n",
              "[645 rows x 2 columns]"
            ]
          },
          "metadata": {
            "tags": []
          },
          "execution_count": 260
        }
      ]
    },
    {
      "cell_type": "code",
      "metadata": {
        "id": "d7_e40sttc_H"
      },
      "source": [
        "MData= Merge(Data_dic)"
      ],
      "execution_count": 261,
      "outputs": []
    },
    {
      "cell_type": "code",
      "metadata": {
        "id": "A6jzE_uZwyF6",
        "outputId": "0c2fb1ea-5bf0-4e93-fcea-6550b1e1f82a",
        "colab": {
          "base_uri": "https://localhost:8080/",
          "height": 424
        }
      },
      "source": [
        "MData"
      ],
      "execution_count": 262,
      "outputs": [
        {
          "output_type": "execute_result",
          "data": {
            "text/html": [
              "<div>\n",
              "<style scoped>\n",
              "    .dataframe tbody tr th:only-of-type {\n",
              "        vertical-align: middle;\n",
              "    }\n",
              "\n",
              "    .dataframe tbody tr th {\n",
              "        vertical-align: top;\n",
              "    }\n",
              "\n",
              "    .dataframe thead th {\n",
              "        text-align: right;\n",
              "    }\n",
              "</style>\n",
              "<table border=\"1\" class=\"dataframe\">\n",
              "  <thead>\n",
              "    <tr style=\"text-align: right;\">\n",
              "      <th></th>\n",
              "      <th>Word</th>\n",
              "      <th>DataScience</th>\n",
              "      <th>Piet Mondrian</th>\n",
              "      <th>Performance Art</th>\n",
              "    </tr>\n",
              "  </thead>\n",
              "  <tbody>\n",
              "    <tr>\n",
              "      <th>0</th>\n",
              "      <td>articles</td>\n",
              "      <td>DataScience</td>\n",
              "      <td>NaN</td>\n",
              "      <td>NaN</td>\n",
              "    </tr>\n",
              "    <tr>\n",
              "      <th>1</th>\n",
              "      <td>future</td>\n",
              "      <td>DataScience</td>\n",
              "      <td>NaN</td>\n",
              "      <td>NaN</td>\n",
              "    </tr>\n",
              "    <tr>\n",
              "      <th>2</th>\n",
              "      <td>in</td>\n",
              "      <td>DataScience</td>\n",
              "      <td>Piet Mondrian</td>\n",
              "      <td>NaN</td>\n",
              "    </tr>\n",
              "    <tr>\n",
              "      <th>3</th>\n",
              "      <td>concepts</td>\n",
              "      <td>DataScience</td>\n",
              "      <td>NaN</td>\n",
              "      <td>NaN</td>\n",
              "    </tr>\n",
              "    <tr>\n",
              "      <th>4</th>\n",
              "      <td>deeper</td>\n",
              "      <td>DataScience</td>\n",
              "      <td>NaN</td>\n",
              "      <td>NaN</td>\n",
              "    </tr>\n",
              "    <tr>\n",
              "      <th>...</th>\n",
              "      <td>...</td>\n",
              "      <td>...</td>\n",
              "      <td>...</td>\n",
              "      <td>...</td>\n",
              "    </tr>\n",
              "    <tr>\n",
              "      <th>1004</th>\n",
              "      <td>onlookers</td>\n",
              "      <td>NaN</td>\n",
              "      <td>NaN</td>\n",
              "      <td>Performance Art</td>\n",
              "    </tr>\n",
              "    <tr>\n",
              "      <th>1005</th>\n",
              "      <td>typically</td>\n",
              "      <td>NaN</td>\n",
              "      <td>NaN</td>\n",
              "      <td>Performance Art</td>\n",
              "    </tr>\n",
              "    <tr>\n",
              "      <th>1006</th>\n",
              "      <td>timebased</td>\n",
              "      <td>NaN</td>\n",
              "      <td>NaN</td>\n",
              "      <td>Performance Art</td>\n",
              "    </tr>\n",
              "    <tr>\n",
              "      <th>1007</th>\n",
              "      <td>artPerformance</td>\n",
              "      <td>NaN</td>\n",
              "      <td>NaN</td>\n",
              "      <td>Performance Art</td>\n",
              "    </tr>\n",
              "    <tr>\n",
              "      <th>1008</th>\n",
              "      <td>Performance</td>\n",
              "      <td>NaN</td>\n",
              "      <td>NaN</td>\n",
              "      <td>Performance Art</td>\n",
              "    </tr>\n",
              "  </tbody>\n",
              "</table>\n",
              "<p>1787 rows × 4 columns</p>\n",
              "</div>"
            ],
            "text/plain": [
              "                Word  DataScience  Piet Mondrian  Performance Art\n",
              "0           articles  DataScience            NaN              NaN\n",
              "1             future  DataScience            NaN              NaN\n",
              "2                 in  DataScience  Piet Mondrian              NaN\n",
              "3           concepts  DataScience            NaN              NaN\n",
              "4             deeper  DataScience            NaN              NaN\n",
              "...              ...          ...            ...              ...\n",
              "1004       onlookers          NaN            NaN  Performance Art\n",
              "1005       typically          NaN            NaN  Performance Art\n",
              "1006       timebased          NaN            NaN  Performance Art\n",
              "1007  artPerformance          NaN            NaN  Performance Art\n",
              "1008     Performance          NaN            NaN  Performance Art\n",
              "\n",
              "[1787 rows x 4 columns]"
            ]
          },
          "metadata": {
            "tags": []
          },
          "execution_count": 262
        }
      ]
    },
    {
      "cell_type": "code",
      "metadata": {
        "id": "B6bCOTUC-iZW"
      },
      "source": [
        "def SetValue(IN_D,IN_N):\n",
        "  for name in IN_N:\n",
        "    print(name)\n",
        "    IN_D.loc[IN_D[name]== name, name] = 1\n",
        "    IN_D = IN_D.reset_index(drop=True)\n",
        "  return IN_D"
      ],
      "execution_count": 263,
      "outputs": []
    },
    {
      "cell_type": "code",
      "metadata": {
        "id": "eRtPCyOUb50z",
        "outputId": "94866011-78b5-4c7a-ce7a-0c88cee1570b",
        "colab": {
          "base_uri": "https://localhost:8080/"
        }
      },
      "source": [
        "filesname"
      ],
      "execution_count": 264,
      "outputs": [
        {
          "output_type": "execute_result",
          "data": {
            "text/plain": [
              "['DataScience', 'Piet Mondrian', 'Performance Art']"
            ]
          },
          "metadata": {
            "tags": []
          },
          "execution_count": 264
        }
      ]
    },
    {
      "cell_type": "code",
      "metadata": {
        "id": "lc59YFc__ijL",
        "outputId": "f0f3996d-fa86-4205-e477-ab64833ca7af",
        "colab": {
          "base_uri": "https://localhost:8080/",
          "height": 479
        }
      },
      "source": [
        "termdocument= SetValue(MData, filesname)\n",
        "termdocument= termdocument.fillna(0)\n",
        "termdocument"
      ],
      "execution_count": 265,
      "outputs": [
        {
          "output_type": "stream",
          "text": [
            "DataScience\n",
            "Piet Mondrian\n",
            "Performance Art\n"
          ],
          "name": "stdout"
        },
        {
          "output_type": "execute_result",
          "data": {
            "text/html": [
              "<div>\n",
              "<style scoped>\n",
              "    .dataframe tbody tr th:only-of-type {\n",
              "        vertical-align: middle;\n",
              "    }\n",
              "\n",
              "    .dataframe tbody tr th {\n",
              "        vertical-align: top;\n",
              "    }\n",
              "\n",
              "    .dataframe thead th {\n",
              "        text-align: right;\n",
              "    }\n",
              "</style>\n",
              "<table border=\"1\" class=\"dataframe\">\n",
              "  <thead>\n",
              "    <tr style=\"text-align: right;\">\n",
              "      <th></th>\n",
              "      <th>Word</th>\n",
              "      <th>DataScience</th>\n",
              "      <th>Piet Mondrian</th>\n",
              "      <th>Performance Art</th>\n",
              "    </tr>\n",
              "  </thead>\n",
              "  <tbody>\n",
              "    <tr>\n",
              "      <th>0</th>\n",
              "      <td>articles</td>\n",
              "      <td>1</td>\n",
              "      <td>0</td>\n",
              "      <td>0</td>\n",
              "    </tr>\n",
              "    <tr>\n",
              "      <th>1</th>\n",
              "      <td>future</td>\n",
              "      <td>1</td>\n",
              "      <td>0</td>\n",
              "      <td>0</td>\n",
              "    </tr>\n",
              "    <tr>\n",
              "      <th>2</th>\n",
              "      <td>in</td>\n",
              "      <td>1</td>\n",
              "      <td>1</td>\n",
              "      <td>0</td>\n",
              "    </tr>\n",
              "    <tr>\n",
              "      <th>3</th>\n",
              "      <td>concepts</td>\n",
              "      <td>1</td>\n",
              "      <td>0</td>\n",
              "      <td>0</td>\n",
              "    </tr>\n",
              "    <tr>\n",
              "      <th>4</th>\n",
              "      <td>deeper</td>\n",
              "      <td>1</td>\n",
              "      <td>0</td>\n",
              "      <td>0</td>\n",
              "    </tr>\n",
              "    <tr>\n",
              "      <th>...</th>\n",
              "      <td>...</td>\n",
              "      <td>...</td>\n",
              "      <td>...</td>\n",
              "      <td>...</td>\n",
              "    </tr>\n",
              "    <tr>\n",
              "      <th>1782</th>\n",
              "      <td>onlookers</td>\n",
              "      <td>0</td>\n",
              "      <td>0</td>\n",
              "      <td>1</td>\n",
              "    </tr>\n",
              "    <tr>\n",
              "      <th>1783</th>\n",
              "      <td>typically</td>\n",
              "      <td>0</td>\n",
              "      <td>0</td>\n",
              "      <td>1</td>\n",
              "    </tr>\n",
              "    <tr>\n",
              "      <th>1784</th>\n",
              "      <td>timebased</td>\n",
              "      <td>0</td>\n",
              "      <td>0</td>\n",
              "      <td>1</td>\n",
              "    </tr>\n",
              "    <tr>\n",
              "      <th>1785</th>\n",
              "      <td>artPerformance</td>\n",
              "      <td>0</td>\n",
              "      <td>0</td>\n",
              "      <td>1</td>\n",
              "    </tr>\n",
              "    <tr>\n",
              "      <th>1786</th>\n",
              "      <td>Performance</td>\n",
              "      <td>0</td>\n",
              "      <td>0</td>\n",
              "      <td>1</td>\n",
              "    </tr>\n",
              "  </tbody>\n",
              "</table>\n",
              "<p>1787 rows × 4 columns</p>\n",
              "</div>"
            ],
            "text/plain": [
              "                Word  DataScience  Piet Mondrian  Performance Art\n",
              "0           articles            1              0                0\n",
              "1             future            1              0                0\n",
              "2                 in            1              1                0\n",
              "3           concepts            1              0                0\n",
              "4             deeper            1              0                0\n",
              "...              ...          ...            ...              ...\n",
              "1782       onlookers            0              0                1\n",
              "1783       typically            0              0                1\n",
              "1784       timebased            0              0                1\n",
              "1785  artPerformance            0              0                1\n",
              "1786     Performance            0              0                1\n",
              "\n",
              "[1787 rows x 4 columns]"
            ]
          },
          "metadata": {
            "tags": []
          },
          "execution_count": 265
        }
      ]
    },
    {
      "cell_type": "code",
      "metadata": {
        "id": "ynTv6qGkBkUj",
        "outputId": "5ede704a-372a-4db5-bc34-396a55683ea6",
        "colab": {
          "base_uri": "https://localhost:8080/"
        }
      },
      "source": [
        "termdocument.head"
      ],
      "execution_count": 266,
      "outputs": [
        {
          "output_type": "execute_result",
          "data": {
            "text/plain": [
              "<bound method NDFrame.head of                 Word  DataScience  Piet Mondrian  Performance Art\n",
              "0           articles            1              0                0\n",
              "1             future            1              0                0\n",
              "2                 in            1              1                0\n",
              "3           concepts            1              0                0\n",
              "4             deeper            1              0                0\n",
              "...              ...          ...            ...              ...\n",
              "1782       onlookers            0              0                1\n",
              "1783       typically            0              0                1\n",
              "1784       timebased            0              0                1\n",
              "1785  artPerformance            0              0                1\n",
              "1786     Performance            0              0                1\n",
              "\n",
              "[1787 rows x 4 columns]>"
            ]
          },
          "metadata": {
            "tags": []
          },
          "execution_count": 266
        }
      ]
    },
    {
      "cell_type": "code",
      "metadata": {
        "id": "mokkrfPbBoGv",
        "outputId": "355427e7-d10f-4d0d-874f-c4ba36c0e92c",
        "colab": {
          "base_uri": "https://localhost:8080/"
        }
      },
      "source": [
        "termdocument.columns"
      ],
      "execution_count": 267,
      "outputs": [
        {
          "output_type": "execute_result",
          "data": {
            "text/plain": [
              "Index(['Word', 'DataScience', 'Piet Mondrian', 'Performance Art'], dtype='object')"
            ]
          },
          "metadata": {
            "tags": []
          },
          "execution_count": 267
        }
      ]
    },
    {
      "cell_type": "markdown",
      "metadata": {
        "id": "av43RXvNAsHm"
      },
      "source": [
        "\n",
        "\n",
        "**term document incidence matrix**\n",
        "\n",
        "\n",
        "---\n",
        "\n"
      ]
    },
    {
      "cell_type": "code",
      "metadata": {
        "id": "wEk7LTNxAhFf"
      },
      "source": [
        "termdocument_Matrix= termdocument.to_numpy()"
      ],
      "execution_count": 268,
      "outputs": []
    },
    {
      "cell_type": "code",
      "metadata": {
        "id": "diYmeXp0Az4e",
        "outputId": "7782b123-52cd-438a-aba1-b0959d3d1e98",
        "colab": {
          "base_uri": "https://localhost:8080/"
        }
      },
      "source": [
        "termdocument_Matrix[0:30]"
      ],
      "execution_count": 269,
      "outputs": [
        {
          "output_type": "execute_result",
          "data": {
            "text/plain": [
              "array([['articles', 1, 0, 0],\n",
              "       ['future', 1, 0, 0],\n",
              "       ['in', 1, 1, 0],\n",
              "       ['concepts', 1, 0, 0],\n",
              "       ['deeper', 1, 0, 0],\n",
              "       ['over', 1, 0, 0],\n",
              "       ['go', 1, 1, 0],\n",
              "       ['to', 1, 1, 0],\n",
              "       ['try', 1, 0, 0],\n",
              "       ['will', 1, 0, 0],\n",
              "       ['We', 1, 0, 0],\n",
              "       ['field', 1, 0, 0],\n",
              "       ['this', 1, 1, 0],\n",
              "       ['of', 1, 1, 0],\n",
              "       ['terms', 1, 0, 0],\n",
              "       ['important', 1, 1, 0],\n",
              "       ['and', 1, 1, 0],\n",
              "       ['basic', 1, 0, 0],\n",
              "       ['most', 1, 0, 0],\n",
              "       ['the', 1, 1, 0],\n",
              "       ['some', 1, 0, 0],\n",
              "       ['explain', 1, 0, 0],\n",
              "       ['tried', 1, 0, 0],\n",
              "       ['we', 1, 0, 0],\n",
              "       ['article', 1, 0, 0],\n",
              "       ['In', 1, 1, 0],\n",
              "       ['scientist', 1, 0, 0],\n",
              "       ['data', 1, 0, 0],\n",
              "       ['every', 1, 0, 0],\n",
              "       ['for', 1, 1, 0]], dtype=object)"
            ]
          },
          "metadata": {
            "tags": []
          },
          "execution_count": 269
        }
      ]
    },
    {
      "cell_type": "markdown",
      "metadata": {
        "id": "z5UEQQe5Zyrn"
      },
      "source": [
        "\n",
        "**Inverted Indexes**\n",
        "\n",
        "---\n",
        "\n"
      ]
    },
    {
      "cell_type": "code",
      "metadata": {
        "id": "QqivJnDrdfr3",
        "outputId": "30e5bb40-c73d-46cc-8fb0-ffe3c6fd0d4f",
        "colab": {
          "base_uri": "https://localhost:8080/"
        }
      },
      "source": [
        "IIList= termdocument.values.tolist()\n",
        "IIList[0:5]"
      ],
      "execution_count": 270,
      "outputs": [
        {
          "output_type": "execute_result",
          "data": {
            "text/plain": [
              "[['articles', 1, 0, 0],\n",
              " ['future', 1, 0, 0],\n",
              " ['in', 1, 1, 0],\n",
              " ['concepts', 1, 0, 0],\n",
              " ['deeper', 1, 0, 0]]"
            ]
          },
          "metadata": {
            "tags": []
          },
          "execution_count": 270
        }
      ]
    },
    {
      "cell_type": "code",
      "metadata": {
        "id": "TI7IrZ4hgIUG",
        "outputId": "28af33e0-99e0-4620-f429-fa360f344ca4",
        "colab": {
          "base_uri": "https://localhost:8080/"
        }
      },
      "source": [
        "len(IIList[0])"
      ],
      "execution_count": 271,
      "outputs": [
        {
          "output_type": "execute_result",
          "data": {
            "text/plain": [
              "4"
            ]
          },
          "metadata": {
            "tags": []
          },
          "execution_count": 271
        }
      ]
    },
    {
      "cell_type": "code",
      "metadata": {
        "id": "7AnSdGdoUqQs"
      },
      "source": [
        "def I_I_T(dlist):\n",
        "  l= len(dlist[0])-1\n",
        "  dl= []\n",
        "  for i in dlist:\n",
        "    for a in range(1, len(i)):\n",
        "      if i[a]== 1:\n",
        "        i[a]= a\n",
        "      if i[a]== 0:\n",
        "        i[a]= \"\"\n",
        "    dl.append(i)\n",
        "  return dl\n"
      ],
      "execution_count": 272,
      "outputs": []
    },
    {
      "cell_type": "code",
      "metadata": {
        "id": "hOZEsB41NpFx"
      },
      "source": [
        "Inverted_Index= I_I_T(IIList)"
      ],
      "execution_count": 273,
      "outputs": []
    },
    {
      "cell_type": "code",
      "metadata": {
        "id": "yb83gsyxigqs",
        "outputId": "e1f2ecdc-08c5-4e34-a9d4-01b9966ec18a",
        "colab": {
          "base_uri": "https://localhost:8080/"
        }
      },
      "source": [
        "Inverted_Index[:10]"
      ],
      "execution_count": 274,
      "outputs": [
        {
          "output_type": "execute_result",
          "data": {
            "text/plain": [
              "[['articles', 1, '', ''],\n",
              " ['future', 1, '', ''],\n",
              " ['in', 1, 2, ''],\n",
              " ['concepts', 1, '', ''],\n",
              " ['deeper', 1, '', ''],\n",
              " ['over', 1, '', ''],\n",
              " ['go', 1, 2, ''],\n",
              " ['to', 1, 2, ''],\n",
              " ['try', 1, '', ''],\n",
              " ['will', 1, '', '']]"
            ]
          },
          "metadata": {
            "tags": []
          },
          "execution_count": 274
        }
      ]
    },
    {
      "cell_type": "code",
      "metadata": {
        "id": "UeVQCRXch8yl"
      },
      "source": [
        "def RemoveNull(D_IN):\n",
        "  D_out= []\n",
        "  for r in D_IN:\n",
        "    while (\"\" in r):\n",
        "      r.remove(\"\")\n",
        "    D_out.append(r)\n",
        "  return D_out"
      ],
      "execution_count": 275,
      "outputs": []
    },
    {
      "cell_type": "code",
      "metadata": {
        "id": "RZu8vOB5iV1R"
      },
      "source": [
        "Inverted_Index= RemoveNull(Inverted_Index)"
      ],
      "execution_count": 276,
      "outputs": []
    },
    {
      "cell_type": "code",
      "metadata": {
        "id": "Ehzfcb9YjeS6",
        "outputId": "b45f5021-881c-442d-9ffd-d25f21d555d4",
        "colab": {
          "base_uri": "https://localhost:8080/"
        }
      },
      "source": [
        "Inverted_Index[:10]"
      ],
      "execution_count": 322,
      "outputs": [
        {
          "output_type": "execute_result",
          "data": {
            "text/plain": [
              "[['articles', 1],\n",
              " ['future', 1],\n",
              " ['in', 1, 2],\n",
              " ['concepts', 1],\n",
              " ['deeper', 1],\n",
              " ['over', 1],\n",
              " ['go', 1, 2],\n",
              " ['to', 1, 2],\n",
              " ['try', 1],\n",
              " ['will', 1]]"
            ]
          },
          "metadata": {
            "tags": []
          },
          "execution_count": 322
        }
      ]
    },
    {
      "cell_type": "markdown",
      "metadata": {
        "id": "XVMtI4rrOoNK"
      },
      "source": [
        "**List Post**\n",
        "\n",
        "---\n",
        "\n"
      ]
    },
    {
      "cell_type": "code",
      "metadata": {
        "id": "euNpMI4MQ41D"
      },
      "source": [
        "def ClP(Data_in):\n",
        "  D_out= []\n",
        "  a= 0\n",
        "  for i in Data_in:\n",
        "    D_out.append([a,i])\n",
        "    a+= 1\n",
        "  return D_out\n"
      ],
      "execution_count": 331,
      "outputs": []
    },
    {
      "cell_type": "code",
      "metadata": {
        "id": "4y-aw9W0TR3F"
      },
      "source": [
        "def  Coll(Data_in):\n",
        "  Data_out= []\n",
        "  for i in Data_in:\n",
        "    Data_out.append(ClP(i))\n",
        "  return Data_out"
      ],
      "execution_count": 353,
      "outputs": []
    },
    {
      "cell_type": "code",
      "metadata": {
        "id": "nz4NSPNoXpMt"
      },
      "source": [
        "cLP = Coll(PText)"
      ],
      "execution_count": 354,
      "outputs": []
    },
    {
      "cell_type": "code",
      "metadata": {
        "id": "r4uCapTjX4yD",
        "outputId": "8812d18e-c1fd-4b59-da84-6d7d68fa8b69",
        "colab": {
          "base_uri": "https://localhost:8080/"
        }
      },
      "source": [
        "cLP[0][0:5]"
      ],
      "execution_count": 355,
      "outputs": [
        {
          "output_type": "execute_result",
          "data": {
            "text/plain": [
              "[[0, 'Computer'],\n",
              " [1, 'Engineering'],\n",
              " [2, 'Community'],\n",
              " [3, 'KIAUComputer'],\n",
              " [4, 'Engineering']]"
            ]
          },
          "metadata": {
            "tags": []
          },
          "execution_count": 355
        }
      ]
    },
    {
      "cell_type": "code",
      "metadata": {
        "id": "B4sGCiHUZAab"
      },
      "source": [
        "def Create_listPost(Data_in,doc_name):\n",
        "  Data_out= []\n",
        "  a= 0\n",
        "  for i in Data_in:\n",
        "    Data_out.append(pd.DataFrame(i,columns=['Position',doc_name[a]])) \n",
        "    Data_out[a] = Data_out[a]['Position'].groupby([Data_out[a][doc_name[a]]]).apply(list).reset_index()\n",
        "    a+= 1\n",
        "  return Data_out"
      ],
      "execution_count": 403,
      "outputs": []
    },
    {
      "cell_type": "code",
      "metadata": {
        "id": "91nXScfwYUCN"
      },
      "source": [
        "cLP= Create_listPost(cLP,filesname)"
      ],
      "execution_count": 404,
      "outputs": []
    },
    {
      "cell_type": "code",
      "metadata": {
        "id": "t2vJ7lKNbJ_X"
      },
      "source": [
        "Table = cLP[0]['Position'].groupby([cLP[0]['DataScience']]).apply(list).reset_index()"
      ],
      "execution_count": 395,
      "outputs": []
    },
    {
      "cell_type": "code",
      "metadata": {
        "id": "6hsuQnLBd15O",
        "outputId": "f4f26a90-1841-4a3d-8c5f-15d27bc1f040",
        "colab": {
          "base_uri": "https://localhost:8080/",
          "height": 424
        }
      },
      "source": [
        "cLP[0]"
      ],
      "execution_count": 405,
      "outputs": [
        {
          "output_type": "execute_result",
          "data": {
            "text/html": [
              "<div>\n",
              "<style scoped>\n",
              "    .dataframe tbody tr th:only-of-type {\n",
              "        vertical-align: middle;\n",
              "    }\n",
              "\n",
              "    .dataframe tbody tr th {\n",
              "        vertical-align: top;\n",
              "    }\n",
              "\n",
              "    .dataframe thead th {\n",
              "        text-align: right;\n",
              "    }\n",
              "</style>\n",
              "<table border=\"1\" class=\"dataframe\">\n",
              "  <thead>\n",
              "    <tr style=\"text-align: right;\">\n",
              "      <th></th>\n",
              "      <th>DataScience</th>\n",
              "      <th>Position</th>\n",
              "    </tr>\n",
              "  </thead>\n",
              "  <tbody>\n",
              "    <tr>\n",
              "      <th>0</th>\n",
              "      <td>According</td>\n",
              "      <td>[1704]</td>\n",
              "    </tr>\n",
              "    <tr>\n",
              "      <th>1</th>\n",
              "      <td>Afterwards</td>\n",
              "      <td>[1394]</td>\n",
              "    </tr>\n",
              "    <tr>\n",
              "      <th>2</th>\n",
              "      <td>All</td>\n",
              "      <td>[409]</td>\n",
              "    </tr>\n",
              "    <tr>\n",
              "      <th>3</th>\n",
              "      <td>Amazon</td>\n",
              "      <td>[1510, 1512]</td>\n",
              "    </tr>\n",
              "    <tr>\n",
              "      <th>4</th>\n",
              "      <td>Arash</td>\n",
              "      <td>[12]</td>\n",
              "    </tr>\n",
              "    <tr>\n",
              "      <th>...</th>\n",
              "      <td>...</td>\n",
              "      <td>...</td>\n",
              "    </tr>\n",
              "    <tr>\n",
              "      <th>640</th>\n",
              "      <td>you</td>\n",
              "      <td>[71, 102, 244, 313, 401, 1017, 1025, 1042, 108...</td>\n",
              "    </tr>\n",
              "    <tr>\n",
              "      <th>641</th>\n",
              "      <td>your</td>\n",
              "      <td>[193, 200, 204, 207, 1228, 1366]</td>\n",
              "    </tr>\n",
              "    <tr>\n",
              "      <th>642</th>\n",
              "      <td>“a</td>\n",
              "      <td>[953]</td>\n",
              "    </tr>\n",
              "    <tr>\n",
              "      <th>643</th>\n",
              "      <td>“horse”</td>\n",
              "      <td>[1454]</td>\n",
              "    </tr>\n",
              "    <tr>\n",
              "      <th>644</th>\n",
              "      <td>…</td>\n",
              "      <td>[1588]</td>\n",
              "    </tr>\n",
              "  </tbody>\n",
              "</table>\n",
              "<p>645 rows × 2 columns</p>\n",
              "</div>"
            ],
            "text/plain": [
              "    DataScience                                           Position\n",
              "0     According                                             [1704]\n",
              "1    Afterwards                                             [1394]\n",
              "2           All                                              [409]\n",
              "3        Amazon                                       [1510, 1512]\n",
              "4         Arash                                               [12]\n",
              "..          ...                                                ...\n",
              "640         you  [71, 102, 244, 313, 401, 1017, 1025, 1042, 108...\n",
              "641        your                   [193, 200, 204, 207, 1228, 1366]\n",
              "642          “a                                              [953]\n",
              "643     “horse”                                             [1454]\n",
              "644           …                                             [1588]\n",
              "\n",
              "[645 rows x 2 columns]"
            ]
          },
          "metadata": {
            "tags": []
          },
          "execution_count": 405
        }
      ]
    },
    {
      "cell_type": "code",
      "metadata": {
        "id": "Af9HwpjqeCtg",
        "outputId": "efba36cf-98dc-467f-bd79-a4e77d388702",
        "colab": {
          "base_uri": "https://localhost:8080/",
          "height": 363
        }
      },
      "source": [
        "cLP[1][10:20]"
      ],
      "execution_count": 414,
      "outputs": [
        {
          "output_type": "execute_result",
          "data": {
            "text/html": [
              "<div>\n",
              "<style scoped>\n",
              "    .dataframe tbody tr th:only-of-type {\n",
              "        vertical-align: middle;\n",
              "    }\n",
              "\n",
              "    .dataframe tbody tr th {\n",
              "        vertical-align: top;\n",
              "    }\n",
              "\n",
              "    .dataframe thead th {\n",
              "        text-align: right;\n",
              "    }\n",
              "</style>\n",
              "<table border=\"1\" class=\"dataframe\">\n",
              "  <thead>\n",
              "    <tr style=\"text-align: right;\">\n",
              "      <th></th>\n",
              "      <th>Piet Mondrian</th>\n",
              "      <th>Position</th>\n",
              "    </tr>\n",
              "  </thead>\n",
              "  <tbody>\n",
              "    <tr>\n",
              "      <th>10</th>\n",
              "      <td>In</td>\n",
              "      <td>[338]</td>\n",
              "    </tr>\n",
              "    <tr>\n",
              "      <th>11</th>\n",
              "      <td>Instead</td>\n",
              "      <td>[32]</td>\n",
              "    </tr>\n",
              "    <tr>\n",
              "      <th>12</th>\n",
              "      <td>It</td>\n",
              "      <td>[228]</td>\n",
              "    </tr>\n",
              "    <tr>\n",
              "      <th>13</th>\n",
              "      <td>MONDRIANPiet</td>\n",
              "      <td>[3]</td>\n",
              "    </tr>\n",
              "    <tr>\n",
              "      <th>14</th>\n",
              "      <td>Mondrian</td>\n",
              "      <td>[4, 47, 89, 172, 207, 271, 316, 324, 345]</td>\n",
              "    </tr>\n",
              "    <tr>\n",
              "      <th>15</th>\n",
              "      <td>Netherlands</td>\n",
              "      <td>[293]</td>\n",
              "    </tr>\n",
              "    <tr>\n",
              "      <th>16</th>\n",
              "      <td>Notice</td>\n",
              "      <td>[151]</td>\n",
              "    </tr>\n",
              "    <tr>\n",
              "      <th>17</th>\n",
              "      <td>PIET</td>\n",
              "      <td>[2]</td>\n",
              "    </tr>\n",
              "    <tr>\n",
              "      <th>18</th>\n",
              "      <td>Paris</td>\n",
              "      <td>[258, 319]</td>\n",
              "    </tr>\n",
              "    <tr>\n",
              "      <th>19</th>\n",
              "      <td>ParisThis</td>\n",
              "      <td>[312]</td>\n",
              "    </tr>\n",
              "  </tbody>\n",
              "</table>\n",
              "</div>"
            ],
            "text/plain": [
              "   Piet Mondrian                                   Position\n",
              "10            In                                      [338]\n",
              "11       Instead                                       [32]\n",
              "12            It                                      [228]\n",
              "13  MONDRIANPiet                                        [3]\n",
              "14      Mondrian  [4, 47, 89, 172, 207, 271, 316, 324, 345]\n",
              "15   Netherlands                                      [293]\n",
              "16        Notice                                      [151]\n",
              "17          PIET                                        [2]\n",
              "18         Paris                                 [258, 319]\n",
              "19     ParisThis                                      [312]"
            ]
          },
          "metadata": {
            "tags": []
          },
          "execution_count": 414
        }
      ]
    },
    {
      "cell_type": "code",
      "metadata": {
        "id": "7P6RacvWeFke",
        "outputId": "88414afd-3367-4a70-e810-bb7d09f7ca9f",
        "colab": {
          "base_uri": "https://localhost:8080/",
          "height": 363
        }
      },
      "source": [
        "cLP[2][50:60]"
      ],
      "execution_count": 413,
      "outputs": [
        {
          "output_type": "execute_result",
          "data": {
            "text/html": [
              "<div>\n",
              "<style scoped>\n",
              "    .dataframe tbody tr th:only-of-type {\n",
              "        vertical-align: middle;\n",
              "    }\n",
              "\n",
              "    .dataframe tbody tr th {\n",
              "        vertical-align: top;\n",
              "    }\n",
              "\n",
              "    .dataframe thead th {\n",
              "        text-align: right;\n",
              "    }\n",
              "</style>\n",
              "<table border=\"1\" class=\"dataframe\">\n",
              "  <thead>\n",
              "    <tr style=\"text-align: right;\">\n",
              "      <th></th>\n",
              "      <th>Performance Art</th>\n",
              "      <th>Position</th>\n",
              "    </tr>\n",
              "  </thead>\n",
              "  <tbody>\n",
              "    <tr>\n",
              "      <th>50</th>\n",
              "      <td>Huan</td>\n",
              "      <td>[477]</td>\n",
              "    </tr>\n",
              "    <tr>\n",
              "      <th>51</th>\n",
              "      <td>II</td>\n",
              "      <td>[346]</td>\n",
              "    </tr>\n",
              "    <tr>\n",
              "      <th>52</th>\n",
              "      <td>Idea</td>\n",
              "      <td>[121]</td>\n",
              "    </tr>\n",
              "    <tr>\n",
              "      <th>53</th>\n",
              "      <td>In</td>\n",
              "      <td>[91, 127, 347, 386, 418]</td>\n",
              "    </tr>\n",
              "    <tr>\n",
              "      <th>54</th>\n",
              "      <td>It</td>\n",
              "      <td>[35, 83, 435]</td>\n",
              "    </tr>\n",
              "    <tr>\n",
              "      <th>55</th>\n",
              "      <td>John</td>\n",
              "      <td>[360]</td>\n",
              "    </tr>\n",
              "    <tr>\n",
              "      <th>56</th>\n",
              "      <td>Joseph</td>\n",
              "      <td>[123]</td>\n",
              "    </tr>\n",
              "    <tr>\n",
              "      <th>57</th>\n",
              "      <td>Laurie</td>\n",
              "      <td>[100]</td>\n",
              "    </tr>\n",
              "    <tr>\n",
              "      <th>58</th>\n",
              "      <td>Man</td>\n",
              "      <td>[488, 496]</td>\n",
              "    </tr>\n",
              "    <tr>\n",
              "      <th>59</th>\n",
              "      <td>Marina</td>\n",
              "      <td>[153]</td>\n",
              "    </tr>\n",
              "  </tbody>\n",
              "</table>\n",
              "</div>"
            ],
            "text/plain": [
              "   Performance Art                  Position\n",
              "50            Huan                     [477]\n",
              "51              II                     [346]\n",
              "52            Idea                     [121]\n",
              "53              In  [91, 127, 347, 386, 418]\n",
              "54              It             [35, 83, 435]\n",
              "55            John                     [360]\n",
              "56          Joseph                     [123]\n",
              "57          Laurie                     [100]\n",
              "58             Man                [488, 496]\n",
              "59          Marina                     [153]"
            ]
          },
          "metadata": {
            "tags": []
          },
          "execution_count": 413
        }
      ]
    },
    {
      "cell_type": "markdown",
      "metadata": {
        "id": "44BnieLxw8J5"
      },
      "source": [
        "**Search Words**\n",
        "\n",
        "\n",
        "---\n",
        "\n"
      ]
    },
    {
      "cell_type": "code",
      "metadata": {
        "id": "eHpjfLY_k20I",
        "outputId": "17a29904-4291-4761-a7d9-be9456ab5437",
        "colab": {
          "base_uri": "https://localhost:8080/"
        }
      },
      "source": [
        "SW= input(\"input your search Word:\")\n",
        "SD= input(\"input your Document name:\")"
      ],
      "execution_count": 435,
      "outputs": [
        {
          "output_type": "stream",
          "text": [
            "input your search Word:In\n",
            "input your Document name:Performance Art\n"
          ],
          "name": "stdout"
        }
      ]
    },
    {
      "cell_type": "code",
      "metadata": {
        "id": "v7_Ae_MNxXUi",
        "outputId": "0f28304d-1f8e-48e2-9180-883987bd2697",
        "colab": {
          "base_uri": "https://localhost:8080/"
        }
      },
      "source": [
        "docindex= filesname.index(SD)\n",
        "SR= cLP[docindex].loc[cLP[docindex][filesname[docindex]]==SW]\n",
        "po= SR.iloc[0]['Position']\n",
        "print(\"Positions : {} \\nPosition Count : {}\".format(po, len(po)))"
      ],
      "execution_count": 438,
      "outputs": [
        {
          "output_type": "stream",
          "text": [
            "Positions : [91, 127, 347, 386, 418] \n",
            "Position Count : 5\n"
          ],
          "name": "stdout"
        }
      ]
    },
    {
      "cell_type": "markdown",
      "metadata": {
        "id": "eBfy8Rmii3TP"
      },
      "source": [
        "### *Various search methods will be implemented soon ...*"
      ]
    }
  ]
}