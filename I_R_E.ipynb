{
  "nbformat": 4,
  "nbformat_minor": 0,
  "metadata": {
    "colab": {
      "name": "Untitled14.ipynb",
      "provenance": [],
      "collapsed_sections": [],
      "toc_visible": true,
      "mount_file_id": "18Vqgubvd9drG3RJqMoH2pDuQssTgbhus",
      "authorship_tag": "ABX9TyMmYK9tMfeyDYBdC+vABhh3"
    },
    "kernelspec": {
      "display_name": "Python 3",
      "name": "python3"
    }
  },
  "cells": [
    {
      "cell_type": "markdown",
      "metadata": {
        "id": "eTj1_1dtXmVc"
      },
      "source": [
        "# Information Retrieval"
      ]
    },
    {
      "cell_type": "markdown",
      "metadata": {
        "id": "ls1GfJfBYj3t"
      },
      "source": [
        "**Install Modules**\n",
        "\n"
      ]
    },
    {
      "cell_type": "code",
      "metadata": {
        "id": "50ug1AzuYjNq",
        "outputId": "e79a3a06-2d76-4eb3-bc83-2535a7c81817",
        "colab": {
          "base_uri": "https://localhost:8080/"
        }
      },
      "source": [
        "pip install python-docx"
      ],
      "execution_count": 1,
      "outputs": [
        {
          "output_type": "stream",
          "text": [
            "Collecting python-docx\n",
            "\u001b[?25l  Downloading https://files.pythonhosted.org/packages/e4/83/c66a1934ed5ed8ab1dbb9931f1779079f8bca0f6bbc5793c06c4b5e7d671/python-docx-0.8.10.tar.gz (5.5MB)\n",
            "\u001b[K     |████████████████████████████████| 5.5MB 6.3MB/s \n",
            "\u001b[?25hRequirement already satisfied: lxml>=2.3.2 in /usr/local/lib/python3.6/dist-packages (from python-docx) (4.2.6)\n",
            "Building wheels for collected packages: python-docx\n",
            "  Building wheel for python-docx (setup.py) ... \u001b[?25l\u001b[?25hdone\n",
            "  Created wheel for python-docx: filename=python_docx-0.8.10-cp36-none-any.whl size=184491 sha256=db148a0502ff905d4827058142177e3e56100593625d78b5587dd4bda58460cd\n",
            "  Stored in directory: /root/.cache/pip/wheels/18/0b/a0/1dd62ff812c857c9e487f27d80d53d2b40531bec1acecfa47b\n",
            "Successfully built python-docx\n",
            "Installing collected packages: python-docx\n",
            "Successfully installed python-docx-0.8.10\n"
          ],
          "name": "stdout"
        }
      ]
    },
    {
      "cell_type": "code",
      "metadata": {
        "id": "_3sMdnfCaIRR",
        "outputId": "e1012af5-50f9-48e8-fb93-580994e04a55",
        "colab": {
          "base_uri": "https://localhost:8080/"
        }
      },
      "source": [
        "pip install docx2txt"
      ],
      "execution_count": 2,
      "outputs": [
        {
          "output_type": "stream",
          "text": [
            "Collecting docx2txt\n",
            "  Downloading https://files.pythonhosted.org/packages/7d/7d/60ee3f2b16d9bfdfa72e8599470a2c1a5b759cb113c6fe1006be28359327/docx2txt-0.8.tar.gz\n",
            "Building wheels for collected packages: docx2txt\n",
            "  Building wheel for docx2txt (setup.py) ... \u001b[?25l\u001b[?25hdone\n",
            "  Created wheel for docx2txt: filename=docx2txt-0.8-cp36-none-any.whl size=3965 sha256=4e2759b48d3b92f274a1ff5c9e96958e9e0b6e933e261086ea19abdbd2c8834a\n",
            "  Stored in directory: /root/.cache/pip/wheels/b2/1f/26/a051209bbb77fc6bcfae2bb7e01fa0ff941b82292ab084d596\n",
            "Successfully built docx2txt\n",
            "Installing collected packages: docx2txt\n",
            "Successfully installed docx2txt-0.8\n"
          ],
          "name": "stdout"
        }
      ]
    },
    {
      "cell_type": "markdown",
      "metadata": {
        "id": "ufeHJr3zT2Im"
      },
      "source": [
        "**Import Modules**"
      ]
    },
    {
      "cell_type": "code",
      "metadata": {
        "id": "QHyMZJCwYzjN"
      },
      "source": [
        "from docx import Document\n",
        "import docx2txt\n",
        "import pandas as pd \n",
        "import string\n",
        "import os"
      ],
      "execution_count": 50,
      "outputs": []
    },
    {
      "cell_type": "markdown",
      "metadata": {
        "id": "lknKdjDMXwj6"
      },
      "source": [
        "**Import Data**"
      ]
    },
    {
      "cell_type": "code",
      "metadata": {
        "id": "7YdukjKJF-DE"
      },
      "source": [
        "files=[]\n",
        "Text= []\n",
        "filesname= [] \n",
        "def importDocuments(path):\n",
        "  for r, d, f in os.walk(path):\n",
        "      for file in f:\n",
        "          if '.docx' in file:\n",
        "              files.append(os.path.join(r, file))\n",
        "              filesname.append(file.replace(\".docx\",\"\"))\n",
        "  print(\"Documents imported successfully\\nDocuments List :\\n\")\n",
        "  for f in files:\n",
        "      Text.append(docx2txt.process(f)) \n",
        "      print(f)"
      ],
      "execution_count": 51,
      "outputs": []
    },
    {
      "cell_type": "code",
      "metadata": {
        "id": "k2QxmlJxGnop",
        "outputId": "bf211f17-8c2f-48cf-ca3f-888ac3b8f497",
        "colab": {
          "base_uri": "https://localhost:8080/"
        }
      },
      "source": [
        "importDocuments(input(\"input your folder path : \"))"
      ],
      "execution_count": 52,
      "outputs": [
        {
          "output_type": "stream",
          "text": [
            "input your folder path : /content/drive/My Drive/IR_Data\n",
            "Documents imported successfully\n",
            "Documents List :\n",
            "\n",
            "/content/drive/My Drive/IR_Data/DataScience.docx\n",
            "/content/drive/My Drive/IR_Data/Piet Mondrian.docx\n",
            "/content/drive/My Drive/IR_Data/Performance Art.docx\n"
          ],
          "name": "stdout"
        }
      ]
    },
    {
      "cell_type": "code",
      "metadata": {
        "id": "-fMUf_kmH8eH",
        "outputId": "2c9358bf-337f-4c5d-feed-a85e7bf6797f",
        "colab": {
          "base_uri": "https://localhost:8080/"
        }
      },
      "source": [
        "filesname"
      ],
      "execution_count": 53,
      "outputs": [
        {
          "output_type": "execute_result",
          "data": {
            "text/plain": [
              "['DataScience', 'Piet Mondrian', 'Performance Art']"
            ]
          },
          "metadata": {
            "tags": []
          },
          "execution_count": 53
        }
      ]
    },
    {
      "cell_type": "markdown",
      "metadata": {
        "id": "ELaB_7Q6T9qT"
      },
      "source": [
        "**Data Prepration**"
      ]
    },
    {
      "cell_type": "code",
      "metadata": {
        "id": "NcaA0jZaUNSJ"
      },
      "source": [
        "PText= []\n",
        "def Prepration(inputtext):\n",
        "  for ftext in inputtext:\n",
        "    RRM= ftext.translate(str.maketrans('', '', string.punctuation))\n",
        "    RRM= RRM.replace(\"\\n\",\"\")\n",
        "    PText.append(RRM.split())"
      ],
      "execution_count": 54,
      "outputs": []
    },
    {
      "cell_type": "code",
      "metadata": {
        "id": "Cf3ha-WUVE_S"
      },
      "source": [
        "Prepration(Text)"
      ],
      "execution_count": 55,
      "outputs": []
    },
    {
      "cell_type": "code",
      "metadata": {
        "id": "NupMd7gMmEl8",
        "outputId": "63054282-489f-44eb-f606-e13db1acf8ff",
        "colab": {
          "base_uri": "https://localhost:8080/",
          "height": 35
        }
      },
      "source": [
        "PText[2][2]"
      ],
      "execution_count": 56,
      "outputs": [
        {
          "output_type": "execute_result",
          "data": {
            "application/vnd.google.colaboratory.intrinsic+json": {
              "type": "string"
            },
            "text/plain": [
              "'art'"
            ]
          },
          "metadata": {
            "tags": []
          },
          "execution_count": 56
        }
      ]
    },
    {
      "cell_type": "markdown",
      "metadata": {
        "id": "k1mTr4sSwzIK"
      },
      "source": [
        "**Create Table**"
      ]
    },
    {
      "cell_type": "code",
      "metadata": {
        "id": "wQ7uBs0jMZ7U"
      },
      "source": [
        "Data_dic= {}\n",
        "def df_CSV():\n",
        "  Table= pd.DataFrame(Data_F,columns=['Word','Document'])\n",
        "  a= len(filesname)\n",
        "  b= 0\n",
        "  while a!=0:\n",
        "    AT= Table.loc[Table['Document'] == filesname[a-1]]\n",
        "    a-= 1\n",
        "    AT= AT.drop_duplicates(subset=['Word'])\n",
        "    AT= AT.reset_index(drop=True)\n",
        "    Data_dic[filesname[a-1]]= AT"
      ],
      "execution_count": 71,
      "outputs": []
    },
    {
      "cell_type": "code",
      "metadata": {
        "id": "ZWh_C_sBgUBp"
      },
      "source": [
        "Data_F= []\n",
        "def CreateTable(inputdata,docname):\n",
        "  #Data_F=[len(docname)]\n",
        "  i= 0\n",
        "  a= len(docname)\n",
        "  while a!= 0:\n",
        "    Words_count= len(inputdata[a-1])\n",
        "    a-= 1\n",
        "    while Words_count != 0 :\n",
        "      ipt=[inputdata[a][Words_count-1],docname[a]]\n",
        "      Data_F.append(ipt)\n",
        "      Words_count= Words_count-1\n",
        "      i+=1\n",
        "    df_CSV()"
      ],
      "execution_count": 77,
      "outputs": []
    },
    {
      "cell_type": "code",
      "metadata": {
        "id": "30X1tv1TGcn1"
      },
      "source": [
        "CreateTable(PText, filesname)"
      ],
      "execution_count": 78,
      "outputs": []
    },
    {
      "cell_type": "code",
      "metadata": {
        "id": "zRTzLPphGCSI"
      },
      "source": [
        "Data_F"
      ],
      "execution_count": null,
      "outputs": []
    },
    {
      "cell_type": "code",
      "metadata": {
        "id": "l8WKyWDKdYbC",
        "outputId": "ce6e5138-307e-46eb-d54a-db99dc363b8b",
        "colab": {
          "base_uri": "https://localhost:8080/",
          "height": 419
        }
      },
      "source": [
        "Data_dic['DataScience']"
      ],
      "execution_count": 80,
      "outputs": [
        {
          "output_type": "execute_result",
          "data": {
            "text/html": [
              "<div>\n",
              "<style scoped>\n",
              "    .dataframe tbody tr th:only-of-type {\n",
              "        vertical-align: middle;\n",
              "    }\n",
              "\n",
              "    .dataframe tbody tr th {\n",
              "        vertical-align: top;\n",
              "    }\n",
              "\n",
              "    .dataframe thead th {\n",
              "        text-align: right;\n",
              "    }\n",
              "</style>\n",
              "<table border=\"1\" class=\"dataframe\">\n",
              "  <thead>\n",
              "    <tr style=\"text-align: right;\">\n",
              "      <th></th>\n",
              "      <th>Word</th>\n",
              "      <th>Document</th>\n",
              "    </tr>\n",
              "  </thead>\n",
              "  <tbody>\n",
              "    <tr>\n",
              "      <th>0</th>\n",
              "      <td>fashion</td>\n",
              "      <td>Piet Mondrian</td>\n",
              "    </tr>\n",
              "    <tr>\n",
              "      <th>1</th>\n",
              "      <td>to</td>\n",
              "      <td>Piet Mondrian</td>\n",
              "    </tr>\n",
              "    <tr>\n",
              "      <th>2</th>\n",
              "      <td>furniture</td>\n",
              "      <td>Piet Mondrian</td>\n",
              "    </tr>\n",
              "    <tr>\n",
              "      <th>3</th>\n",
              "      <td>from</td>\n",
              "      <td>Piet Mondrian</td>\n",
              "    </tr>\n",
              "    <tr>\n",
              "      <th>4</th>\n",
              "      <td>–</td>\n",
              "      <td>Piet Mondrian</td>\n",
              "    </tr>\n",
              "    <tr>\n",
              "      <th>...</th>\n",
              "      <td>...</td>\n",
              "      <td>...</td>\n",
              "    </tr>\n",
              "    <tr>\n",
              "      <th>194</th>\n",
              "      <td>Dutch</td>\n",
              "      <td>Piet Mondrian</td>\n",
              "    </tr>\n",
              "    <tr>\n",
              "      <th>195</th>\n",
              "      <td>MONDRIANPiet</td>\n",
              "      <td>Piet Mondrian</td>\n",
              "    </tr>\n",
              "    <tr>\n",
              "      <th>196</th>\n",
              "      <td>PIET</td>\n",
              "      <td>Piet Mondrian</td>\n",
              "    </tr>\n",
              "    <tr>\n",
              "      <th>197</th>\n",
              "      <td>IS</td>\n",
              "      <td>Piet Mondrian</td>\n",
              "    </tr>\n",
              "    <tr>\n",
              "      <th>198</th>\n",
              "      <td>WHO</td>\n",
              "      <td>Piet Mondrian</td>\n",
              "    </tr>\n",
              "  </tbody>\n",
              "</table>\n",
              "<p>199 rows × 2 columns</p>\n",
              "</div>"
            ],
            "text/plain": [
              "             Word       Document\n",
              "0         fashion  Piet Mondrian\n",
              "1              to  Piet Mondrian\n",
              "2       furniture  Piet Mondrian\n",
              "3            from  Piet Mondrian\n",
              "4               –  Piet Mondrian\n",
              "..            ...            ...\n",
              "194         Dutch  Piet Mondrian\n",
              "195  MONDRIANPiet  Piet Mondrian\n",
              "196          PIET  Piet Mondrian\n",
              "197            IS  Piet Mondrian\n",
              "198           WHO  Piet Mondrian\n",
              "\n",
              "[199 rows x 2 columns]"
            ]
          },
          "metadata": {
            "tags": []
          },
          "execution_count": 80
        }
      ]
    },
    {
      "cell_type": "code",
      "metadata": {
        "id": "l-5hhl5zev1T",
        "outputId": "7162e667-d65d-4199-afff-9c9e275c267b",
        "colab": {
          "base_uri": "https://localhost:8080/"
        }
      },
      "source": [
        "len(Data_dic['DataScience'])+len(Data_dic['Performance Art'])"
      ],
      "execution_count": 81,
      "outputs": [
        {
          "output_type": "execute_result",
          "data": {
            "text/plain": [
              "844"
            ]
          },
          "metadata": {
            "tags": []
          },
          "execution_count": 81
        }
      ]
    },
    {
      "cell_type": "code",
      "metadata": {
        "id": "1BXpm7LNQ0Dv"
      },
      "source": [
        "outer= pd.merge(Data_dic['DataScience'], Data_dic['Performance Art'], on='Word', how='outer',).fillna(0)\n",
        "inner= pd.merge(Data_dic['DataScience'], Data_dic['Performance Art'], on='Word', how='outer',).fillna(0)\n",
        "#outer.append(inner)"
      ],
      "execution_count": 242,
      "outputs": []
    },
    {
      "cell_type": "code",
      "metadata": {
        "id": "Sk9_FUaZnWu2"
      },
      "source": [
        "def Merge(input_table):\n",
        "  a=0\n",
        "  if a == 0:\n",
        "    output_table= pd.merge(input_table[filesname[a]], input_table[filesname[a+1]],on='Word',how='outer')\n",
        "    a+= 2\n",
        "  \n",
        "  while a!= len(filesname):\n",
        "    output_table = output_table.append(pd.merge(output_table, Data_dic[filesname[a]],on='Word',how='outer'))\n",
        "    a+= 1\n",
        "  return output_table"
      ],
      "execution_count": 82,
      "outputs": []
    },
    {
      "cell_type": "code",
      "metadata": {
        "id": "d7_e40sttc_H",
        "outputId": "4e21287d-5345-41a1-b54c-2f86e81b04a5",
        "colab": {
          "base_uri": "https://localhost:8080/",
          "height": 419
        }
      },
      "source": [
        "Merge(Data_dic)"
      ],
      "execution_count": 83,
      "outputs": [
        {
          "output_type": "execute_result",
          "data": {
            "text/html": [
              "<div>\n",
              "<style scoped>\n",
              "    .dataframe tbody tr th:only-of-type {\n",
              "        vertical-align: middle;\n",
              "    }\n",
              "\n",
              "    .dataframe tbody tr th {\n",
              "        vertical-align: top;\n",
              "    }\n",
              "\n",
              "    .dataframe thead th {\n",
              "        text-align: right;\n",
              "    }\n",
              "</style>\n",
              "<table border=\"1\" class=\"dataframe\">\n",
              "  <thead>\n",
              "    <tr style=\"text-align: right;\">\n",
              "      <th></th>\n",
              "      <th>Word</th>\n",
              "      <th>Document_x</th>\n",
              "      <th>Document_y</th>\n",
              "      <th>Document</th>\n",
              "    </tr>\n",
              "  </thead>\n",
              "  <tbody>\n",
              "    <tr>\n",
              "      <th>0</th>\n",
              "      <td>fashion</td>\n",
              "      <td>Piet Mondrian</td>\n",
              "      <td>NaN</td>\n",
              "      <td>NaN</td>\n",
              "    </tr>\n",
              "    <tr>\n",
              "      <th>1</th>\n",
              "      <td>to</td>\n",
              "      <td>Piet Mondrian</td>\n",
              "      <td>Performance Art</td>\n",
              "      <td>NaN</td>\n",
              "    </tr>\n",
              "    <tr>\n",
              "      <th>2</th>\n",
              "      <td>furniture</td>\n",
              "      <td>Piet Mondrian</td>\n",
              "      <td>NaN</td>\n",
              "      <td>NaN</td>\n",
              "    </tr>\n",
              "    <tr>\n",
              "      <th>3</th>\n",
              "      <td>from</td>\n",
              "      <td>Piet Mondrian</td>\n",
              "      <td>Performance Art</td>\n",
              "      <td>NaN</td>\n",
              "    </tr>\n",
              "    <tr>\n",
              "      <th>4</th>\n",
              "      <td>–</td>\n",
              "      <td>Piet Mondrian</td>\n",
              "      <td>NaN</td>\n",
              "      <td>NaN</td>\n",
              "    </tr>\n",
              "    <tr>\n",
              "      <th>...</th>\n",
              "      <td>...</td>\n",
              "      <td>...</td>\n",
              "      <td>...</td>\n",
              "      <td>...</td>\n",
              "    </tr>\n",
              "    <tr>\n",
              "      <th>1004</th>\n",
              "      <td>KIAU22An</td>\n",
              "      <td>NaN</td>\n",
              "      <td>NaN</td>\n",
              "      <td>DataScience</td>\n",
              "    </tr>\n",
              "    <tr>\n",
              "      <th>1005</th>\n",
              "      <td>Community</td>\n",
              "      <td>NaN</td>\n",
              "      <td>NaN</td>\n",
              "      <td>DataScience</td>\n",
              "    </tr>\n",
              "    <tr>\n",
              "      <th>1006</th>\n",
              "      <td>Engineering</td>\n",
              "      <td>NaN</td>\n",
              "      <td>NaN</td>\n",
              "      <td>DataScience</td>\n",
              "    </tr>\n",
              "    <tr>\n",
              "      <th>1007</th>\n",
              "      <td>KIAUComputer</td>\n",
              "      <td>NaN</td>\n",
              "      <td>NaN</td>\n",
              "      <td>DataScience</td>\n",
              "    </tr>\n",
              "    <tr>\n",
              "      <th>1008</th>\n",
              "      <td>Computer</td>\n",
              "      <td>NaN</td>\n",
              "      <td>NaN</td>\n",
              "      <td>DataScience</td>\n",
              "    </tr>\n",
              "  </tbody>\n",
              "</table>\n",
              "<p>1464 rows × 4 columns</p>\n",
              "</div>"
            ],
            "text/plain": [
              "              Word     Document_x       Document_y     Document\n",
              "0          fashion  Piet Mondrian              NaN          NaN\n",
              "1               to  Piet Mondrian  Performance Art          NaN\n",
              "2        furniture  Piet Mondrian              NaN          NaN\n",
              "3             from  Piet Mondrian  Performance Art          NaN\n",
              "4                –  Piet Mondrian              NaN          NaN\n",
              "...            ...            ...              ...          ...\n",
              "1004      KIAU22An            NaN              NaN  DataScience\n",
              "1005     Community            NaN              NaN  DataScience\n",
              "1006   Engineering            NaN              NaN  DataScience\n",
              "1007  KIAUComputer            NaN              NaN  DataScience\n",
              "1008      Computer            NaN              NaN  DataScience\n",
              "\n",
              "[1464 rows x 4 columns]"
            ]
          },
          "metadata": {
            "tags": []
          },
          "execution_count": 83
        }
      ]
    },
    {
      "cell_type": "code",
      "metadata": {
        "id": "UGso9487fSnb"
      },
      "source": [
        "Table= pd.DataFrame(Data_F,columns=['Word','Document'])"
      ],
      "execution_count": 228,
      "outputs": []
    },
    {
      "cell_type": "code",
      "metadata": {
        "id": "vA6OaKuBfvhu",
        "outputId": "9ac854e5-f78f-4594-b8df-571a9c428b87",
        "colab": {
          "base_uri": "https://localhost:8080/",
          "height": 419
        }
      },
      "source": [
        "Table"
      ],
      "execution_count": 97,
      "outputs": [
        {
          "output_type": "execute_result",
          "data": {
            "text/html": [
              "<div>\n",
              "<style scoped>\n",
              "    .dataframe tbody tr th:only-of-type {\n",
              "        vertical-align: middle;\n",
              "    }\n",
              "\n",
              "    .dataframe tbody tr th {\n",
              "        vertical-align: top;\n",
              "    }\n",
              "\n",
              "    .dataframe thead th {\n",
              "        text-align: right;\n",
              "    }\n",
              "</style>\n",
              "<table border=\"1\" class=\"dataframe\">\n",
              "  <thead>\n",
              "    <tr style=\"text-align: right;\">\n",
              "      <th></th>\n",
              "      <th>Word</th>\n",
              "      <th>Document</th>\n",
              "    </tr>\n",
              "  </thead>\n",
              "  <tbody>\n",
              "    <tr>\n",
              "      <th>0</th>\n",
              "      <td>Nevada</td>\n",
              "      <td>Performance Art</td>\n",
              "    </tr>\n",
              "    <tr>\n",
              "      <th>1</th>\n",
              "      <td>Desert</td>\n",
              "      <td>Performance Art</td>\n",
              "    </tr>\n",
              "    <tr>\n",
              "      <th>2</th>\n",
              "      <td>Rock</td>\n",
              "      <td>Performance Art</td>\n",
              "    </tr>\n",
              "    <tr>\n",
              "      <th>3</th>\n",
              "      <td>Black</td>\n",
              "      <td>Performance Art</td>\n",
              "    </tr>\n",
              "    <tr>\n",
              "      <th>4</th>\n",
              "      <td>the</td>\n",
              "      <td>Performance Art</td>\n",
              "    </tr>\n",
              "    <tr>\n",
              "      <th>...</th>\n",
              "      <td>...</td>\n",
              "      <td>...</td>\n",
              "    </tr>\n",
              "    <tr>\n",
              "      <th>2640</th>\n",
              "      <td>Engineering</td>\n",
              "      <td>DataScience</td>\n",
              "    </tr>\n",
              "    <tr>\n",
              "      <th>2641</th>\n",
              "      <td>KIAUComputer</td>\n",
              "      <td>DataScience</td>\n",
              "    </tr>\n",
              "    <tr>\n",
              "      <th>2642</th>\n",
              "      <td>Community</td>\n",
              "      <td>DataScience</td>\n",
              "    </tr>\n",
              "    <tr>\n",
              "      <th>2643</th>\n",
              "      <td>Engineering</td>\n",
              "      <td>DataScience</td>\n",
              "    </tr>\n",
              "    <tr>\n",
              "      <th>2644</th>\n",
              "      <td>Computer</td>\n",
              "      <td>DataScience</td>\n",
              "    </tr>\n",
              "  </tbody>\n",
              "</table>\n",
              "<p>2645 rows × 2 columns</p>\n",
              "</div>"
            ],
            "text/plain": [
              "              Word         Document\n",
              "0           Nevada  Performance Art\n",
              "1           Desert  Performance Art\n",
              "2             Rock  Performance Art\n",
              "3            Black  Performance Art\n",
              "4              the  Performance Art\n",
              "...            ...              ...\n",
              "2640   Engineering      DataScience\n",
              "2641  KIAUComputer      DataScience\n",
              "2642     Community      DataScience\n",
              "2643   Engineering      DataScience\n",
              "2644      Computer      DataScience\n",
              "\n",
              "[2645 rows x 2 columns]"
            ]
          },
          "metadata": {
            "tags": []
          },
          "execution_count": 97
        }
      ]
    },
    {
      "cell_type": "code",
      "metadata": {
        "id": "AxTDCUefLUfP",
        "outputId": "35bf84b5-73de-4b63-eba9-9afffc82005b",
        "colab": {
          "base_uri": "https://localhost:8080/",
          "height": 419
        }
      },
      "source": [
        "Table.loc[Table['Document'] == filesname[0]]"
      ],
      "execution_count": 102,
      "outputs": [
        {
          "output_type": "execute_result",
          "data": {
            "text/html": [
              "<div>\n",
              "<style scoped>\n",
              "    .dataframe tbody tr th:only-of-type {\n",
              "        vertical-align: middle;\n",
              "    }\n",
              "\n",
              "    .dataframe tbody tr th {\n",
              "        vertical-align: top;\n",
              "    }\n",
              "\n",
              "    .dataframe thead th {\n",
              "        text-align: right;\n",
              "    }\n",
              "</style>\n",
              "<table border=\"1\" class=\"dataframe\">\n",
              "  <thead>\n",
              "    <tr style=\"text-align: right;\">\n",
              "      <th></th>\n",
              "      <th>Word</th>\n",
              "      <th>Document</th>\n",
              "    </tr>\n",
              "  </thead>\n",
              "  <tbody>\n",
              "    <tr>\n",
              "      <th>871</th>\n",
              "      <td>articles</td>\n",
              "      <td>DataScience</td>\n",
              "    </tr>\n",
              "    <tr>\n",
              "      <th>872</th>\n",
              "      <td>future</td>\n",
              "      <td>DataScience</td>\n",
              "    </tr>\n",
              "    <tr>\n",
              "      <th>873</th>\n",
              "      <td>in</td>\n",
              "      <td>DataScience</td>\n",
              "    </tr>\n",
              "    <tr>\n",
              "      <th>874</th>\n",
              "      <td>concepts</td>\n",
              "      <td>DataScience</td>\n",
              "    </tr>\n",
              "    <tr>\n",
              "      <th>875</th>\n",
              "      <td>deeper</td>\n",
              "      <td>DataScience</td>\n",
              "    </tr>\n",
              "    <tr>\n",
              "      <th>...</th>\n",
              "      <td>...</td>\n",
              "      <td>...</td>\n",
              "    </tr>\n",
              "    <tr>\n",
              "      <th>2640</th>\n",
              "      <td>Engineering</td>\n",
              "      <td>DataScience</td>\n",
              "    </tr>\n",
              "    <tr>\n",
              "      <th>2641</th>\n",
              "      <td>KIAUComputer</td>\n",
              "      <td>DataScience</td>\n",
              "    </tr>\n",
              "    <tr>\n",
              "      <th>2642</th>\n",
              "      <td>Community</td>\n",
              "      <td>DataScience</td>\n",
              "    </tr>\n",
              "    <tr>\n",
              "      <th>2643</th>\n",
              "      <td>Engineering</td>\n",
              "      <td>DataScience</td>\n",
              "    </tr>\n",
              "    <tr>\n",
              "      <th>2644</th>\n",
              "      <td>Computer</td>\n",
              "      <td>DataScience</td>\n",
              "    </tr>\n",
              "  </tbody>\n",
              "</table>\n",
              "<p>1774 rows × 2 columns</p>\n",
              "</div>"
            ],
            "text/plain": [
              "              Word     Document\n",
              "871       articles  DataScience\n",
              "872         future  DataScience\n",
              "873             in  DataScience\n",
              "874       concepts  DataScience\n",
              "875         deeper  DataScience\n",
              "...            ...          ...\n",
              "2640   Engineering  DataScience\n",
              "2641  KIAUComputer  DataScience\n",
              "2642     Community  DataScience\n",
              "2643   Engineering  DataScience\n",
              "2644      Computer  DataScience\n",
              "\n",
              "[1774 rows x 2 columns]"
            ]
          },
          "metadata": {
            "tags": []
          },
          "execution_count": 102
        }
      ]
    },
    {
      "cell_type": "code",
      "metadata": {
        "id": "V8yykcWNj-yW"
      },
      "source": [
        "Table = Table['Position'].groupby([Table.Word]).apply(list).reset_index()"
      ],
      "execution_count": null,
      "outputs": []
    },
    {
      "cell_type": "code",
      "metadata": {
        "id": "ifdQCjqrkglN",
        "outputId": "bf30abcd-546e-4325-cf65-e7d62bbb081e",
        "colab": {
          "base_uri": "https://localhost:8080/",
          "height": 419
        }
      },
      "source": [
        "Table"
      ],
      "execution_count": null,
      "outputs": [
        {
          "output_type": "execute_result",
          "data": {
            "text/html": [
              "<div>\n",
              "<style scoped>\n",
              "    .dataframe tbody tr th:only-of-type {\n",
              "        vertical-align: middle;\n",
              "    }\n",
              "\n",
              "    .dataframe tbody tr th {\n",
              "        vertical-align: top;\n",
              "    }\n",
              "\n",
              "    .dataframe thead th {\n",
              "        text-align: right;\n",
              "    }\n",
              "</style>\n",
              "<table border=\"1\" class=\"dataframe\">\n",
              "  <thead>\n",
              "    <tr style=\"text-align: right;\">\n",
              "      <th></th>\n",
              "      <th>Word</th>\n",
              "      <th>Position</th>\n",
              "    </tr>\n",
              "  </thead>\n",
              "  <tbody>\n",
              "    <tr>\n",
              "      <th>0</th>\n",
              "      <td>2</td>\n",
              "      <td>[10, 9]</td>\n",
              "    </tr>\n",
              "    <tr>\n",
              "      <th>1</th>\n",
              "      <td>According</td>\n",
              "      <td>[1748]</td>\n",
              "    </tr>\n",
              "    <tr>\n",
              "      <th>2</th>\n",
              "      <td>After</td>\n",
              "      <td>[731]</td>\n",
              "    </tr>\n",
              "    <tr>\n",
              "      <th>3</th>\n",
              "      <td>Afterwards</td>\n",
              "      <td>[1432]</td>\n",
              "    </tr>\n",
              "    <tr>\n",
              "      <th>4</th>\n",
              "      <td>All</td>\n",
              "      <td>[425]</td>\n",
              "    </tr>\n",
              "    <tr>\n",
              "      <th>...</th>\n",
              "      <td>...</td>\n",
              "      <td>...</td>\n",
              "    </tr>\n",
              "    <tr>\n",
              "      <th>638</th>\n",
              "      <td>you</td>\n",
              "      <td>[1575, 1460, 1402, 1389, 1289, 1271, 1267, 124...</td>\n",
              "    </tr>\n",
              "    <tr>\n",
              "      <th>639</th>\n",
              "      <td>your</td>\n",
              "      <td>[1404, 1264, 218, 215, 211, 204]</td>\n",
              "    </tr>\n",
              "    <tr>\n",
              "      <th>640</th>\n",
              "      <td>“a</td>\n",
              "      <td>[983]</td>\n",
              "    </tr>\n",
              "    <tr>\n",
              "      <th>641</th>\n",
              "      <td>“horse”</td>\n",
              "      <td>[1492]</td>\n",
              "    </tr>\n",
              "    <tr>\n",
              "      <th>642</th>\n",
              "      <td>…</td>\n",
              "      <td>[1630]</td>\n",
              "    </tr>\n",
              "  </tbody>\n",
              "</table>\n",
              "<p>643 rows × 2 columns</p>\n",
              "</div>"
            ],
            "text/plain": [
              "           Word                                           Position\n",
              "0             2                                            [10, 9]\n",
              "1     According                                             [1748]\n",
              "2         After                                              [731]\n",
              "3    Afterwards                                             [1432]\n",
              "4           All                                              [425]\n",
              "..          ...                                                ...\n",
              "638         you  [1575, 1460, 1402, 1389, 1289, 1271, 1267, 124...\n",
              "639        your                   [1404, 1264, 218, 215, 211, 204]\n",
              "640          “a                                              [983]\n",
              "641     “horse”                                             [1492]\n",
              "642           …                                             [1630]\n",
              "\n",
              "[643 rows x 2 columns]"
            ]
          },
          "metadata": {
            "tags": []
          },
          "execution_count": 17
        }
      ]
    },
    {
      "cell_type": "code",
      "metadata": {
        "id": "nGS2hw_nkyfl",
        "outputId": "fdc48796-b28c-4ad7-e3d3-fb245f26db5e",
        "colab": {
          "base_uri": "https://localhost:8080/"
        }
      },
      "source": [
        "len(Table)"
      ],
      "execution_count": null,
      "outputs": [
        {
          "output_type": "execute_result",
          "data": {
            "text/plain": [
              "643"
            ]
          },
          "metadata": {
            "tags": []
          },
          "execution_count": 18
        }
      ]
    },
    {
      "cell_type": "markdown",
      "metadata": {
        "id": "44BnieLxw8J5"
      },
      "source": [
        "**Search Words**"
      ]
    },
    {
      "cell_type": "code",
      "metadata": {
        "id": "eHpjfLY_k20I",
        "outputId": "d86e016c-9308-48ac-c90b-d6e4c63a0b98",
        "colab": {
          "base_uri": "https://localhost:8080/"
        }
      },
      "source": [
        "SW= input(\"Search :\") "
      ],
      "execution_count": null,
      "outputs": [
        {
          "output_type": "stream",
          "text": [
            "Search :you\n"
          ],
          "name": "stdout"
        }
      ]
    },
    {
      "cell_type": "code",
      "metadata": {
        "id": "v7_Ae_MNxXUi",
        "outputId": "cd9db9df-529a-4711-adb6-d91afceae7f7",
        "colab": {
          "base_uri": "https://localhost:8080/"
        }
      },
      "source": [
        "SR= Table.loc[Table['Word']==SW]\n",
        "po= SR.iloc[0]['Position']\n",
        "print(\"Positions : {} \\nPosition Count : {}\".format(po, len(po)))"
      ],
      "execution_count": null,
      "outputs": [
        {
          "output_type": "stream",
          "text": [
            "Positions : [1575, 1460, 1402, 1389, 1289, 1271, 1267, 1243, 1156, 1152, 1145, 1117, 1076, 1059, 1051, 417, 324, 255, 112, 79] \n",
            "Position Count : 20\n"
          ],
          "name": "stdout"
        }
      ]
    }
  ]
}