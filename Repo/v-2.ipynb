{
  "nbformat": 4,
  "nbformat_minor": 0,
  "metadata": {
    "colab": {
      "name": "Untitled14.ipynb",
      "provenance": [],
      "collapsed_sections": [],
      "toc_visible": true,
      "mount_file_id": "18Vqgubvd9drG3RJqMoH2pDuQssTgbhus",
      "authorship_tag": "ABX9TyNdOxHYd6xgdE6irJHeJtmj"
    },
    "kernelspec": {
      "display_name": "Python 3",
      "name": "python3"
    }
  },
  "cells": [
    {
      "cell_type": "markdown",
      "metadata": {
        "id": "eTj1_1dtXmVc"
      },
      "source": [
        "# Information Retrieval"
      ]
    },
    {
      "cell_type": "markdown",
      "metadata": {
        "id": "ls1GfJfBYj3t"
      },
      "source": [
        "**Install Modules**\n",
        "\n"
      ]
    },
    {
      "cell_type": "code",
      "metadata": {
        "id": "50ug1AzuYjNq",
        "outputId": "e842984d-cba2-493d-92c4-c15cf53c3097",
        "colab": {
          "base_uri": "https://localhost:8080/"
        }
      },
      "source": [
        "pip install python-docx"
      ],
      "execution_count": 1,
      "outputs": [
        {
          "output_type": "stream",
          "text": [
            "Collecting python-docx\n",
            "\u001b[?25l  Downloading https://files.pythonhosted.org/packages/e4/83/c66a1934ed5ed8ab1dbb9931f1779079f8bca0f6bbc5793c06c4b5e7d671/python-docx-0.8.10.tar.gz (5.5MB)\n",
            "\u001b[K     |████████████████████████████████| 5.5MB 9.7MB/s \n",
            "\u001b[?25hRequirement already satisfied: lxml>=2.3.2 in /usr/local/lib/python3.6/dist-packages (from python-docx) (4.2.6)\n",
            "Building wheels for collected packages: python-docx\n",
            "  Building wheel for python-docx (setup.py) ... \u001b[?25l\u001b[?25hdone\n",
            "  Created wheel for python-docx: filename=python_docx-0.8.10-cp36-none-any.whl size=184491 sha256=78311f8b449e7abbbd028320924168b7d2e6c6305ebd9c9abba31aa5b705cb32\n",
            "  Stored in directory: /root/.cache/pip/wheels/18/0b/a0/1dd62ff812c857c9e487f27d80d53d2b40531bec1acecfa47b\n",
            "Successfully built python-docx\n",
            "Installing collected packages: python-docx\n",
            "Successfully installed python-docx-0.8.10\n"
          ],
          "name": "stdout"
        }
      ]
    },
    {
      "cell_type": "code",
      "metadata": {
        "id": "_3sMdnfCaIRR",
        "outputId": "4bb9688c-3d29-4c4f-e402-e53bb007bf85",
        "colab": {
          "base_uri": "https://localhost:8080/"
        }
      },
      "source": [
        "pip install docx2txt"
      ],
      "execution_count": 2,
      "outputs": [
        {
          "output_type": "stream",
          "text": [
            "Collecting docx2txt\n",
            "  Downloading https://files.pythonhosted.org/packages/7d/7d/60ee3f2b16d9bfdfa72e8599470a2c1a5b759cb113c6fe1006be28359327/docx2txt-0.8.tar.gz\n",
            "Building wheels for collected packages: docx2txt\n",
            "  Building wheel for docx2txt (setup.py) ... \u001b[?25l\u001b[?25hdone\n",
            "  Created wheel for docx2txt: filename=docx2txt-0.8-cp36-none-any.whl size=3965 sha256=306d5f440f28250b98789ed4febc3ee47f72c7d70d40901fc846e1061736bdea\n",
            "  Stored in directory: /root/.cache/pip/wheels/b2/1f/26/a051209bbb77fc6bcfae2bb7e01fa0ff941b82292ab084d596\n",
            "Successfully built docx2txt\n",
            "Installing collected packages: docx2txt\n",
            "Successfully installed docx2txt-0.8\n"
          ],
          "name": "stdout"
        }
      ]
    },
    {
      "cell_type": "markdown",
      "metadata": {
        "id": "ufeHJr3zT2Im"
      },
      "source": [
        "**Import Modules**"
      ]
    },
    {
      "cell_type": "code",
      "metadata": {
        "id": "QHyMZJCwYzjN"
      },
      "source": [
        "from docx import Document\n",
        "import docx2txt\n",
        "import pandas as pd \n",
        "import string\n",
        "import os"
      ],
      "execution_count": 3,
      "outputs": []
    },
    {
      "cell_type": "markdown",
      "metadata": {
        "id": "lknKdjDMXwj6"
      },
      "source": [
        "**Import Data**"
      ]
    },
    {
      "cell_type": "code",
      "metadata": {
        "id": "7YdukjKJF-DE"
      },
      "source": [
        "files=[]\n",
        "Text= []\n",
        "filesname= [] \n",
        "def importDocuments(path):\n",
        "  for r, d, f in os.walk(path):\n",
        "      for file in f:\n",
        "          if '.docx' in file:\n",
        "              files.append(os.path.join(r, file))\n",
        "              filesname.append(file.replace(\".docx\",\"\"))\n",
        "  print(\"Documents imported successfully\\nDocuments List :\\n\")\n",
        "  for f in files:\n",
        "      Text.append(docx2txt.process(f)) \n",
        "      print(f)"
      ],
      "execution_count": 158,
      "outputs": []
    },
    {
      "cell_type": "code",
      "metadata": {
        "id": "k2QxmlJxGnop",
        "outputId": "9aaed11e-7ad3-4373-8acc-e09e36f038e5",
        "colab": {
          "base_uri": "https://localhost:8080/"
        }
      },
      "source": [
        "importDocuments(input(\"input your folder path : \"))"
      ],
      "execution_count": 159,
      "outputs": [
        {
          "output_type": "stream",
          "text": [
            "input your folder path : /content/drive/My Drive/IR_Data\n",
            "Documents imported successfully\n",
            "Documents List :\n",
            "\n",
            "/content/drive/My Drive/IR_Data/DataScience.docx\n",
            "/content/drive/My Drive/IR_Data/Piet Mondrian.docx\n",
            "/content/drive/My Drive/IR_Data/Performance Art.docx\n"
          ],
          "name": "stdout"
        }
      ]
    },
    {
      "cell_type": "code",
      "metadata": {
        "id": "-fMUf_kmH8eH",
        "outputId": "a325c95a-d8fa-48ac-9aed-015bde702f9b",
        "colab": {
          "base_uri": "https://localhost:8080/"
        }
      },
      "source": [
        "filesname"
      ],
      "execution_count": 160,
      "outputs": [
        {
          "output_type": "execute_result",
          "data": {
            "text/plain": [
              "['DataScience', 'Piet Mondrian', 'Performance Art']"
            ]
          },
          "metadata": {
            "tags": []
          },
          "execution_count": 160
        }
      ]
    },
    {
      "cell_type": "markdown",
      "metadata": {
        "id": "ELaB_7Q6T9qT"
      },
      "source": [
        "**Data Prepration**"
      ]
    },
    {
      "cell_type": "code",
      "metadata": {
        "id": "NcaA0jZaUNSJ"
      },
      "source": [
        "PText= []\n",
        "def Prepration(inputtext):\n",
        "  for ftext in inputtext:\n",
        "    RRM= ftext.translate(str.maketrans('', '', string.punctuation))\n",
        "    RRM= RRM.replace(\"\\n\",\"\")\n",
        "    PText.append(RRM.split())"
      ],
      "execution_count": 161,
      "outputs": []
    },
    {
      "cell_type": "code",
      "metadata": {
        "id": "Cf3ha-WUVE_S"
      },
      "source": [
        "Prepration(Text)"
      ],
      "execution_count": 162,
      "outputs": []
    },
    {
      "cell_type": "code",
      "metadata": {
        "id": "NupMd7gMmEl8"
      },
      "source": [
        "PText[1]"
      ],
      "execution_count": null,
      "outputs": []
    },
    {
      "cell_type": "markdown",
      "metadata": {
        "id": "k1mTr4sSwzIK"
      },
      "source": [
        "**Create Table**"
      ]
    },
    {
      "cell_type": "code",
      "metadata": {
        "id": "wQ7uBs0jMZ7U"
      },
      "source": [
        "Data_dic= {}\n",
        "def df_CSV():\n",
        "  a= len(filesname)\n",
        "  b= 0\n",
        "  Table= pd.DataFrame(Data_F,columns=['Word','Document'])\n",
        "  while b< len(filesname):\n",
        "    AT= Table.loc[Table['Document'] == filesname[b]]\n",
        "    b+= 1\n",
        "    a-= 1\n",
        "    AT= AT.drop_duplicates(subset=['Word'])\n",
        "    AT= AT.reset_index(drop=True)\n",
        "    Data_dic[filesname[b-1]]= AT"
      ],
      "execution_count": 181,
      "outputs": []
    },
    {
      "cell_type": "code",
      "metadata": {
        "id": "ZWh_C_sBgUBp"
      },
      "source": [
        "Data_F= []\n",
        "def CreateTable(inputdata,docname):\n",
        "  #Data_F=[len(docname)]\n",
        "  i= 0\n",
        "  a= len(docname)\n",
        "  while a!= 0:\n",
        "    Words_count= len(inputdata[a-1])\n",
        "    a-= 1\n",
        "    while Words_count != 0 :\n",
        "      ipt=[inputdata[a][Words_count-1],docname[a]]\n",
        "      Data_F.append(ipt)\n",
        "      Words_count= Words_count-1\n",
        "      i+=1\n",
        "    df_CSV()"
      ],
      "execution_count": 182,
      "outputs": []
    },
    {
      "cell_type": "code",
      "metadata": {
        "id": "30X1tv1TGcn1"
      },
      "source": [
        "CreateTable(PText, filesname)"
      ],
      "execution_count": 183,
      "outputs": []
    },
    {
      "cell_type": "code",
      "metadata": {
        "id": "Ho426boo2jMt",
        "outputId": "1736100b-a895-4dab-a38b-7b560ba5eea1",
        "colab": {
          "base_uri": "https://localhost:8080/",
          "height": 419
        }
      },
      "source": [
        "Data_dic['Performance Art']"
      ],
      "execution_count": 186,
      "outputs": [
        {
          "output_type": "execute_result",
          "data": {
            "text/html": [
              "<div>\n",
              "<style scoped>\n",
              "    .dataframe tbody tr th:only-of-type {\n",
              "        vertical-align: middle;\n",
              "    }\n",
              "\n",
              "    .dataframe tbody tr th {\n",
              "        vertical-align: top;\n",
              "    }\n",
              "\n",
              "    .dataframe thead th {\n",
              "        text-align: right;\n",
              "    }\n",
              "</style>\n",
              "<table border=\"1\" class=\"dataframe\">\n",
              "  <thead>\n",
              "    <tr style=\"text-align: right;\">\n",
              "      <th></th>\n",
              "      <th>Word</th>\n",
              "      <th>Document</th>\n",
              "    </tr>\n",
              "  </thead>\n",
              "  <tbody>\n",
              "    <tr>\n",
              "      <th>0</th>\n",
              "      <td>Nevada</td>\n",
              "      <td>Performance Art</td>\n",
              "    </tr>\n",
              "    <tr>\n",
              "      <th>1</th>\n",
              "      <td>Desert</td>\n",
              "      <td>Performance Art</td>\n",
              "    </tr>\n",
              "    <tr>\n",
              "      <th>2</th>\n",
              "      <td>Rock</td>\n",
              "      <td>Performance Art</td>\n",
              "    </tr>\n",
              "    <tr>\n",
              "      <th>3</th>\n",
              "      <td>Black</td>\n",
              "      <td>Performance Art</td>\n",
              "    </tr>\n",
              "    <tr>\n",
              "      <th>4</th>\n",
              "      <td>the</td>\n",
              "      <td>Performance Art</td>\n",
              "    </tr>\n",
              "    <tr>\n",
              "      <th>...</th>\n",
              "      <td>...</td>\n",
              "      <td>...</td>\n",
              "    </tr>\n",
              "    <tr>\n",
              "      <th>298</th>\n",
              "      <td>features</td>\n",
              "      <td>Performance Art</td>\n",
              "    </tr>\n",
              "    <tr>\n",
              "      <th>299</th>\n",
              "      <td>typically</td>\n",
              "      <td>Performance Art</td>\n",
              "    </tr>\n",
              "    <tr>\n",
              "      <th>300</th>\n",
              "      <td>timebased</td>\n",
              "      <td>Performance Art</td>\n",
              "    </tr>\n",
              "    <tr>\n",
              "      <th>301</th>\n",
              "      <td>artPerformance</td>\n",
              "      <td>Performance Art</td>\n",
              "    </tr>\n",
              "    <tr>\n",
              "      <th>302</th>\n",
              "      <td>Performance</td>\n",
              "      <td>Performance Art</td>\n",
              "    </tr>\n",
              "  </tbody>\n",
              "</table>\n",
              "<p>303 rows × 2 columns</p>\n",
              "</div>"
            ],
            "text/plain": [
              "               Word         Document\n",
              "0            Nevada  Performance Art\n",
              "1            Desert  Performance Art\n",
              "2              Rock  Performance Art\n",
              "3             Black  Performance Art\n",
              "4               the  Performance Art\n",
              "..              ...              ...\n",
              "298        features  Performance Art\n",
              "299       typically  Performance Art\n",
              "300       timebased  Performance Art\n",
              "301  artPerformance  Performance Art\n",
              "302     Performance  Performance Art\n",
              "\n",
              "[303 rows x 2 columns]"
            ]
          },
          "metadata": {
            "tags": []
          },
          "execution_count": 186
        }
      ]
    },
    {
      "cell_type": "code",
      "metadata": {
        "id": "Sk9_FUaZnWu2"
      },
      "source": [
        "def Merge(input_table):\n",
        "  a=0\n",
        "  if a == 0:\n",
        "    output_table= pd.merge(input_table[filesname[a]], input_table[filesname[a+1]],on='Word',how='outer')\n",
        "    a+= 2\n",
        "  \n",
        "  while a!= len(filesname):\n",
        "    output_table = output_table.append(pd.merge(output_table, Data_dic[filesname[a]],on='Word',how='outer'))\n",
        "    a+= 1\n",
        "  return output_table"
      ],
      "execution_count": 187,
      "outputs": []
    },
    {
      "cell_type": "code",
      "metadata": {
        "id": "ie3A-GQDz51n"
      },
      "source": [
        "def fix_t(In_Da, fname):\n",
        "  for name in fname:\n",
        "    In_Da[name].columns= ['Word',name]\n",
        "  return In_Da"
      ],
      "execution_count": 205,
      "outputs": []
    },
    {
      "cell_type": "code",
      "metadata": {
        "id": "UCMOzwtc0teG"
      },
      "source": [
        "Data_dic= fix_t(Data_dic, filesname)"
      ],
      "execution_count": 206,
      "outputs": []
    },
    {
      "cell_type": "code",
      "metadata": {
        "id": "4fg044xr2KmO"
      },
      "source": [
        ""
      ],
      "execution_count": null,
      "outputs": []
    },
    {
      "cell_type": "code",
      "metadata": {
        "id": "l-7Th7tG1NO-",
        "outputId": "b3264a8c-33e4-4977-add1-93c075919745",
        "colab": {
          "base_uri": "https://localhost:8080/",
          "height": 419
        }
      },
      "source": [
        "Data_dic['Piet Mondrian']"
      ],
      "execution_count": 192,
      "outputs": [
        {
          "output_type": "execute_result",
          "data": {
            "text/html": [
              "<div>\n",
              "<style scoped>\n",
              "    .dataframe tbody tr th:only-of-type {\n",
              "        vertical-align: middle;\n",
              "    }\n",
              "\n",
              "    .dataframe tbody tr th {\n",
              "        vertical-align: top;\n",
              "    }\n",
              "\n",
              "    .dataframe thead th {\n",
              "        text-align: right;\n",
              "    }\n",
              "</style>\n",
              "<table border=\"1\" class=\"dataframe\">\n",
              "  <thead>\n",
              "    <tr style=\"text-align: right;\">\n",
              "      <th></th>\n",
              "      <th>Word</th>\n",
              "      <th>Piet Mondrian</th>\n",
              "    </tr>\n",
              "  </thead>\n",
              "  <tbody>\n",
              "    <tr>\n",
              "      <th>0</th>\n",
              "      <td>fashion</td>\n",
              "      <td>Piet Mondrian</td>\n",
              "    </tr>\n",
              "    <tr>\n",
              "      <th>1</th>\n",
              "      <td>to</td>\n",
              "      <td>Piet Mondrian</td>\n",
              "    </tr>\n",
              "    <tr>\n",
              "      <th>2</th>\n",
              "      <td>furniture</td>\n",
              "      <td>Piet Mondrian</td>\n",
              "    </tr>\n",
              "    <tr>\n",
              "      <th>3</th>\n",
              "      <td>from</td>\n",
              "      <td>Piet Mondrian</td>\n",
              "    </tr>\n",
              "    <tr>\n",
              "      <th>4</th>\n",
              "      <td>–</td>\n",
              "      <td>Piet Mondrian</td>\n",
              "    </tr>\n",
              "    <tr>\n",
              "      <th>...</th>\n",
              "      <td>...</td>\n",
              "      <td>...</td>\n",
              "    </tr>\n",
              "    <tr>\n",
              "      <th>194</th>\n",
              "      <td>Dutch</td>\n",
              "      <td>Piet Mondrian</td>\n",
              "    </tr>\n",
              "    <tr>\n",
              "      <th>195</th>\n",
              "      <td>MONDRIANPiet</td>\n",
              "      <td>Piet Mondrian</td>\n",
              "    </tr>\n",
              "    <tr>\n",
              "      <th>196</th>\n",
              "      <td>PIET</td>\n",
              "      <td>Piet Mondrian</td>\n",
              "    </tr>\n",
              "    <tr>\n",
              "      <th>197</th>\n",
              "      <td>IS</td>\n",
              "      <td>Piet Mondrian</td>\n",
              "    </tr>\n",
              "    <tr>\n",
              "      <th>198</th>\n",
              "      <td>WHO</td>\n",
              "      <td>Piet Mondrian</td>\n",
              "    </tr>\n",
              "  </tbody>\n",
              "</table>\n",
              "<p>199 rows × 2 columns</p>\n",
              "</div>"
            ],
            "text/plain": [
              "             Word  Piet Mondrian\n",
              "0         fashion  Piet Mondrian\n",
              "1              to  Piet Mondrian\n",
              "2       furniture  Piet Mondrian\n",
              "3            from  Piet Mondrian\n",
              "4               –  Piet Mondrian\n",
              "..            ...            ...\n",
              "194         Dutch  Piet Mondrian\n",
              "195  MONDRIANPiet  Piet Mondrian\n",
              "196          PIET  Piet Mondrian\n",
              "197            IS  Piet Mondrian\n",
              "198           WHO  Piet Mondrian\n",
              "\n",
              "[199 rows x 2 columns]"
            ]
          },
          "metadata": {
            "tags": []
          },
          "execution_count": 192
        }
      ]
    },
    {
      "cell_type": "code",
      "metadata": {
        "id": "d7_e40sttc_H"
      },
      "source": [
        "MData= Merge(Data_dic)"
      ],
      "execution_count": 207,
      "outputs": []
    },
    {
      "cell_type": "code",
      "metadata": {
        "id": "A6jzE_uZwyF6",
        "outputId": "13efe395-8f75-40a5-b7ad-5c90189cc6b4",
        "colab": {
          "base_uri": "https://localhost:8080/",
          "height": 419
        }
      },
      "source": [
        "MData"
      ],
      "execution_count": 208,
      "outputs": [
        {
          "output_type": "execute_result",
          "data": {
            "text/html": [
              "<div>\n",
              "<style scoped>\n",
              "    .dataframe tbody tr th:only-of-type {\n",
              "        vertical-align: middle;\n",
              "    }\n",
              "\n",
              "    .dataframe tbody tr th {\n",
              "        vertical-align: top;\n",
              "    }\n",
              "\n",
              "    .dataframe thead th {\n",
              "        text-align: right;\n",
              "    }\n",
              "</style>\n",
              "<table border=\"1\" class=\"dataframe\">\n",
              "  <thead>\n",
              "    <tr style=\"text-align: right;\">\n",
              "      <th></th>\n",
              "      <th>Word</th>\n",
              "      <th>DataScience</th>\n",
              "      <th>Piet Mondrian</th>\n",
              "      <th>Performance Art</th>\n",
              "    </tr>\n",
              "  </thead>\n",
              "  <tbody>\n",
              "    <tr>\n",
              "      <th>0</th>\n",
              "      <td>articles</td>\n",
              "      <td>DataScience</td>\n",
              "      <td>NaN</td>\n",
              "      <td>NaN</td>\n",
              "    </tr>\n",
              "    <tr>\n",
              "      <th>1</th>\n",
              "      <td>future</td>\n",
              "      <td>DataScience</td>\n",
              "      <td>NaN</td>\n",
              "      <td>NaN</td>\n",
              "    </tr>\n",
              "    <tr>\n",
              "      <th>2</th>\n",
              "      <td>in</td>\n",
              "      <td>DataScience</td>\n",
              "      <td>Piet Mondrian</td>\n",
              "      <td>NaN</td>\n",
              "    </tr>\n",
              "    <tr>\n",
              "      <th>3</th>\n",
              "      <td>concepts</td>\n",
              "      <td>DataScience</td>\n",
              "      <td>NaN</td>\n",
              "      <td>NaN</td>\n",
              "    </tr>\n",
              "    <tr>\n",
              "      <th>4</th>\n",
              "      <td>deeper</td>\n",
              "      <td>DataScience</td>\n",
              "      <td>NaN</td>\n",
              "      <td>NaN</td>\n",
              "    </tr>\n",
              "    <tr>\n",
              "      <th>...</th>\n",
              "      <td>...</td>\n",
              "      <td>...</td>\n",
              "      <td>...</td>\n",
              "      <td>...</td>\n",
              "    </tr>\n",
              "    <tr>\n",
              "      <th>1004</th>\n",
              "      <td>onlookers</td>\n",
              "      <td>NaN</td>\n",
              "      <td>NaN</td>\n",
              "      <td>Performance Art</td>\n",
              "    </tr>\n",
              "    <tr>\n",
              "      <th>1005</th>\n",
              "      <td>typically</td>\n",
              "      <td>NaN</td>\n",
              "      <td>NaN</td>\n",
              "      <td>Performance Art</td>\n",
              "    </tr>\n",
              "    <tr>\n",
              "      <th>1006</th>\n",
              "      <td>timebased</td>\n",
              "      <td>NaN</td>\n",
              "      <td>NaN</td>\n",
              "      <td>Performance Art</td>\n",
              "    </tr>\n",
              "    <tr>\n",
              "      <th>1007</th>\n",
              "      <td>artPerformance</td>\n",
              "      <td>NaN</td>\n",
              "      <td>NaN</td>\n",
              "      <td>Performance Art</td>\n",
              "    </tr>\n",
              "    <tr>\n",
              "      <th>1008</th>\n",
              "      <td>Performance</td>\n",
              "      <td>NaN</td>\n",
              "      <td>NaN</td>\n",
              "      <td>Performance Art</td>\n",
              "    </tr>\n",
              "  </tbody>\n",
              "</table>\n",
              "<p>1787 rows × 4 columns</p>\n",
              "</div>"
            ],
            "text/plain": [
              "                Word  DataScience  Piet Mondrian  Performance Art\n",
              "0           articles  DataScience            NaN              NaN\n",
              "1             future  DataScience            NaN              NaN\n",
              "2                 in  DataScience  Piet Mondrian              NaN\n",
              "3           concepts  DataScience            NaN              NaN\n",
              "4             deeper  DataScience            NaN              NaN\n",
              "...              ...          ...            ...              ...\n",
              "1004       onlookers          NaN            NaN  Performance Art\n",
              "1005       typically          NaN            NaN  Performance Art\n",
              "1006       timebased          NaN            NaN  Performance Art\n",
              "1007  artPerformance          NaN            NaN  Performance Art\n",
              "1008     Performance          NaN            NaN  Performance Art\n",
              "\n",
              "[1787 rows x 4 columns]"
            ]
          },
          "metadata": {
            "tags": []
          },
          "execution_count": 208
        }
      ]
    },
    {
      "cell_type": "code",
      "metadata": {
        "id": "B6bCOTUC-iZW"
      },
      "source": [
        "def SetValue(IN_D,IN_N):\n",
        "  for name in IN_N:\n",
        "    IN_D.loc[IN_D[name]== name, name] = 1\n",
        "    IN_D = IN_D.reset_index(drop=True)\n",
        "    return IN_D"
      ],
      "execution_count": 214,
      "outputs": []
    },
    {
      "cell_type": "code",
      "metadata": {
        "id": "uByTm8fP9UQB"
      },
      "source": [
        "MData.loc[MData['DataScience']== 'DataScience', 'DataScience'] = 1"
      ],
      "execution_count": 201,
      "outputs": []
    },
    {
      "cell_type": "code",
      "metadata": {
        "id": "lc59YFc__ijL",
        "outputId": "d64a6490-597c-4fd7-bd55-412c885a5a1a",
        "colab": {
          "base_uri": "https://localhost:8080/",
          "height": 419
        }
      },
      "source": [
        "termdocument= SetValue(MData, filesname)\n",
        "termdocument= termdocument.fillna(0)\n",
        "termdocument"
      ],
      "execution_count": 221,
      "outputs": [
        {
          "output_type": "execute_result",
          "data": {
            "text/html": [
              "<div>\n",
              "<style scoped>\n",
              "    .dataframe tbody tr th:only-of-type {\n",
              "        vertical-align: middle;\n",
              "    }\n",
              "\n",
              "    .dataframe tbody tr th {\n",
              "        vertical-align: top;\n",
              "    }\n",
              "\n",
              "    .dataframe thead th {\n",
              "        text-align: right;\n",
              "    }\n",
              "</style>\n",
              "<table border=\"1\" class=\"dataframe\">\n",
              "  <thead>\n",
              "    <tr style=\"text-align: right;\">\n",
              "      <th></th>\n",
              "      <th>Word</th>\n",
              "      <th>DataScience</th>\n",
              "      <th>Piet Mondrian</th>\n",
              "      <th>Performance Art</th>\n",
              "    </tr>\n",
              "  </thead>\n",
              "  <tbody>\n",
              "    <tr>\n",
              "      <th>0</th>\n",
              "      <td>articles</td>\n",
              "      <td>1</td>\n",
              "      <td>0</td>\n",
              "      <td>0</td>\n",
              "    </tr>\n",
              "    <tr>\n",
              "      <th>1</th>\n",
              "      <td>future</td>\n",
              "      <td>1</td>\n",
              "      <td>0</td>\n",
              "      <td>0</td>\n",
              "    </tr>\n",
              "    <tr>\n",
              "      <th>2</th>\n",
              "      <td>in</td>\n",
              "      <td>1</td>\n",
              "      <td>1</td>\n",
              "      <td>0</td>\n",
              "    </tr>\n",
              "    <tr>\n",
              "      <th>3</th>\n",
              "      <td>concepts</td>\n",
              "      <td>1</td>\n",
              "      <td>0</td>\n",
              "      <td>0</td>\n",
              "    </tr>\n",
              "    <tr>\n",
              "      <th>4</th>\n",
              "      <td>deeper</td>\n",
              "      <td>1</td>\n",
              "      <td>0</td>\n",
              "      <td>0</td>\n",
              "    </tr>\n",
              "    <tr>\n",
              "      <th>...</th>\n",
              "      <td>...</td>\n",
              "      <td>...</td>\n",
              "      <td>...</td>\n",
              "      <td>...</td>\n",
              "    </tr>\n",
              "    <tr>\n",
              "      <th>1782</th>\n",
              "      <td>onlookers</td>\n",
              "      <td>0</td>\n",
              "      <td>0</td>\n",
              "      <td>1</td>\n",
              "    </tr>\n",
              "    <tr>\n",
              "      <th>1783</th>\n",
              "      <td>typically</td>\n",
              "      <td>0</td>\n",
              "      <td>0</td>\n",
              "      <td>1</td>\n",
              "    </tr>\n",
              "    <tr>\n",
              "      <th>1784</th>\n",
              "      <td>timebased</td>\n",
              "      <td>0</td>\n",
              "      <td>0</td>\n",
              "      <td>1</td>\n",
              "    </tr>\n",
              "    <tr>\n",
              "      <th>1785</th>\n",
              "      <td>artPerformance</td>\n",
              "      <td>0</td>\n",
              "      <td>0</td>\n",
              "      <td>1</td>\n",
              "    </tr>\n",
              "    <tr>\n",
              "      <th>1786</th>\n",
              "      <td>Performance</td>\n",
              "      <td>0</td>\n",
              "      <td>0</td>\n",
              "      <td>1</td>\n",
              "    </tr>\n",
              "  </tbody>\n",
              "</table>\n",
              "<p>1787 rows × 4 columns</p>\n",
              "</div>"
            ],
            "text/plain": [
              "                Word  DataScience  Piet Mondrian  Performance Art\n",
              "0           articles            1              0                0\n",
              "1             future            1              0                0\n",
              "2                 in            1              1                0\n",
              "3           concepts            1              0                0\n",
              "4             deeper            1              0                0\n",
              "...              ...          ...            ...              ...\n",
              "1782       onlookers            0              0                1\n",
              "1783       typically            0              0                1\n",
              "1784       timebased            0              0                1\n",
              "1785  artPerformance            0              0                1\n",
              "1786     Performance            0              0                1\n",
              "\n",
              "[1787 rows x 4 columns]"
            ]
          },
          "metadata": {
            "tags": []
          },
          "execution_count": 221
        }
      ]
    },
    {
      "cell_type": "code",
      "metadata": {
        "id": "ynTv6qGkBkUj",
        "outputId": "d6a44ada-1fe9-4ea4-a57e-1f52df1efbc2",
        "colab": {
          "base_uri": "https://localhost:8080/"
        }
      },
      "source": [
        "termdocument.head"
      ],
      "execution_count": 222,
      "outputs": [
        {
          "output_type": "execute_result",
          "data": {
            "text/plain": [
              "<bound method NDFrame.head of                 Word  DataScience  Piet Mondrian  Performance Art\n",
              "0           articles            1              0                0\n",
              "1             future            1              0                0\n",
              "2                 in            1              1                0\n",
              "3           concepts            1              0                0\n",
              "4             deeper            1              0                0\n",
              "...              ...          ...            ...              ...\n",
              "1782       onlookers            0              0                1\n",
              "1783       typically            0              0                1\n",
              "1784       timebased            0              0                1\n",
              "1785  artPerformance            0              0                1\n",
              "1786     Performance            0              0                1\n",
              "\n",
              "[1787 rows x 4 columns]>"
            ]
          },
          "metadata": {
            "tags": []
          },
          "execution_count": 222
        }
      ]
    },
    {
      "cell_type": "code",
      "metadata": {
        "id": "mokkrfPbBoGv",
        "outputId": "d919b1cc-fb38-4e88-fde0-a53ff82280e7",
        "colab": {
          "base_uri": "https://localhost:8080/"
        }
      },
      "source": [
        "termdocument.columns"
      ],
      "execution_count": 225,
      "outputs": [
        {
          "output_type": "execute_result",
          "data": {
            "text/plain": [
              "Index(['Word', 'DataScience', 'Piet Mondrian', 'Performance Art'], dtype='object')"
            ]
          },
          "metadata": {
            "tags": []
          },
          "execution_count": 225
        }
      ]
    },
    {
      "cell_type": "markdown",
      "metadata": {
        "id": "av43RXvNAsHm"
      },
      "source": [
        "**term document incidence matrix**"
      ]
    },
    {
      "cell_type": "code",
      "metadata": {
        "id": "wEk7LTNxAhFf"
      },
      "source": [
        "termdocument_Matrix= termdocument.to_numpy()"
      ],
      "execution_count": 218,
      "outputs": []
    },
    {
      "cell_type": "code",
      "metadata": {
        "id": "diYmeXp0Az4e",
        "outputId": "f7aa4cca-ee41-4f1a-fb85-09f19d1f9edd",
        "colab": {
          "base_uri": "https://localhost:8080/"
        }
      },
      "source": [
        "termdocument_Matrix[0:30]"
      ],
      "execution_count": 230,
      "outputs": [
        {
          "output_type": "execute_result",
          "data": {
            "text/plain": [
              "array([['articles', 1, nan, nan],\n",
              "       ['future', 1, nan, nan],\n",
              "       ['in', 1, 1, nan],\n",
              "       ['concepts', 1, nan, nan],\n",
              "       ['deeper', 1, nan, nan],\n",
              "       ['over', 1, nan, nan],\n",
              "       ['go', 1, 1, nan],\n",
              "       ['to', 1, 1, nan],\n",
              "       ['try', 1, nan, nan],\n",
              "       ['will', 1, nan, nan],\n",
              "       ['We', 1, nan, nan],\n",
              "       ['field', 1, nan, nan],\n",
              "       ['this', 1, 1, nan],\n",
              "       ['of', 1, 1, nan],\n",
              "       ['terms', 1, nan, nan],\n",
              "       ['important', 1, 1, nan],\n",
              "       ['and', 1, 1, nan],\n",
              "       ['basic', 1, nan, nan],\n",
              "       ['most', 1, nan, nan],\n",
              "       ['the', 1, 1, nan],\n",
              "       ['some', 1, nan, nan],\n",
              "       ['explain', 1, nan, nan],\n",
              "       ['tried', 1, nan, nan],\n",
              "       ['we', 1, nan, nan],\n",
              "       ['article', 1, nan, nan],\n",
              "       ['In', 1, 1, nan],\n",
              "       ['scientist', 1, nan, nan],\n",
              "       ['data', 1, nan, nan],\n",
              "       ['every', 1, nan, nan],\n",
              "       ['for', 1, 1, nan]], dtype=object)"
            ]
          },
          "metadata": {
            "tags": []
          },
          "execution_count": 230
        }
      ]
    },
    {
      "cell_type": "code",
      "metadata": {
        "id": "GIJaUJ55B8_L"
      },
      "source": [
        ""
      ],
      "execution_count": null,
      "outputs": []
    },
    {
      "cell_type": "code",
      "metadata": {
        "id": "bnuv6A65w2cz",
        "outputId": "90237aec-c923-4d2a-b7b8-b55f4f773a9a",
        "colab": {
          "base_uri": "https://localhost:8080/"
        }
      },
      "source": [
        "def BinarizeCells(InDa):\n",
        "  "
      ],
      "execution_count": 56,
      "outputs": [
        {
          "output_type": "execute_result",
          "data": {
            "text/plain": [
              "4"
            ]
          },
          "metadata": {
            "tags": []
          },
          "execution_count": 56
        }
      ]
    },
    {
      "cell_type": "code",
      "metadata": {
        "id": "UGso9487fSnb"
      },
      "source": [
        "Table= pd.DataFrame(Data_F,columns=['Word','Document'])"
      ],
      "execution_count": null,
      "outputs": []
    },
    {
      "cell_type": "code",
      "metadata": {
        "id": "vA6OaKuBfvhu",
        "outputId": "9ac854e5-f78f-4594-b8df-571a9c428b87",
        "colab": {
          "base_uri": "https://localhost:8080/",
          "height": 419
        }
      },
      "source": [
        "Table"
      ],
      "execution_count": null,
      "outputs": [
        {
          "output_type": "execute_result",
          "data": {
            "text/html": [
              "<div>\n",
              "<style scoped>\n",
              "    .dataframe tbody tr th:only-of-type {\n",
              "        vertical-align: middle;\n",
              "    }\n",
              "\n",
              "    .dataframe tbody tr th {\n",
              "        vertical-align: top;\n",
              "    }\n",
              "\n",
              "    .dataframe thead th {\n",
              "        text-align: right;\n",
              "    }\n",
              "</style>\n",
              "<table border=\"1\" class=\"dataframe\">\n",
              "  <thead>\n",
              "    <tr style=\"text-align: right;\">\n",
              "      <th></th>\n",
              "      <th>Word</th>\n",
              "      <th>Document</th>\n",
              "    </tr>\n",
              "  </thead>\n",
              "  <tbody>\n",
              "    <tr>\n",
              "      <th>0</th>\n",
              "      <td>Nevada</td>\n",
              "      <td>Performance Art</td>\n",
              "    </tr>\n",
              "    <tr>\n",
              "      <th>1</th>\n",
              "      <td>Desert</td>\n",
              "      <td>Performance Art</td>\n",
              "    </tr>\n",
              "    <tr>\n",
              "      <th>2</th>\n",
              "      <td>Rock</td>\n",
              "      <td>Performance Art</td>\n",
              "    </tr>\n",
              "    <tr>\n",
              "      <th>3</th>\n",
              "      <td>Black</td>\n",
              "      <td>Performance Art</td>\n",
              "    </tr>\n",
              "    <tr>\n",
              "      <th>4</th>\n",
              "      <td>the</td>\n",
              "      <td>Performance Art</td>\n",
              "    </tr>\n",
              "    <tr>\n",
              "      <th>...</th>\n",
              "      <td>...</td>\n",
              "      <td>...</td>\n",
              "    </tr>\n",
              "    <tr>\n",
              "      <th>2640</th>\n",
              "      <td>Engineering</td>\n",
              "      <td>DataScience</td>\n",
              "    </tr>\n",
              "    <tr>\n",
              "      <th>2641</th>\n",
              "      <td>KIAUComputer</td>\n",
              "      <td>DataScience</td>\n",
              "    </tr>\n",
              "    <tr>\n",
              "      <th>2642</th>\n",
              "      <td>Community</td>\n",
              "      <td>DataScience</td>\n",
              "    </tr>\n",
              "    <tr>\n",
              "      <th>2643</th>\n",
              "      <td>Engineering</td>\n",
              "      <td>DataScience</td>\n",
              "    </tr>\n",
              "    <tr>\n",
              "      <th>2644</th>\n",
              "      <td>Computer</td>\n",
              "      <td>DataScience</td>\n",
              "    </tr>\n",
              "  </tbody>\n",
              "</table>\n",
              "<p>2645 rows × 2 columns</p>\n",
              "</div>"
            ],
            "text/plain": [
              "              Word         Document\n",
              "0           Nevada  Performance Art\n",
              "1           Desert  Performance Art\n",
              "2             Rock  Performance Art\n",
              "3            Black  Performance Art\n",
              "4              the  Performance Art\n",
              "...            ...              ...\n",
              "2640   Engineering      DataScience\n",
              "2641  KIAUComputer      DataScience\n",
              "2642     Community      DataScience\n",
              "2643   Engineering      DataScience\n",
              "2644      Computer      DataScience\n",
              "\n",
              "[2645 rows x 2 columns]"
            ]
          },
          "metadata": {
            "tags": []
          },
          "execution_count": 97
        }
      ]
    },
    {
      "cell_type": "code",
      "metadata": {
        "id": "AxTDCUefLUfP",
        "outputId": "35bf84b5-73de-4b63-eba9-9afffc82005b",
        "colab": {
          "base_uri": "https://localhost:8080/",
          "height": 419
        }
      },
      "source": [
        "Table.loc[Table['Document'] == filesname[0]]"
      ],
      "execution_count": null,
      "outputs": [
        {
          "output_type": "execute_result",
          "data": {
            "text/html": [
              "<div>\n",
              "<style scoped>\n",
              "    .dataframe tbody tr th:only-of-type {\n",
              "        vertical-align: middle;\n",
              "    }\n",
              "\n",
              "    .dataframe tbody tr th {\n",
              "        vertical-align: top;\n",
              "    }\n",
              "\n",
              "    .dataframe thead th {\n",
              "        text-align: right;\n",
              "    }\n",
              "</style>\n",
              "<table border=\"1\" class=\"dataframe\">\n",
              "  <thead>\n",
              "    <tr style=\"text-align: right;\">\n",
              "      <th></th>\n",
              "      <th>Word</th>\n",
              "      <th>Document</th>\n",
              "    </tr>\n",
              "  </thead>\n",
              "  <tbody>\n",
              "    <tr>\n",
              "      <th>871</th>\n",
              "      <td>articles</td>\n",
              "      <td>DataScience</td>\n",
              "    </tr>\n",
              "    <tr>\n",
              "      <th>872</th>\n",
              "      <td>future</td>\n",
              "      <td>DataScience</td>\n",
              "    </tr>\n",
              "    <tr>\n",
              "      <th>873</th>\n",
              "      <td>in</td>\n",
              "      <td>DataScience</td>\n",
              "    </tr>\n",
              "    <tr>\n",
              "      <th>874</th>\n",
              "      <td>concepts</td>\n",
              "      <td>DataScience</td>\n",
              "    </tr>\n",
              "    <tr>\n",
              "      <th>875</th>\n",
              "      <td>deeper</td>\n",
              "      <td>DataScience</td>\n",
              "    </tr>\n",
              "    <tr>\n",
              "      <th>...</th>\n",
              "      <td>...</td>\n",
              "      <td>...</td>\n",
              "    </tr>\n",
              "    <tr>\n",
              "      <th>2640</th>\n",
              "      <td>Engineering</td>\n",
              "      <td>DataScience</td>\n",
              "    </tr>\n",
              "    <tr>\n",
              "      <th>2641</th>\n",
              "      <td>KIAUComputer</td>\n",
              "      <td>DataScience</td>\n",
              "    </tr>\n",
              "    <tr>\n",
              "      <th>2642</th>\n",
              "      <td>Community</td>\n",
              "      <td>DataScience</td>\n",
              "    </tr>\n",
              "    <tr>\n",
              "      <th>2643</th>\n",
              "      <td>Engineering</td>\n",
              "      <td>DataScience</td>\n",
              "    </tr>\n",
              "    <tr>\n",
              "      <th>2644</th>\n",
              "      <td>Computer</td>\n",
              "      <td>DataScience</td>\n",
              "    </tr>\n",
              "  </tbody>\n",
              "</table>\n",
              "<p>1774 rows × 2 columns</p>\n",
              "</div>"
            ],
            "text/plain": [
              "              Word     Document\n",
              "871       articles  DataScience\n",
              "872         future  DataScience\n",
              "873             in  DataScience\n",
              "874       concepts  DataScience\n",
              "875         deeper  DataScience\n",
              "...            ...          ...\n",
              "2640   Engineering  DataScience\n",
              "2641  KIAUComputer  DataScience\n",
              "2642     Community  DataScience\n",
              "2643   Engineering  DataScience\n",
              "2644      Computer  DataScience\n",
              "\n",
              "[1774 rows x 2 columns]"
            ]
          },
          "metadata": {
            "tags": []
          },
          "execution_count": 102
        }
      ]
    },
    {
      "cell_type": "code",
      "metadata": {
        "id": "V8yykcWNj-yW"
      },
      "source": [
        "Table = Table['Position'].groupby([Table.Word]).apply(list).reset_index()"
      ],
      "execution_count": null,
      "outputs": []
    },
    {
      "cell_type": "code",
      "metadata": {
        "id": "ifdQCjqrkglN",
        "outputId": "bf30abcd-546e-4325-cf65-e7d62bbb081e",
        "colab": {
          "base_uri": "https://localhost:8080/",
          "height": 419
        }
      },
      "source": [
        "Table"
      ],
      "execution_count": null,
      "outputs": [
        {
          "output_type": "execute_result",
          "data": {
            "text/html": [
              "<div>\n",
              "<style scoped>\n",
              "    .dataframe tbody tr th:only-of-type {\n",
              "        vertical-align: middle;\n",
              "    }\n",
              "\n",
              "    .dataframe tbody tr th {\n",
              "        vertical-align: top;\n",
              "    }\n",
              "\n",
              "    .dataframe thead th {\n",
              "        text-align: right;\n",
              "    }\n",
              "</style>\n",
              "<table border=\"1\" class=\"dataframe\">\n",
              "  <thead>\n",
              "    <tr style=\"text-align: right;\">\n",
              "      <th></th>\n",
              "      <th>Word</th>\n",
              "      <th>Position</th>\n",
              "    </tr>\n",
              "  </thead>\n",
              "  <tbody>\n",
              "    <tr>\n",
              "      <th>0</th>\n",
              "      <td>2</td>\n",
              "      <td>[10, 9]</td>\n",
              "    </tr>\n",
              "    <tr>\n",
              "      <th>1</th>\n",
              "      <td>According</td>\n",
              "      <td>[1748]</td>\n",
              "    </tr>\n",
              "    <tr>\n",
              "      <th>2</th>\n",
              "      <td>After</td>\n",
              "      <td>[731]</td>\n",
              "    </tr>\n",
              "    <tr>\n",
              "      <th>3</th>\n",
              "      <td>Afterwards</td>\n",
              "      <td>[1432]</td>\n",
              "    </tr>\n",
              "    <tr>\n",
              "      <th>4</th>\n",
              "      <td>All</td>\n",
              "      <td>[425]</td>\n",
              "    </tr>\n",
              "    <tr>\n",
              "      <th>...</th>\n",
              "      <td>...</td>\n",
              "      <td>...</td>\n",
              "    </tr>\n",
              "    <tr>\n",
              "      <th>638</th>\n",
              "      <td>you</td>\n",
              "      <td>[1575, 1460, 1402, 1389, 1289, 1271, 1267, 124...</td>\n",
              "    </tr>\n",
              "    <tr>\n",
              "      <th>639</th>\n",
              "      <td>your</td>\n",
              "      <td>[1404, 1264, 218, 215, 211, 204]</td>\n",
              "    </tr>\n",
              "    <tr>\n",
              "      <th>640</th>\n",
              "      <td>“a</td>\n",
              "      <td>[983]</td>\n",
              "    </tr>\n",
              "    <tr>\n",
              "      <th>641</th>\n",
              "      <td>“horse”</td>\n",
              "      <td>[1492]</td>\n",
              "    </tr>\n",
              "    <tr>\n",
              "      <th>642</th>\n",
              "      <td>…</td>\n",
              "      <td>[1630]</td>\n",
              "    </tr>\n",
              "  </tbody>\n",
              "</table>\n",
              "<p>643 rows × 2 columns</p>\n",
              "</div>"
            ],
            "text/plain": [
              "           Word                                           Position\n",
              "0             2                                            [10, 9]\n",
              "1     According                                             [1748]\n",
              "2         After                                              [731]\n",
              "3    Afterwards                                             [1432]\n",
              "4           All                                              [425]\n",
              "..          ...                                                ...\n",
              "638         you  [1575, 1460, 1402, 1389, 1289, 1271, 1267, 124...\n",
              "639        your                   [1404, 1264, 218, 215, 211, 204]\n",
              "640          “a                                              [983]\n",
              "641     “horse”                                             [1492]\n",
              "642           …                                             [1630]\n",
              "\n",
              "[643 rows x 2 columns]"
            ]
          },
          "metadata": {
            "tags": []
          },
          "execution_count": 17
        }
      ]
    },
    {
      "cell_type": "code",
      "metadata": {
        "id": "nGS2hw_nkyfl",
        "outputId": "fdc48796-b28c-4ad7-e3d3-fb245f26db5e",
        "colab": {
          "base_uri": "https://localhost:8080/"
        }
      },
      "source": [
        "len(Table)"
      ],
      "execution_count": null,
      "outputs": [
        {
          "output_type": "execute_result",
          "data": {
            "text/plain": [
              "643"
            ]
          },
          "metadata": {
            "tags": []
          },
          "execution_count": 18
        }
      ]
    },
    {
      "cell_type": "markdown",
      "metadata": {
        "id": "44BnieLxw8J5"
      },
      "source": [
        "**Search Words**"
      ]
    },
    {
      "cell_type": "code",
      "metadata": {
        "id": "eHpjfLY_k20I",
        "outputId": "d86e016c-9308-48ac-c90b-d6e4c63a0b98",
        "colab": {
          "base_uri": "https://localhost:8080/"
        }
      },
      "source": [
        "SW= input(\"Search :\") "
      ],
      "execution_count": null,
      "outputs": [
        {
          "output_type": "stream",
          "text": [
            "Search :you\n"
          ],
          "name": "stdout"
        }
      ]
    },
    {
      "cell_type": "code",
      "metadata": {
        "id": "v7_Ae_MNxXUi",
        "outputId": "cd9db9df-529a-4711-adb6-d91afceae7f7",
        "colab": {
          "base_uri": "https://localhost:8080/"
        }
      },
      "source": [
        "SR= Table.loc[Table['Word']==SW]\n",
        "po= SR.iloc[0]['Position']\n",
        "print(\"Positions : {} \\nPosition Count : {}\".format(po, len(po)))"
      ],
      "execution_count": null,
      "outputs": [
        {
          "output_type": "stream",
          "text": [
            "Positions : [1575, 1460, 1402, 1389, 1289, 1271, 1267, 1243, 1156, 1152, 1145, 1117, 1076, 1059, 1051, 417, 324, 255, 112, 79] \n",
            "Position Count : 20\n"
          ],
          "name": "stdout"
        }
      ]
    }
  ]
}
