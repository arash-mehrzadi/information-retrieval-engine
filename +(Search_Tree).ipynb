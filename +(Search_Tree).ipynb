{
  "nbformat": 4,
  "nbformat_minor": 0,
  "metadata": {
    "colab": {
      "name": "+(Search_Tree).ipynb",
      "provenance": [],
      "collapsed_sections": [],
      "toc_visible": true,
      "mount_file_id": "18Vqgubvd9drG3RJqMoH2pDuQssTgbhus",
      "authorship_tag": "ABX9TyNLhmBmv1uUpGhHu0AEnOWw",
      "include_colab_link": true
    },
    "kernelspec": {
      "display_name": "Python 3",
      "name": "python3"
    }
  },
  "cells": [
    {
      "cell_type": "markdown",
      "metadata": {
        "id": "view-in-github",
        "colab_type": "text"
      },
      "source": [
        "<a href=\"https://colab.research.google.com/github/arash-mehrzadi/information-retrieval-engine/blob/main/%2B(Search_Tree).ipynb\" target=\"_parent\"><img src=\"https://colab.research.google.com/assets/colab-badge.svg\" alt=\"Open In Colab\"/></a>"
      ]
    },
    {
      "cell_type": "markdown",
      "metadata": {
        "id": "eTj1_1dtXmVc"
      },
      "source": [
        "# Information Retrieval"
      ]
    },
    {
      "cell_type": "markdown",
      "metadata": {
        "id": "VDtrStPCo91q"
      },
      "source": [
        "---\n",
        "\n",
        "\n",
        "Information Retrieval (IR) can be defined as a software program that deals with the organization, storage, retrieval, and evaluation of information from document repositories, particularly textual information. Information Retrieval is the activity of obtaining material that can usually be documented on an unstructured nature i.e. usually text which satisfies an information need from within large collections which is stored on computers. For example, Information Retrieval can be when a user enters a query into the system. \n",
        "\n",
        "In this project, I implement various data recovery techniques with all the operational details and try not to use existing modules and implement all functions."
      ]
    },
    {
      "cell_type": "markdown",
      "metadata": {
        "id": "ls1GfJfBYj3t"
      },
      "source": [
        "**Install Modules**\n",
        "\n"
      ]
    },
    {
      "cell_type": "markdown",
      "metadata": {
        "id": "2xewLZngs_f8"
      },
      "source": [
        "You can use one of the following modules to import the text of the documents into the project .\n",
        "\n",
        "**python-docx** : python-docx is a Python library for creating and updating Microsoft Word (.docx) files.\n",
        "\n",
        "More information is available in the [python-docx documentation.](https://python-docx.readthedocs.io/en/latest/)\n",
        "\n",
        "**docx2txt** : A pure python-based utility to extract text and images from docx files.\n",
        "\n",
        "More information is available in the [docx2txt documentation.](https://pypi.org/project/docx2txt/)"
      ]
    },
    {
      "cell_type": "code",
      "metadata": {
        "id": "50ug1AzuYjNq",
        "colab": {
          "base_uri": "https://localhost:8080/"
        },
        "outputId": "784b6753-c0af-454b-97ad-c5fc7256d6fd"
      },
      "source": [
        "pip install python-docx"
      ],
      "execution_count": null,
      "outputs": [
        {
          "output_type": "stream",
          "text": [
            "Collecting python-docx\n",
            "\u001b[?25l  Downloading https://files.pythonhosted.org/packages/e4/83/c66a1934ed5ed8ab1dbb9931f1779079f8bca0f6bbc5793c06c4b5e7d671/python-docx-0.8.10.tar.gz (5.5MB)\n",
            "\u001b[K     |████████████████████████████████| 5.5MB 6.2MB/s \n",
            "\u001b[?25hRequirement already satisfied: lxml>=2.3.2 in /usr/local/lib/python3.6/dist-packages (from python-docx) (4.2.6)\n",
            "Building wheels for collected packages: python-docx\n",
            "  Building wheel for python-docx (setup.py) ... \u001b[?25l\u001b[?25hdone\n",
            "  Created wheel for python-docx: filename=python_docx-0.8.10-cp36-none-any.whl size=184491 sha256=5beca9247bf087b4e14146e75e7f21bb35c4bc1abf16e65be89203897abc310b\n",
            "  Stored in directory: /root/.cache/pip/wheels/18/0b/a0/1dd62ff812c857c9e487f27d80d53d2b40531bec1acecfa47b\n",
            "Successfully built python-docx\n",
            "Installing collected packages: python-docx\n",
            "Successfully installed python-docx-0.8.10\n"
          ],
          "name": "stdout"
        }
      ]
    },
    {
      "cell_type": "code",
      "metadata": {
        "id": "_3sMdnfCaIRR",
        "colab": {
          "base_uri": "https://localhost:8080/"
        },
        "outputId": "05d83ffb-9ec0-49f6-db72-ce4260eadbb0"
      },
      "source": [
        "pip install docx2txt"
      ],
      "execution_count": null,
      "outputs": [
        {
          "output_type": "stream",
          "text": [
            "Collecting docx2txt\n",
            "  Downloading https://files.pythonhosted.org/packages/7d/7d/60ee3f2b16d9bfdfa72e8599470a2c1a5b759cb113c6fe1006be28359327/docx2txt-0.8.tar.gz\n",
            "Building wheels for collected packages: docx2txt\n",
            "  Building wheel for docx2txt (setup.py) ... \u001b[?25l\u001b[?25hdone\n",
            "  Created wheel for docx2txt: filename=docx2txt-0.8-cp36-none-any.whl size=3965 sha256=1a4c422a5d5d4660e89e1188e71b2ac603f37b94ef3c6300e8bda1473655f8ee\n",
            "  Stored in directory: /root/.cache/pip/wheels/b2/1f/26/a051209bbb77fc6bcfae2bb7e01fa0ff941b82292ab084d596\n",
            "Successfully built docx2txt\n",
            "Installing collected packages: docx2txt\n",
            "Successfully installed docx2txt-0.8\n"
          ],
          "name": "stdout"
        }
      ]
    },
    {
      "cell_type": "markdown",
      "metadata": {
        "id": "ufeHJr3zT2Im"
      },
      "source": [
        "**Import Modules**\n",
        "\n",
        "---\n",
        "\n"
      ]
    },
    {
      "cell_type": "code",
      "metadata": {
        "id": "QHyMZJCwYzjN"
      },
      "source": [
        "from docx import Document\n",
        "import docx2txt\n",
        "import pandas as pd \n",
        "import string\n",
        "import os"
      ],
      "execution_count": null,
      "outputs": []
    },
    {
      "cell_type": "markdown",
      "metadata": {
        "id": "lknKdjDMXwj6"
      },
      "source": [
        "**Import Data**\n",
        "\n",
        "---\n",
        "\n"
      ]
    },
    {
      "cell_type": "markdown",
      "metadata": {
        "id": "KO7XwHThwj8W"
      },
      "source": [
        "The functions of the **Import Data** section are implemented in such a way that you enter all the documents in (.docx) Format into the project by entering the path of your document folder.\n",
        "\n",
        "! This system has no limit on the number or volume of documents"
      ]
    },
    {
      "cell_type": "code",
      "metadata": {
        "id": "7YdukjKJF-DE"
      },
      "source": [
        "files=[]\n",
        "Text= []\n",
        "filesname= [] \n",
        "def importDocuments(path):\n",
        "  for r, d, f in os.walk(path):\n",
        "      for file in f:\n",
        "          if '.docx' in file:\n",
        "              files.append(os.path.join(r, file))\n",
        "              filesname.append(file.replace(\".docx\",\"\"))\n",
        "  print(\"Documents imported successfully\\nDocuments List :\\n\")\n",
        "  for f in files:\n",
        "      Text.append(docx2txt.process(f)) \n",
        "      print(f)"
      ],
      "execution_count": null,
      "outputs": []
    },
    {
      "cell_type": "code",
      "metadata": {
        "id": "k2QxmlJxGnop",
        "colab": {
          "base_uri": "https://localhost:8080/"
        },
        "outputId": "c2ccd964-079a-429a-8d7a-c2cebde5be6d"
      },
      "source": [
        "importDocuments(input(\"input your folder path : \"))"
      ],
      "execution_count": null,
      "outputs": [
        {
          "output_type": "stream",
          "text": [
            "input your folder path : /content/drive/My Drive/IR_Data\n",
            "Documents imported successfully\n",
            "Documents List :\n",
            "\n",
            "/content/drive/My Drive/IR_Data/DataScience.docx\n",
            "/content/drive/My Drive/IR_Data/Piet Mondrian.docx\n",
            "/content/drive/My Drive/IR_Data/Performance Art.docx\n"
          ],
          "name": "stdout"
        }
      ]
    },
    {
      "cell_type": "code",
      "metadata": {
        "id": "-fMUf_kmH8eH",
        "colab": {
          "base_uri": "https://localhost:8080/"
        },
        "outputId": "7e21c357-c37e-49b7-e21d-24c23d7c7f99"
      },
      "source": [
        "filesname"
      ],
      "execution_count": null,
      "outputs": [
        {
          "output_type": "execute_result",
          "data": {
            "text/plain": [
              "['DataScience', 'Piet Mondrian', 'Performance Art']"
            ]
          },
          "metadata": {
            "tags": []
          },
          "execution_count": 7
        }
      ]
    },
    {
      "cell_type": "markdown",
      "metadata": {
        "id": "ELaB_7Q6T9qT"
      },
      "source": [
        "\n",
        "\n",
        "**Data Prepration**\n",
        "\n",
        "---\n",
        "\n"
      ]
    },
    {
      "cell_type": "code",
      "metadata": {
        "id": "NcaA0jZaUNSJ"
      },
      "source": [
        "PText= []\n",
        "def Prepration(inputtext):\n",
        "  for ftext in inputtext:\n",
        "    RRM= ftext.translate(str.maketrans('', '', string.punctuation))\n",
        "    RRM= RRM.replace(\"\\n\",\"\")\n",
        "    PText.append(RRM.split())"
      ],
      "execution_count": null,
      "outputs": []
    },
    {
      "cell_type": "code",
      "metadata": {
        "id": "Cf3ha-WUVE_S"
      },
      "source": [
        "Prepration(Text)"
      ],
      "execution_count": null,
      "outputs": []
    },
    {
      "cell_type": "code",
      "metadata": {
        "id": "NupMd7gMmEl8",
        "colab": {
          "base_uri": "https://localhost:8080/"
        },
        "outputId": "a5917225-8317-40f5-b4b9-ac1d7c147817"
      },
      "source": [
        "PText[1]"
      ],
      "execution_count": null,
      "outputs": [
        {
          "output_type": "execute_result",
          "data": {
            "text/plain": [
              "['WHO',\n",
              " 'IS',\n",
              " 'PIET',\n",
              " 'MONDRIANPiet',\n",
              " 'Mondrian',\n",
              " 'is',\n",
              " 'a',\n",
              " 'Dutch',\n",
              " 'artist',\n",
              " 'best',\n",
              " 'known',\n",
              " 'for',\n",
              " 'his',\n",
              " 'abstract',\n",
              " 'paintings',\n",
              " 'Art',\n",
              " 'that',\n",
              " 'is',\n",
              " 'abstract',\n",
              " 'does',\n",
              " 'not',\n",
              " 'show',\n",
              " 'things',\n",
              " 'that',\n",
              " 'are',\n",
              " 'recognisable',\n",
              " 'such',\n",
              " 'as',\n",
              " 'people',\n",
              " 'objects',\n",
              " 'or',\n",
              " 'landscapes',\n",
              " 'Instead',\n",
              " 'artists',\n",
              " 'use',\n",
              " 'colours',\n",
              " 'shapes',\n",
              " 'and',\n",
              " 'textures',\n",
              " 'to',\n",
              " 'achieve',\n",
              " 'their',\n",
              " 'effectAs',\n",
              " 'well',\n",
              " 'as',\n",
              " 'abstract',\n",
              " 'art',\n",
              " 'Mondrian',\n",
              " 'was',\n",
              " 'also',\n",
              " 'passionate',\n",
              " 'about',\n",
              " 'dancing',\n",
              " 'Apparently',\n",
              " 'he',\n",
              " 'didnt',\n",
              " 'like',\n",
              " 'slow',\n",
              " 'traditional',\n",
              " 'dances',\n",
              " 'like',\n",
              " 'waltzes',\n",
              " 'or',\n",
              " 'tango',\n",
              " 'but',\n",
              " 'enjoyed',\n",
              " 'high',\n",
              " 'energy',\n",
              " 'fast',\n",
              " 'dancing',\n",
              " 'styles',\n",
              " 'He',\n",
              " 'even',\n",
              " 'called',\n",
              " 'one',\n",
              " 'of',\n",
              " 'his',\n",
              " 'abstract',\n",
              " 'paintings',\n",
              " 'Broadway',\n",
              " 'Boogie',\n",
              " 'Woogie',\n",
              " 'after',\n",
              " 'a',\n",
              " 'popular',\n",
              " 'dance',\n",
              " 'of',\n",
              " 'the',\n",
              " 'timeWhen',\n",
              " 'Mondrian',\n",
              " 'made',\n",
              " 'his',\n",
              " 'paintings',\n",
              " 'he',\n",
              " 'would',\n",
              " 'always',\n",
              " 'mix',\n",
              " 'his',\n",
              " 'own',\n",
              " 'colours',\n",
              " 'never',\n",
              " 'using',\n",
              " 'the',\n",
              " 'paint',\n",
              " 'directly',\n",
              " 'out',\n",
              " 'of',\n",
              " 'a',\n",
              " 'tube',\n",
              " 'He',\n",
              " 'often',\n",
              " 'used',\n",
              " 'primary',\n",
              " 'colours',\n",
              " '–',\n",
              " 'red',\n",
              " 'yellow',\n",
              " 'and',\n",
              " 'blue',\n",
              " '–',\n",
              " 'as',\n",
              " 'in',\n",
              " 'this',\n",
              " 'paintingMondrian',\n",
              " 'did',\n",
              " 'not',\n",
              " 'use',\n",
              " 'a',\n",
              " 'ruler',\n",
              " 'to',\n",
              " 'measure',\n",
              " 'out',\n",
              " 'his',\n",
              " 'lines',\n",
              " 'He',\n",
              " 'thought',\n",
              " 'carefully',\n",
              " 'about',\n",
              " 'where',\n",
              " 'to',\n",
              " 'place',\n",
              " 'the',\n",
              " 'lines',\n",
              " 'like',\n",
              " 'those',\n",
              " 'that',\n",
              " 'you',\n",
              " 'see',\n",
              " 'in',\n",
              " 'this',\n",
              " 'painting',\n",
              " 'Notice',\n",
              " 'how',\n",
              " 'the',\n",
              " 'red',\n",
              " 'yellow',\n",
              " 'and',\n",
              " 'blue',\n",
              " 'are',\n",
              " 'placed',\n",
              " 'to',\n",
              " 'the',\n",
              " 'side',\n",
              " 'and',\n",
              " 'the',\n",
              " 'centre',\n",
              " 'of',\n",
              " 'painting',\n",
              " 'doesnt',\n",
              " 'have',\n",
              " 'any',\n",
              " 'colour',\n",
              " 'Mondrian',\n",
              " 'often',\n",
              " 'used',\n",
              " 'colour',\n",
              " 'and',\n",
              " 'composition',\n",
              " 'in',\n",
              " 'this',\n",
              " 'way',\n",
              " 'A',\n",
              " 'composition',\n",
              " 'is',\n",
              " 'the',\n",
              " 'arrangement',\n",
              " 'of',\n",
              " 'shapes',\n",
              " 'and',\n",
              " 'images',\n",
              " 'in',\n",
              " 'a',\n",
              " 'pictureAlthough',\n",
              " 'he',\n",
              " 'is',\n",
              " 'best',\n",
              " 'known',\n",
              " 'for',\n",
              " 'his',\n",
              " 'abstract',\n",
              " 'paintings',\n",
              " 'made',\n",
              " 'from',\n",
              " 'squares',\n",
              " 'and',\n",
              " 'rectangles',\n",
              " 'Piet',\n",
              " 'Mondrian',\n",
              " 'started',\n",
              " 'out',\n",
              " 'painting',\n",
              " 'realistic',\n",
              " 'scenes',\n",
              " 'He',\n",
              " 'especially',\n",
              " 'liked',\n",
              " 'painting',\n",
              " 'treesCan',\n",
              " 'you',\n",
              " 'see',\n",
              " 'the',\n",
              " 'shape',\n",
              " 'of',\n",
              " 'a',\n",
              " 'tree',\n",
              " 'in',\n",
              " 'this',\n",
              " 'painting',\n",
              " 'It',\n",
              " 'shows',\n",
              " 'how',\n",
              " 'he',\n",
              " 'began',\n",
              " 'to',\n",
              " 'develop',\n",
              " 'his',\n",
              " 'abstract',\n",
              " 'style',\n",
              " 'The',\n",
              " 'trunk',\n",
              " 'and',\n",
              " 'branches',\n",
              " 'of',\n",
              " 'the',\n",
              " 'tree',\n",
              " 'have',\n",
              " 'become',\n",
              " 'a',\n",
              " 'network',\n",
              " 'of',\n",
              " 'horizontal',\n",
              " 'and',\n",
              " 'vertical',\n",
              " 'linesIn',\n",
              " 'the',\n",
              " 'early',\n",
              " '19th',\n",
              " 'century',\n",
              " 'Paris',\n",
              " 'was',\n",
              " 'the',\n",
              " 'place',\n",
              " 'where',\n",
              " 'all',\n",
              " 'the',\n",
              " 'exciting',\n",
              " 'new',\n",
              " 'art',\n",
              " 'was',\n",
              " 'happening',\n",
              " 'and',\n",
              " 'Mondrian',\n",
              " 'felt',\n",
              " 'he',\n",
              " 'had',\n",
              " 'to',\n",
              " 'go',\n",
              " 'there',\n",
              " 'He',\n",
              " 'took',\n",
              " 'a',\n",
              " 'big',\n",
              " 'risk',\n",
              " 'for',\n",
              " 'his',\n",
              " 'art',\n",
              " 'He',\n",
              " 'left',\n",
              " 'behind',\n",
              " 'his',\n",
              " 'home',\n",
              " 'in',\n",
              " 'the',\n",
              " 'Netherlands',\n",
              " 'in',\n",
              " '1911',\n",
              " 'and',\n",
              " 'the',\n",
              " 'woman',\n",
              " 'he',\n",
              " 'was',\n",
              " 'going',\n",
              " 'to',\n",
              " 'marry',\n",
              " 'to',\n",
              " 'pursue',\n",
              " 'his',\n",
              " 'career',\n",
              " 'as',\n",
              " 'an',\n",
              " 'artist',\n",
              " 'in',\n",
              " 'ParisThis',\n",
              " 'is',\n",
              " 'the',\n",
              " 'Piet',\n",
              " 'Mondrian',\n",
              " 'in',\n",
              " 'his',\n",
              " 'Paris',\n",
              " 'studioThe',\n",
              " 'risk',\n",
              " 'paid',\n",
              " 'off',\n",
              " 'Mondrian',\n",
              " 'became',\n",
              " 'an',\n",
              " 'important',\n",
              " 'artist',\n",
              " 'whose',\n",
              " 'ideas',\n",
              " 'and',\n",
              " 'work',\n",
              " 'influenced',\n",
              " 'lots',\n",
              " 'of',\n",
              " 'later',\n",
              " 'artists',\n",
              " 'In',\n",
              " 'fact',\n",
              " 'it',\n",
              " 'wasnt',\n",
              " 'just',\n",
              " 'art',\n",
              " 'that',\n",
              " 'Mondrian',\n",
              " 'inspired',\n",
              " 'The',\n",
              " 'influence',\n",
              " 'of',\n",
              " 'his',\n",
              " 'paintings',\n",
              " 'can',\n",
              " 'be',\n",
              " 'seen',\n",
              " 'in',\n",
              " 'lots',\n",
              " 'of',\n",
              " 'other',\n",
              " 'things',\n",
              " '–',\n",
              " 'from',\n",
              " 'furniture',\n",
              " 'to',\n",
              " 'fashion']"
            ]
          },
          "metadata": {
            "tags": []
          },
          "execution_count": 280
        }
      ]
    },
    {
      "cell_type": "markdown",
      "metadata": {
        "id": "k1mTr4sSwzIK"
      },
      "source": [
        "\n",
        "\n",
        "**Create Table**\n",
        "\n",
        "---\n",
        "\n"
      ]
    },
    {
      "cell_type": "code",
      "metadata": {
        "id": "wQ7uBs0jMZ7U"
      },
      "source": [
        "Data_dic= {}\n",
        "def df_CSV():\n",
        "  a= len(filesname)\n",
        "  b= 0\n",
        "  Table= pd.DataFrame(Data_F,columns=['Word','Document'])\n",
        "  while b< len(filesname):\n",
        "    AT= Table.loc[Table['Document'] == filesname[b]]\n",
        "    b+= 1\n",
        "    a-= 1\n",
        "    AT= AT.drop_duplicates(subset=['Word'])\n",
        "    AT= AT.reset_index(drop=True)\n",
        "    Data_dic[filesname[b-1]]= AT"
      ],
      "execution_count": null,
      "outputs": []
    },
    {
      "cell_type": "code",
      "metadata": {
        "id": "ZWh_C_sBgUBp"
      },
      "source": [
        "Data_F= []\n",
        "def CreateTable(inputdata,docname):\n",
        "  #Data_F=[len(docname)]\n",
        "  i= 0\n",
        "  a= len(docname)\n",
        "  while a!= 0:\n",
        "    Words_count= len(inputdata[a-1])\n",
        "    a-= 1\n",
        "    while Words_count != 0 :\n",
        "      ipt=[inputdata[a][Words_count-1],docname[a]]\n",
        "      Data_F.append(ipt)\n",
        "      Words_count= Words_count-1\n",
        "      i+=1\n",
        "    df_CSV()"
      ],
      "execution_count": null,
      "outputs": []
    },
    {
      "cell_type": "code",
      "metadata": {
        "id": "30X1tv1TGcn1"
      },
      "source": [
        "CreateTable(PText, filesname)"
      ],
      "execution_count": null,
      "outputs": []
    },
    {
      "cell_type": "code",
      "metadata": {
        "id": "Ho426boo2jMt",
        "colab": {
          "base_uri": "https://localhost:8080/",
          "height": 424
        },
        "outputId": "fafe92cd-789b-4e95-d287-45258e5c141d"
      },
      "source": [
        "Data_dic['Performance Art']"
      ],
      "execution_count": null,
      "outputs": [
        {
          "output_type": "execute_result",
          "data": {
            "text/html": [
              "<div>\n",
              "<style scoped>\n",
              "    .dataframe tbody tr th:only-of-type {\n",
              "        vertical-align: middle;\n",
              "    }\n",
              "\n",
              "    .dataframe tbody tr th {\n",
              "        vertical-align: top;\n",
              "    }\n",
              "\n",
              "    .dataframe thead th {\n",
              "        text-align: right;\n",
              "    }\n",
              "</style>\n",
              "<table border=\"1\" class=\"dataframe\">\n",
              "  <thead>\n",
              "    <tr style=\"text-align: right;\">\n",
              "      <th></th>\n",
              "      <th>Word</th>\n",
              "      <th>Document</th>\n",
              "    </tr>\n",
              "  </thead>\n",
              "  <tbody>\n",
              "    <tr>\n",
              "      <th>0</th>\n",
              "      <td>Nevada</td>\n",
              "      <td>Performance Art</td>\n",
              "    </tr>\n",
              "    <tr>\n",
              "      <th>1</th>\n",
              "      <td>Desert</td>\n",
              "      <td>Performance Art</td>\n",
              "    </tr>\n",
              "    <tr>\n",
              "      <th>2</th>\n",
              "      <td>Rock</td>\n",
              "      <td>Performance Art</td>\n",
              "    </tr>\n",
              "    <tr>\n",
              "      <th>3</th>\n",
              "      <td>Black</td>\n",
              "      <td>Performance Art</td>\n",
              "    </tr>\n",
              "    <tr>\n",
              "      <th>4</th>\n",
              "      <td>the</td>\n",
              "      <td>Performance Art</td>\n",
              "    </tr>\n",
              "    <tr>\n",
              "      <th>...</th>\n",
              "      <td>...</td>\n",
              "      <td>...</td>\n",
              "    </tr>\n",
              "    <tr>\n",
              "      <th>298</th>\n",
              "      <td>features</td>\n",
              "      <td>Performance Art</td>\n",
              "    </tr>\n",
              "    <tr>\n",
              "      <th>299</th>\n",
              "      <td>typically</td>\n",
              "      <td>Performance Art</td>\n",
              "    </tr>\n",
              "    <tr>\n",
              "      <th>300</th>\n",
              "      <td>timebased</td>\n",
              "      <td>Performance Art</td>\n",
              "    </tr>\n",
              "    <tr>\n",
              "      <th>301</th>\n",
              "      <td>artPerformance</td>\n",
              "      <td>Performance Art</td>\n",
              "    </tr>\n",
              "    <tr>\n",
              "      <th>302</th>\n",
              "      <td>Performance</td>\n",
              "      <td>Performance Art</td>\n",
              "    </tr>\n",
              "  </tbody>\n",
              "</table>\n",
              "<p>303 rows × 2 columns</p>\n",
              "</div>"
            ],
            "text/plain": [
              "               Word         Document\n",
              "0            Nevada  Performance Art\n",
              "1            Desert  Performance Art\n",
              "2              Rock  Performance Art\n",
              "3             Black  Performance Art\n",
              "4               the  Performance Art\n",
              "..              ...              ...\n",
              "298        features  Performance Art\n",
              "299       typically  Performance Art\n",
              "300       timebased  Performance Art\n",
              "301  artPerformance  Performance Art\n",
              "302     Performance  Performance Art\n",
              "\n",
              "[303 rows x 2 columns]"
            ]
          },
          "metadata": {
            "tags": []
          },
          "execution_count": 256
        }
      ]
    },
    {
      "cell_type": "code",
      "metadata": {
        "id": "Sk9_FUaZnWu2"
      },
      "source": [
        "def Merge(input_table):\n",
        "  a=0\n",
        "  if a == 0:\n",
        "    output_table= pd.merge(input_table[filesname[a]], input_table[filesname[a+1]],on='Word',how='outer')\n",
        "    a+= 2\n",
        "  \n",
        "  while a!= len(filesname):\n",
        "    output_table = output_table.append(pd.merge(output_table, Data_dic[filesname[a]],on='Word',how='outer'))\n",
        "    a+= 1\n",
        "  return output_table"
      ],
      "execution_count": null,
      "outputs": []
    },
    {
      "cell_type": "code",
      "metadata": {
        "id": "ie3A-GQDz51n"
      },
      "source": [
        "def fix_t(In_Da, fname):\n",
        "  for name in fname:\n",
        "    In_Da[name].columns= ['Word',name]\n",
        "  return In_Da"
      ],
      "execution_count": null,
      "outputs": []
    },
    {
      "cell_type": "code",
      "metadata": {
        "id": "UCMOzwtc0teG"
      },
      "source": [
        "Data_dic= fix_t(Data_dic, filesname)"
      ],
      "execution_count": null,
      "outputs": []
    },
    {
      "cell_type": "code",
      "metadata": {
        "id": "l-7Th7tG1NO-",
        "colab": {
          "base_uri": "https://localhost:8080/",
          "height": 424
        },
        "outputId": "2c0f40d1-89c9-4fcd-d61b-dcfbd1e7b23a"
      },
      "source": [
        "Data_dic['DataScience']"
      ],
      "execution_count": null,
      "outputs": [
        {
          "output_type": "execute_result",
          "data": {
            "text/html": [
              "<div>\n",
              "<style scoped>\n",
              "    .dataframe tbody tr th:only-of-type {\n",
              "        vertical-align: middle;\n",
              "    }\n",
              "\n",
              "    .dataframe tbody tr th {\n",
              "        vertical-align: top;\n",
              "    }\n",
              "\n",
              "    .dataframe thead th {\n",
              "        text-align: right;\n",
              "    }\n",
              "</style>\n",
              "<table border=\"1\" class=\"dataframe\">\n",
              "  <thead>\n",
              "    <tr style=\"text-align: right;\">\n",
              "      <th></th>\n",
              "      <th>Word</th>\n",
              "      <th>DataScience</th>\n",
              "    </tr>\n",
              "  </thead>\n",
              "  <tbody>\n",
              "    <tr>\n",
              "      <th>0</th>\n",
              "      <td>articles</td>\n",
              "      <td>DataScience</td>\n",
              "    </tr>\n",
              "    <tr>\n",
              "      <th>1</th>\n",
              "      <td>future</td>\n",
              "      <td>DataScience</td>\n",
              "    </tr>\n",
              "    <tr>\n",
              "      <th>2</th>\n",
              "      <td>in</td>\n",
              "      <td>DataScience</td>\n",
              "    </tr>\n",
              "    <tr>\n",
              "      <th>3</th>\n",
              "      <td>concepts</td>\n",
              "      <td>DataScience</td>\n",
              "    </tr>\n",
              "    <tr>\n",
              "      <th>4</th>\n",
              "      <td>deeper</td>\n",
              "      <td>DataScience</td>\n",
              "    </tr>\n",
              "    <tr>\n",
              "      <th>...</th>\n",
              "      <td>...</td>\n",
              "      <td>...</td>\n",
              "    </tr>\n",
              "    <tr>\n",
              "      <th>640</th>\n",
              "      <td>KIAU22An</td>\n",
              "      <td>DataScience</td>\n",
              "    </tr>\n",
              "    <tr>\n",
              "      <th>641</th>\n",
              "      <td>Community</td>\n",
              "      <td>DataScience</td>\n",
              "    </tr>\n",
              "    <tr>\n",
              "      <th>642</th>\n",
              "      <td>Engineering</td>\n",
              "      <td>DataScience</td>\n",
              "    </tr>\n",
              "    <tr>\n",
              "      <th>643</th>\n",
              "      <td>KIAUComputer</td>\n",
              "      <td>DataScience</td>\n",
              "    </tr>\n",
              "    <tr>\n",
              "      <th>644</th>\n",
              "      <td>Computer</td>\n",
              "      <td>DataScience</td>\n",
              "    </tr>\n",
              "  </tbody>\n",
              "</table>\n",
              "<p>645 rows × 2 columns</p>\n",
              "</div>"
            ],
            "text/plain": [
              "             Word  DataScience\n",
              "0        articles  DataScience\n",
              "1          future  DataScience\n",
              "2              in  DataScience\n",
              "3        concepts  DataScience\n",
              "4          deeper  DataScience\n",
              "..            ...          ...\n",
              "640      KIAU22An  DataScience\n",
              "641     Community  DataScience\n",
              "642   Engineering  DataScience\n",
              "643  KIAUComputer  DataScience\n",
              "644      Computer  DataScience\n",
              "\n",
              "[645 rows x 2 columns]"
            ]
          },
          "metadata": {
            "tags": []
          },
          "execution_count": 260
        }
      ]
    },
    {
      "cell_type": "code",
      "metadata": {
        "id": "d7_e40sttc_H"
      },
      "source": [
        "MData= Merge(Data_dic)"
      ],
      "execution_count": null,
      "outputs": []
    },
    {
      "cell_type": "code",
      "metadata": {
        "id": "A6jzE_uZwyF6",
        "colab": {
          "base_uri": "https://localhost:8080/",
          "height": 424
        },
        "outputId": "0c2fb1ea-5bf0-4e93-fcea-6550b1e1f82a"
      },
      "source": [
        "MData"
      ],
      "execution_count": null,
      "outputs": [
        {
          "output_type": "execute_result",
          "data": {
            "text/html": [
              "<div>\n",
              "<style scoped>\n",
              "    .dataframe tbody tr th:only-of-type {\n",
              "        vertical-align: middle;\n",
              "    }\n",
              "\n",
              "    .dataframe tbody tr th {\n",
              "        vertical-align: top;\n",
              "    }\n",
              "\n",
              "    .dataframe thead th {\n",
              "        text-align: right;\n",
              "    }\n",
              "</style>\n",
              "<table border=\"1\" class=\"dataframe\">\n",
              "  <thead>\n",
              "    <tr style=\"text-align: right;\">\n",
              "      <th></th>\n",
              "      <th>Word</th>\n",
              "      <th>DataScience</th>\n",
              "      <th>Piet Mondrian</th>\n",
              "      <th>Performance Art</th>\n",
              "    </tr>\n",
              "  </thead>\n",
              "  <tbody>\n",
              "    <tr>\n",
              "      <th>0</th>\n",
              "      <td>articles</td>\n",
              "      <td>DataScience</td>\n",
              "      <td>NaN</td>\n",
              "      <td>NaN</td>\n",
              "    </tr>\n",
              "    <tr>\n",
              "      <th>1</th>\n",
              "      <td>future</td>\n",
              "      <td>DataScience</td>\n",
              "      <td>NaN</td>\n",
              "      <td>NaN</td>\n",
              "    </tr>\n",
              "    <tr>\n",
              "      <th>2</th>\n",
              "      <td>in</td>\n",
              "      <td>DataScience</td>\n",
              "      <td>Piet Mondrian</td>\n",
              "      <td>NaN</td>\n",
              "    </tr>\n",
              "    <tr>\n",
              "      <th>3</th>\n",
              "      <td>concepts</td>\n",
              "      <td>DataScience</td>\n",
              "      <td>NaN</td>\n",
              "      <td>NaN</td>\n",
              "    </tr>\n",
              "    <tr>\n",
              "      <th>4</th>\n",
              "      <td>deeper</td>\n",
              "      <td>DataScience</td>\n",
              "      <td>NaN</td>\n",
              "      <td>NaN</td>\n",
              "    </tr>\n",
              "    <tr>\n",
              "      <th>...</th>\n",
              "      <td>...</td>\n",
              "      <td>...</td>\n",
              "      <td>...</td>\n",
              "      <td>...</td>\n",
              "    </tr>\n",
              "    <tr>\n",
              "      <th>1004</th>\n",
              "      <td>onlookers</td>\n",
              "      <td>NaN</td>\n",
              "      <td>NaN</td>\n",
              "      <td>Performance Art</td>\n",
              "    </tr>\n",
              "    <tr>\n",
              "      <th>1005</th>\n",
              "      <td>typically</td>\n",
              "      <td>NaN</td>\n",
              "      <td>NaN</td>\n",
              "      <td>Performance Art</td>\n",
              "    </tr>\n",
              "    <tr>\n",
              "      <th>1006</th>\n",
              "      <td>timebased</td>\n",
              "      <td>NaN</td>\n",
              "      <td>NaN</td>\n",
              "      <td>Performance Art</td>\n",
              "    </tr>\n",
              "    <tr>\n",
              "      <th>1007</th>\n",
              "      <td>artPerformance</td>\n",
              "      <td>NaN</td>\n",
              "      <td>NaN</td>\n",
              "      <td>Performance Art</td>\n",
              "    </tr>\n",
              "    <tr>\n",
              "      <th>1008</th>\n",
              "      <td>Performance</td>\n",
              "      <td>NaN</td>\n",
              "      <td>NaN</td>\n",
              "      <td>Performance Art</td>\n",
              "    </tr>\n",
              "  </tbody>\n",
              "</table>\n",
              "<p>1787 rows × 4 columns</p>\n",
              "</div>"
            ],
            "text/plain": [
              "                Word  DataScience  Piet Mondrian  Performance Art\n",
              "0           articles  DataScience            NaN              NaN\n",
              "1             future  DataScience            NaN              NaN\n",
              "2                 in  DataScience  Piet Mondrian              NaN\n",
              "3           concepts  DataScience            NaN              NaN\n",
              "4             deeper  DataScience            NaN              NaN\n",
              "...              ...          ...            ...              ...\n",
              "1004       onlookers          NaN            NaN  Performance Art\n",
              "1005       typically          NaN            NaN  Performance Art\n",
              "1006       timebased          NaN            NaN  Performance Art\n",
              "1007  artPerformance          NaN            NaN  Performance Art\n",
              "1008     Performance          NaN            NaN  Performance Art\n",
              "\n",
              "[1787 rows x 4 columns]"
            ]
          },
          "metadata": {
            "tags": []
          },
          "execution_count": 262
        }
      ]
    },
    {
      "cell_type": "code",
      "metadata": {
        "id": "B6bCOTUC-iZW"
      },
      "source": [
        "def SetValue(IN_D,IN_N):\n",
        "  for name in IN_N:\n",
        "    print(name)\n",
        "    IN_D.loc[IN_D[name]== name, name] = 1\n",
        "    IN_D = IN_D.reset_index(drop=True)\n",
        "  return IN_D"
      ],
      "execution_count": null,
      "outputs": []
    },
    {
      "cell_type": "code",
      "metadata": {
        "id": "eRtPCyOUb50z",
        "colab": {
          "base_uri": "https://localhost:8080/"
        },
        "outputId": "94866011-78b5-4c7a-ce7a-0c88cee1570b"
      },
      "source": [
        "filesname"
      ],
      "execution_count": null,
      "outputs": [
        {
          "output_type": "execute_result",
          "data": {
            "text/plain": [
              "['DataScience', 'Piet Mondrian', 'Performance Art']"
            ]
          },
          "metadata": {
            "tags": []
          },
          "execution_count": 264
        }
      ]
    },
    {
      "cell_type": "code",
      "metadata": {
        "id": "lc59YFc__ijL",
        "colab": {
          "base_uri": "https://localhost:8080/",
          "height": 479
        },
        "outputId": "f0f3996d-fa86-4205-e477-ab64833ca7af"
      },
      "source": [
        "termdocument= SetValue(MData, filesname)\n",
        "termdocument= termdocument.fillna(0)\n",
        "termdocument"
      ],
      "execution_count": null,
      "outputs": [
        {
          "output_type": "stream",
          "text": [
            "DataScience\n",
            "Piet Mondrian\n",
            "Performance Art\n"
          ],
          "name": "stdout"
        },
        {
          "output_type": "execute_result",
          "data": {
            "text/html": [
              "<div>\n",
              "<style scoped>\n",
              "    .dataframe tbody tr th:only-of-type {\n",
              "        vertical-align: middle;\n",
              "    }\n",
              "\n",
              "    .dataframe tbody tr th {\n",
              "        vertical-align: top;\n",
              "    }\n",
              "\n",
              "    .dataframe thead th {\n",
              "        text-align: right;\n",
              "    }\n",
              "</style>\n",
              "<table border=\"1\" class=\"dataframe\">\n",
              "  <thead>\n",
              "    <tr style=\"text-align: right;\">\n",
              "      <th></th>\n",
              "      <th>Word</th>\n",
              "      <th>DataScience</th>\n",
              "      <th>Piet Mondrian</th>\n",
              "      <th>Performance Art</th>\n",
              "    </tr>\n",
              "  </thead>\n",
              "  <tbody>\n",
              "    <tr>\n",
              "      <th>0</th>\n",
              "      <td>articles</td>\n",
              "      <td>1</td>\n",
              "      <td>0</td>\n",
              "      <td>0</td>\n",
              "    </tr>\n",
              "    <tr>\n",
              "      <th>1</th>\n",
              "      <td>future</td>\n",
              "      <td>1</td>\n",
              "      <td>0</td>\n",
              "      <td>0</td>\n",
              "    </tr>\n",
              "    <tr>\n",
              "      <th>2</th>\n",
              "      <td>in</td>\n",
              "      <td>1</td>\n",
              "      <td>1</td>\n",
              "      <td>0</td>\n",
              "    </tr>\n",
              "    <tr>\n",
              "      <th>3</th>\n",
              "      <td>concepts</td>\n",
              "      <td>1</td>\n",
              "      <td>0</td>\n",
              "      <td>0</td>\n",
              "    </tr>\n",
              "    <tr>\n",
              "      <th>4</th>\n",
              "      <td>deeper</td>\n",
              "      <td>1</td>\n",
              "      <td>0</td>\n",
              "      <td>0</td>\n",
              "    </tr>\n",
              "    <tr>\n",
              "      <th>...</th>\n",
              "      <td>...</td>\n",
              "      <td>...</td>\n",
              "      <td>...</td>\n",
              "      <td>...</td>\n",
              "    </tr>\n",
              "    <tr>\n",
              "      <th>1782</th>\n",
              "      <td>onlookers</td>\n",
              "      <td>0</td>\n",
              "      <td>0</td>\n",
              "      <td>1</td>\n",
              "    </tr>\n",
              "    <tr>\n",
              "      <th>1783</th>\n",
              "      <td>typically</td>\n",
              "      <td>0</td>\n",
              "      <td>0</td>\n",
              "      <td>1</td>\n",
              "    </tr>\n",
              "    <tr>\n",
              "      <th>1784</th>\n",
              "      <td>timebased</td>\n",
              "      <td>0</td>\n",
              "      <td>0</td>\n",
              "      <td>1</td>\n",
              "    </tr>\n",
              "    <tr>\n",
              "      <th>1785</th>\n",
              "      <td>artPerformance</td>\n",
              "      <td>0</td>\n",
              "      <td>0</td>\n",
              "      <td>1</td>\n",
              "    </tr>\n",
              "    <tr>\n",
              "      <th>1786</th>\n",
              "      <td>Performance</td>\n",
              "      <td>0</td>\n",
              "      <td>0</td>\n",
              "      <td>1</td>\n",
              "    </tr>\n",
              "  </tbody>\n",
              "</table>\n",
              "<p>1787 rows × 4 columns</p>\n",
              "</div>"
            ],
            "text/plain": [
              "                Word  DataScience  Piet Mondrian  Performance Art\n",
              "0           articles            1              0                0\n",
              "1             future            1              0                0\n",
              "2                 in            1              1                0\n",
              "3           concepts            1              0                0\n",
              "4             deeper            1              0                0\n",
              "...              ...          ...            ...              ...\n",
              "1782       onlookers            0              0                1\n",
              "1783       typically            0              0                1\n",
              "1784       timebased            0              0                1\n",
              "1785  artPerformance            0              0                1\n",
              "1786     Performance            0              0                1\n",
              "\n",
              "[1787 rows x 4 columns]"
            ]
          },
          "metadata": {
            "tags": []
          },
          "execution_count": 265
        }
      ]
    },
    {
      "cell_type": "code",
      "metadata": {
        "id": "ynTv6qGkBkUj",
        "colab": {
          "base_uri": "https://localhost:8080/"
        },
        "outputId": "5ede704a-372a-4db5-bc34-396a55683ea6"
      },
      "source": [
        "termdocument.head"
      ],
      "execution_count": null,
      "outputs": [
        {
          "output_type": "execute_result",
          "data": {
            "text/plain": [
              "<bound method NDFrame.head of                 Word  DataScience  Piet Mondrian  Performance Art\n",
              "0           articles            1              0                0\n",
              "1             future            1              0                0\n",
              "2                 in            1              1                0\n",
              "3           concepts            1              0                0\n",
              "4             deeper            1              0                0\n",
              "...              ...          ...            ...              ...\n",
              "1782       onlookers            0              0                1\n",
              "1783       typically            0              0                1\n",
              "1784       timebased            0              0                1\n",
              "1785  artPerformance            0              0                1\n",
              "1786     Performance            0              0                1\n",
              "\n",
              "[1787 rows x 4 columns]>"
            ]
          },
          "metadata": {
            "tags": []
          },
          "execution_count": 266
        }
      ]
    },
    {
      "cell_type": "code",
      "metadata": {
        "id": "mokkrfPbBoGv",
        "colab": {
          "base_uri": "https://localhost:8080/"
        },
        "outputId": "355427e7-d10f-4d0d-874f-c4ba36c0e92c"
      },
      "source": [
        "termdocument.columns"
      ],
      "execution_count": null,
      "outputs": [
        {
          "output_type": "execute_result",
          "data": {
            "text/plain": [
              "Index(['Word', 'DataScience', 'Piet Mondrian', 'Performance Art'], dtype='object')"
            ]
          },
          "metadata": {
            "tags": []
          },
          "execution_count": 267
        }
      ]
    },
    {
      "cell_type": "markdown",
      "metadata": {
        "id": "av43RXvNAsHm"
      },
      "source": [
        "\n",
        "\n",
        "**term document incidence matrix**\n",
        "\n",
        "\n",
        "---\n",
        "\n"
      ]
    },
    {
      "cell_type": "code",
      "metadata": {
        "id": "wEk7LTNxAhFf"
      },
      "source": [
        "termdocument_Matrix= termdocument.to_numpy()"
      ],
      "execution_count": null,
      "outputs": []
    },
    {
      "cell_type": "code",
      "metadata": {
        "id": "diYmeXp0Az4e",
        "colab": {
          "base_uri": "https://localhost:8080/"
        },
        "outputId": "7782b123-52cd-438a-aba1-b0959d3d1e98"
      },
      "source": [
        "termdocument_Matrix[0:30]"
      ],
      "execution_count": null,
      "outputs": [
        {
          "output_type": "execute_result",
          "data": {
            "text/plain": [
              "array([['articles', 1, 0, 0],\n",
              "       ['future', 1, 0, 0],\n",
              "       ['in', 1, 1, 0],\n",
              "       ['concepts', 1, 0, 0],\n",
              "       ['deeper', 1, 0, 0],\n",
              "       ['over', 1, 0, 0],\n",
              "       ['go', 1, 1, 0],\n",
              "       ['to', 1, 1, 0],\n",
              "       ['try', 1, 0, 0],\n",
              "       ['will', 1, 0, 0],\n",
              "       ['We', 1, 0, 0],\n",
              "       ['field', 1, 0, 0],\n",
              "       ['this', 1, 1, 0],\n",
              "       ['of', 1, 1, 0],\n",
              "       ['terms', 1, 0, 0],\n",
              "       ['important', 1, 1, 0],\n",
              "       ['and', 1, 1, 0],\n",
              "       ['basic', 1, 0, 0],\n",
              "       ['most', 1, 0, 0],\n",
              "       ['the', 1, 1, 0],\n",
              "       ['some', 1, 0, 0],\n",
              "       ['explain', 1, 0, 0],\n",
              "       ['tried', 1, 0, 0],\n",
              "       ['we', 1, 0, 0],\n",
              "       ['article', 1, 0, 0],\n",
              "       ['In', 1, 1, 0],\n",
              "       ['scientist', 1, 0, 0],\n",
              "       ['data', 1, 0, 0],\n",
              "       ['every', 1, 0, 0],\n",
              "       ['for', 1, 1, 0]], dtype=object)"
            ]
          },
          "metadata": {
            "tags": []
          },
          "execution_count": 269
        }
      ]
    },
    {
      "cell_type": "markdown",
      "metadata": {
        "id": "z5UEQQe5Zyrn"
      },
      "source": [
        "\n",
        "**Inverted Indexes**\n",
        "\n",
        "---\n",
        "\n"
      ]
    },
    {
      "cell_type": "code",
      "metadata": {
        "id": "QqivJnDrdfr3",
        "colab": {
          "base_uri": "https://localhost:8080/"
        },
        "outputId": "30e5bb40-c73d-46cc-8fb0-ffe3c6fd0d4f"
      },
      "source": [
        "IIList= termdocument.values.tolist()\n",
        "IIList[0:5]"
      ],
      "execution_count": null,
      "outputs": [
        {
          "output_type": "execute_result",
          "data": {
            "text/plain": [
              "[['articles', 1, 0, 0],\n",
              " ['future', 1, 0, 0],\n",
              " ['in', 1, 1, 0],\n",
              " ['concepts', 1, 0, 0],\n",
              " ['deeper', 1, 0, 0]]"
            ]
          },
          "metadata": {
            "tags": []
          },
          "execution_count": 270
        }
      ]
    },
    {
      "cell_type": "code",
      "metadata": {
        "id": "TI7IrZ4hgIUG",
        "colab": {
          "base_uri": "https://localhost:8080/"
        },
        "outputId": "28af33e0-99e0-4620-f429-fa360f344ca4"
      },
      "source": [
        "len(IIList[0])"
      ],
      "execution_count": null,
      "outputs": [
        {
          "output_type": "execute_result",
          "data": {
            "text/plain": [
              "4"
            ]
          },
          "metadata": {
            "tags": []
          },
          "execution_count": 271
        }
      ]
    },
    {
      "cell_type": "code",
      "metadata": {
        "id": "7AnSdGdoUqQs"
      },
      "source": [
        "def I_I_T(dlist):\n",
        "  l= len(dlist[0])-1\n",
        "  dl= []\n",
        "  for i in dlist:\n",
        "    for a in range(1, len(i)):\n",
        "      if i[a]== 1:\n",
        "        i[a]= a\n",
        "      if i[a]== 0:\n",
        "        i[a]= \"\"\n",
        "    dl.append(i)\n",
        "  return dl\n"
      ],
      "execution_count": null,
      "outputs": []
    },
    {
      "cell_type": "code",
      "metadata": {
        "id": "hOZEsB41NpFx"
      },
      "source": [
        "Inverted_Index= I_I_T(IIList)"
      ],
      "execution_count": null,
      "outputs": []
    },
    {
      "cell_type": "code",
      "metadata": {
        "id": "yb83gsyxigqs",
        "colab": {
          "base_uri": "https://localhost:8080/"
        },
        "outputId": "e1f2ecdc-08c5-4e34-a9d4-01b9966ec18a"
      },
      "source": [
        "Inverted_Index[:10]"
      ],
      "execution_count": null,
      "outputs": [
        {
          "output_type": "execute_result",
          "data": {
            "text/plain": [
              "[['articles', 1, '', ''],\n",
              " ['future', 1, '', ''],\n",
              " ['in', 1, 2, ''],\n",
              " ['concepts', 1, '', ''],\n",
              " ['deeper', 1, '', ''],\n",
              " ['over', 1, '', ''],\n",
              " ['go', 1, 2, ''],\n",
              " ['to', 1, 2, ''],\n",
              " ['try', 1, '', ''],\n",
              " ['will', 1, '', '']]"
            ]
          },
          "metadata": {
            "tags": []
          },
          "execution_count": 274
        }
      ]
    },
    {
      "cell_type": "code",
      "metadata": {
        "id": "UeVQCRXch8yl"
      },
      "source": [
        "def RemoveNull(D_IN):\n",
        "  D_out= []\n",
        "  for r in D_IN:\n",
        "    while (\"\" in r):\n",
        "      r.remove(\"\")\n",
        "    D_out.append(r)\n",
        "  return D_out"
      ],
      "execution_count": null,
      "outputs": []
    },
    {
      "cell_type": "code",
      "metadata": {
        "id": "RZu8vOB5iV1R"
      },
      "source": [
        "Inverted_Index= RemoveNull(Inverted_Index)"
      ],
      "execution_count": null,
      "outputs": []
    },
    {
      "cell_type": "code",
      "metadata": {
        "id": "Ehzfcb9YjeS6",
        "colab": {
          "base_uri": "https://localhost:8080/"
        },
        "outputId": "b45f5021-881c-442d-9ffd-d25f21d555d4"
      },
      "source": [
        "Inverted_Index[:10]"
      ],
      "execution_count": null,
      "outputs": [
        {
          "output_type": "execute_result",
          "data": {
            "text/plain": [
              "[['articles', 1],\n",
              " ['future', 1],\n",
              " ['in', 1, 2],\n",
              " ['concepts', 1],\n",
              " ['deeper', 1],\n",
              " ['over', 1],\n",
              " ['go', 1, 2],\n",
              " ['to', 1, 2],\n",
              " ['try', 1],\n",
              " ['will', 1]]"
            ]
          },
          "metadata": {
            "tags": []
          },
          "execution_count": 322
        }
      ]
    },
    {
      "cell_type": "markdown",
      "metadata": {
        "id": "XVMtI4rrOoNK"
      },
      "source": [
        "**List Post**\n",
        "\n",
        "---\n",
        "\n"
      ]
    },
    {
      "cell_type": "code",
      "metadata": {
        "id": "euNpMI4MQ41D"
      },
      "source": [
        "def ClP(Data_in):\n",
        "  D_out= []\n",
        "  a= 0\n",
        "  for i in Data_in:\n",
        "    D_out.append([a,i])\n",
        "    a+= 1\n",
        "  return D_out\n"
      ],
      "execution_count": null,
      "outputs": []
    },
    {
      "cell_type": "code",
      "metadata": {
        "id": "4y-aw9W0TR3F"
      },
      "source": [
        "def  Coll(Data_in):\n",
        "  Data_out= []\n",
        "  for i in Data_in:\n",
        "    Data_out.append(ClP(i))\n",
        "  return Data_out"
      ],
      "execution_count": null,
      "outputs": []
    },
    {
      "cell_type": "code",
      "metadata": {
        "id": "nz4NSPNoXpMt"
      },
      "source": [
        "cLP = Coll(PText)"
      ],
      "execution_count": null,
      "outputs": []
    },
    {
      "cell_type": "code",
      "metadata": {
        "id": "r4uCapTjX4yD",
        "colab": {
          "base_uri": "https://localhost:8080/"
        },
        "outputId": "8812d18e-c1fd-4b59-da84-6d7d68fa8b69"
      },
      "source": [
        "cLP[0][0:5]"
      ],
      "execution_count": null,
      "outputs": [
        {
          "output_type": "execute_result",
          "data": {
            "text/plain": [
              "[[0, 'Computer'],\n",
              " [1, 'Engineering'],\n",
              " [2, 'Community'],\n",
              " [3, 'KIAUComputer'],\n",
              " [4, 'Engineering']]"
            ]
          },
          "metadata": {
            "tags": []
          },
          "execution_count": 355
        }
      ]
    },
    {
      "cell_type": "code",
      "metadata": {
        "id": "B4sGCiHUZAab"
      },
      "source": [
        "def Create_listPost(Data_in,doc_name):\n",
        "  Data_out= []\n",
        "  a= 0\n",
        "  for i in Data_in:\n",
        "    Data_out.append(pd.DataFrame(i,columns=['Position',doc_name[a]])) \n",
        "    Data_out[a] = Data_out[a]['Position'].groupby([Data_out[a][doc_name[a]]]).apply(list).reset_index()\n",
        "    a+= 1\n",
        "  return Data_out"
      ],
      "execution_count": null,
      "outputs": []
    },
    {
      "cell_type": "code",
      "metadata": {
        "id": "91nXScfwYUCN"
      },
      "source": [
        "cLP= Create_listPost(cLP,filesname)"
      ],
      "execution_count": null,
      "outputs": []
    },
    {
      "cell_type": "code",
      "metadata": {
        "id": "t2vJ7lKNbJ_X"
      },
      "source": [
        "Table = cLP[0]['Position'].groupby([cLP[0]['DataScience']]).apply(list).reset_index()"
      ],
      "execution_count": null,
      "outputs": []
    },
    {
      "cell_type": "code",
      "metadata": {
        "id": "6hsuQnLBd15O",
        "colab": {
          "base_uri": "https://localhost:8080/",
          "height": 424
        },
        "outputId": "f4f26a90-1841-4a3d-8c5f-15d27bc1f040"
      },
      "source": [
        "cLP[0]"
      ],
      "execution_count": null,
      "outputs": [
        {
          "output_type": "execute_result",
          "data": {
            "text/html": [
              "<div>\n",
              "<style scoped>\n",
              "    .dataframe tbody tr th:only-of-type {\n",
              "        vertical-align: middle;\n",
              "    }\n",
              "\n",
              "    .dataframe tbody tr th {\n",
              "        vertical-align: top;\n",
              "    }\n",
              "\n",
              "    .dataframe thead th {\n",
              "        text-align: right;\n",
              "    }\n",
              "</style>\n",
              "<table border=\"1\" class=\"dataframe\">\n",
              "  <thead>\n",
              "    <tr style=\"text-align: right;\">\n",
              "      <th></th>\n",
              "      <th>DataScience</th>\n",
              "      <th>Position</th>\n",
              "    </tr>\n",
              "  </thead>\n",
              "  <tbody>\n",
              "    <tr>\n",
              "      <th>0</th>\n",
              "      <td>According</td>\n",
              "      <td>[1704]</td>\n",
              "    </tr>\n",
              "    <tr>\n",
              "      <th>1</th>\n",
              "      <td>Afterwards</td>\n",
              "      <td>[1394]</td>\n",
              "    </tr>\n",
              "    <tr>\n",
              "      <th>2</th>\n",
              "      <td>All</td>\n",
              "      <td>[409]</td>\n",
              "    </tr>\n",
              "    <tr>\n",
              "      <th>3</th>\n",
              "      <td>Amazon</td>\n",
              "      <td>[1510, 1512]</td>\n",
              "    </tr>\n",
              "    <tr>\n",
              "      <th>4</th>\n",
              "      <td>Arash</td>\n",
              "      <td>[12]</td>\n",
              "    </tr>\n",
              "    <tr>\n",
              "      <th>...</th>\n",
              "      <td>...</td>\n",
              "      <td>...</td>\n",
              "    </tr>\n",
              "    <tr>\n",
              "      <th>640</th>\n",
              "      <td>you</td>\n",
              "      <td>[71, 102, 244, 313, 401, 1017, 1025, 1042, 108...</td>\n",
              "    </tr>\n",
              "    <tr>\n",
              "      <th>641</th>\n",
              "      <td>your</td>\n",
              "      <td>[193, 200, 204, 207, 1228, 1366]</td>\n",
              "    </tr>\n",
              "    <tr>\n",
              "      <th>642</th>\n",
              "      <td>“a</td>\n",
              "      <td>[953]</td>\n",
              "    </tr>\n",
              "    <tr>\n",
              "      <th>643</th>\n",
              "      <td>“horse”</td>\n",
              "      <td>[1454]</td>\n",
              "    </tr>\n",
              "    <tr>\n",
              "      <th>644</th>\n",
              "      <td>…</td>\n",
              "      <td>[1588]</td>\n",
              "    </tr>\n",
              "  </tbody>\n",
              "</table>\n",
              "<p>645 rows × 2 columns</p>\n",
              "</div>"
            ],
            "text/plain": [
              "    DataScience                                           Position\n",
              "0     According                                             [1704]\n",
              "1    Afterwards                                             [1394]\n",
              "2           All                                              [409]\n",
              "3        Amazon                                       [1510, 1512]\n",
              "4         Arash                                               [12]\n",
              "..          ...                                                ...\n",
              "640         you  [71, 102, 244, 313, 401, 1017, 1025, 1042, 108...\n",
              "641        your                   [193, 200, 204, 207, 1228, 1366]\n",
              "642          “a                                              [953]\n",
              "643     “horse”                                             [1454]\n",
              "644           …                                             [1588]\n",
              "\n",
              "[645 rows x 2 columns]"
            ]
          },
          "metadata": {
            "tags": []
          },
          "execution_count": 405
        }
      ]
    },
    {
      "cell_type": "code",
      "metadata": {
        "id": "Af9HwpjqeCtg",
        "colab": {
          "base_uri": "https://localhost:8080/",
          "height": 363
        },
        "outputId": "efba36cf-98dc-467f-bd79-a4e77d388702"
      },
      "source": [
        "cLP[1][10:20]"
      ],
      "execution_count": null,
      "outputs": [
        {
          "output_type": "execute_result",
          "data": {
            "text/html": [
              "<div>\n",
              "<style scoped>\n",
              "    .dataframe tbody tr th:only-of-type {\n",
              "        vertical-align: middle;\n",
              "    }\n",
              "\n",
              "    .dataframe tbody tr th {\n",
              "        vertical-align: top;\n",
              "    }\n",
              "\n",
              "    .dataframe thead th {\n",
              "        text-align: right;\n",
              "    }\n",
              "</style>\n",
              "<table border=\"1\" class=\"dataframe\">\n",
              "  <thead>\n",
              "    <tr style=\"text-align: right;\">\n",
              "      <th></th>\n",
              "      <th>Piet Mondrian</th>\n",
              "      <th>Position</th>\n",
              "    </tr>\n",
              "  </thead>\n",
              "  <tbody>\n",
              "    <tr>\n",
              "      <th>10</th>\n",
              "      <td>In</td>\n",
              "      <td>[338]</td>\n",
              "    </tr>\n",
              "    <tr>\n",
              "      <th>11</th>\n",
              "      <td>Instead</td>\n",
              "      <td>[32]</td>\n",
              "    </tr>\n",
              "    <tr>\n",
              "      <th>12</th>\n",
              "      <td>It</td>\n",
              "      <td>[228]</td>\n",
              "    </tr>\n",
              "    <tr>\n",
              "      <th>13</th>\n",
              "      <td>MONDRIANPiet</td>\n",
              "      <td>[3]</td>\n",
              "    </tr>\n",
              "    <tr>\n",
              "      <th>14</th>\n",
              "      <td>Mondrian</td>\n",
              "      <td>[4, 47, 89, 172, 207, 271, 316, 324, 345]</td>\n",
              "    </tr>\n",
              "    <tr>\n",
              "      <th>15</th>\n",
              "      <td>Netherlands</td>\n",
              "      <td>[293]</td>\n",
              "    </tr>\n",
              "    <tr>\n",
              "      <th>16</th>\n",
              "      <td>Notice</td>\n",
              "      <td>[151]</td>\n",
              "    </tr>\n",
              "    <tr>\n",
              "      <th>17</th>\n",
              "      <td>PIET</td>\n",
              "      <td>[2]</td>\n",
              "    </tr>\n",
              "    <tr>\n",
              "      <th>18</th>\n",
              "      <td>Paris</td>\n",
              "      <td>[258, 319]</td>\n",
              "    </tr>\n",
              "    <tr>\n",
              "      <th>19</th>\n",
              "      <td>ParisThis</td>\n",
              "      <td>[312]</td>\n",
              "    </tr>\n",
              "  </tbody>\n",
              "</table>\n",
              "</div>"
            ],
            "text/plain": [
              "   Piet Mondrian                                   Position\n",
              "10            In                                      [338]\n",
              "11       Instead                                       [32]\n",
              "12            It                                      [228]\n",
              "13  MONDRIANPiet                                        [3]\n",
              "14      Mondrian  [4, 47, 89, 172, 207, 271, 316, 324, 345]\n",
              "15   Netherlands                                      [293]\n",
              "16        Notice                                      [151]\n",
              "17          PIET                                        [2]\n",
              "18         Paris                                 [258, 319]\n",
              "19     ParisThis                                      [312]"
            ]
          },
          "metadata": {
            "tags": []
          },
          "execution_count": 414
        }
      ]
    },
    {
      "cell_type": "code",
      "metadata": {
        "id": "7P6RacvWeFke",
        "colab": {
          "base_uri": "https://localhost:8080/",
          "height": 363
        },
        "outputId": "88414afd-3367-4a70-e810-bb7d09f7ca9f"
      },
      "source": [
        "cLP[2][50:60]"
      ],
      "execution_count": null,
      "outputs": [
        {
          "output_type": "execute_result",
          "data": {
            "text/html": [
              "<div>\n",
              "<style scoped>\n",
              "    .dataframe tbody tr th:only-of-type {\n",
              "        vertical-align: middle;\n",
              "    }\n",
              "\n",
              "    .dataframe tbody tr th {\n",
              "        vertical-align: top;\n",
              "    }\n",
              "\n",
              "    .dataframe thead th {\n",
              "        text-align: right;\n",
              "    }\n",
              "</style>\n",
              "<table border=\"1\" class=\"dataframe\">\n",
              "  <thead>\n",
              "    <tr style=\"text-align: right;\">\n",
              "      <th></th>\n",
              "      <th>Performance Art</th>\n",
              "      <th>Position</th>\n",
              "    </tr>\n",
              "  </thead>\n",
              "  <tbody>\n",
              "    <tr>\n",
              "      <th>50</th>\n",
              "      <td>Huan</td>\n",
              "      <td>[477]</td>\n",
              "    </tr>\n",
              "    <tr>\n",
              "      <th>51</th>\n",
              "      <td>II</td>\n",
              "      <td>[346]</td>\n",
              "    </tr>\n",
              "    <tr>\n",
              "      <th>52</th>\n",
              "      <td>Idea</td>\n",
              "      <td>[121]</td>\n",
              "    </tr>\n",
              "    <tr>\n",
              "      <th>53</th>\n",
              "      <td>In</td>\n",
              "      <td>[91, 127, 347, 386, 418]</td>\n",
              "    </tr>\n",
              "    <tr>\n",
              "      <th>54</th>\n",
              "      <td>It</td>\n",
              "      <td>[35, 83, 435]</td>\n",
              "    </tr>\n",
              "    <tr>\n",
              "      <th>55</th>\n",
              "      <td>John</td>\n",
              "      <td>[360]</td>\n",
              "    </tr>\n",
              "    <tr>\n",
              "      <th>56</th>\n",
              "      <td>Joseph</td>\n",
              "      <td>[123]</td>\n",
              "    </tr>\n",
              "    <tr>\n",
              "      <th>57</th>\n",
              "      <td>Laurie</td>\n",
              "      <td>[100]</td>\n",
              "    </tr>\n",
              "    <tr>\n",
              "      <th>58</th>\n",
              "      <td>Man</td>\n",
              "      <td>[488, 496]</td>\n",
              "    </tr>\n",
              "    <tr>\n",
              "      <th>59</th>\n",
              "      <td>Marina</td>\n",
              "      <td>[153]</td>\n",
              "    </tr>\n",
              "  </tbody>\n",
              "</table>\n",
              "</div>"
            ],
            "text/plain": [
              "   Performance Art                  Position\n",
              "50            Huan                     [477]\n",
              "51              II                     [346]\n",
              "52            Idea                     [121]\n",
              "53              In  [91, 127, 347, 386, 418]\n",
              "54              It             [35, 83, 435]\n",
              "55            John                     [360]\n",
              "56          Joseph                     [123]\n",
              "57          Laurie                     [100]\n",
              "58             Man                [488, 496]\n",
              "59          Marina                     [153]"
            ]
          },
          "metadata": {
            "tags": []
          },
          "execution_count": 413
        }
      ]
    },
    {
      "cell_type": "markdown",
      "metadata": {
        "id": "44BnieLxw8J5"
      },
      "source": [
        "**Search Words**\n",
        "\n",
        "\n",
        "---\n",
        "\n"
      ]
    },
    {
      "cell_type": "code",
      "metadata": {
        "id": "eHpjfLY_k20I",
        "colab": {
          "base_uri": "https://localhost:8080/"
        },
        "outputId": "17a29904-4291-4761-a7d9-be9456ab5437"
      },
      "source": [
        "SW= input(\"input your search Word:\")\n",
        "SD= input(\"input your Document name:\")"
      ],
      "execution_count": null,
      "outputs": [
        {
          "output_type": "stream",
          "text": [
            "input your search Word:In\n",
            "input your Document name:Performance Art\n"
          ],
          "name": "stdout"
        }
      ]
    },
    {
      "cell_type": "code",
      "metadata": {
        "id": "v7_Ae_MNxXUi",
        "colab": {
          "base_uri": "https://localhost:8080/"
        },
        "outputId": "0f28304d-1f8e-48e2-9180-883987bd2697"
      },
      "source": [
        "docindex= filesname.index(SD)\n",
        "SR= cLP[docindex].loc[cLP[docindex][filesname[docindex]]==SW]\n",
        "po= SR.iloc[0]['Position']\n",
        "print(\"Positions : {} \\nPosition Count : {}\".format(po, len(po)))"
      ],
      "execution_count": null,
      "outputs": [
        {
          "output_type": "stream",
          "text": [
            "Positions : [91, 127, 347, 386, 418] \n",
            "Position Count : 5\n"
          ],
          "name": "stdout"
        }
      ]
    },
    {
      "cell_type": "markdown",
      "metadata": {
        "id": "w2h1avrW8aXE"
      },
      "source": [
        "# **Word Search Tree**"
      ]
    },
    {
      "cell_type": "markdown",
      "metadata": {
        "id": "NKKzavGos1-D"
      },
      "source": [
        "![Screenshot (81).png](data:image/png;base64,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)"
      ]
    },
    {
      "cell_type": "markdown",
      "metadata": {
        "id": "OPjkTVc5tFdD"
      },
      "source": [
        "**All words in this document are extracted and stored in a list**\n",
        "\n",
        "**My name is also saved in the list !**\n",
        "\n",
        "---\n",
        "\n"
      ]
    },
    {
      "cell_type": "code",
      "metadata": {
        "id": "gpil096R84HF"
      },
      "source": [
        "wlist= ['A',\n",
        "'an',\n",
        "'Assume',\n",
        "'before',\n",
        "'Cons',\n",
        "'Do',\n",
        "'Each',\n",
        "'Easy',\n",
        "'everything',\n",
        "'Expensive',\n",
        "'Faster',\n",
        "'Find',\n",
        "'For',\n",
        "'Growing',\n",
        "'hashed', \n",
        "'Hashtables',\n",
        "'If',\n",
        "'integer',\n",
        "'Is',\n",
        "'judgement',\n",
        "'judgment',\n",
        "'Keeps',\n",
        "'Lookup',\n",
        "'Minor',\n",
        "'Need',\n",
        "'No',\n",
        "'Occasionally',\n",
        "'Of',\n",
        "'Operation',\n",
        "'Prefix',\n",
        "'Pros',\n",
        "'Rehashing',\n",
        "'retrieval',\n",
        "'Search',\n",
        "'Seen',\n",
        "'Term',\n",
        "'Than',\n",
        "'The',\n",
        "'to', \n",
        "'Tolerant',\n",
        "'tree',\n",
        "'variants',\n",
        "'Vocabulary',\n",
        "'Way',\n",
        "'We',\n",
        "'you’ve',\n",
        "'Arash',\n",
        "'Mehrzadi']"
      ],
      "execution_count": 28,
      "outputs": []
    },
    {
      "cell_type": "code",
      "metadata": {
        "colab": {
          "base_uri": "https://localhost:8080/"
        },
        "id": "_xuHi5ejuaKw",
        "outputId": "c0ee7ebd-a9f0-4db4-d6c9-ef41723ff013"
      },
      "source": [
        "for i in range(len(wlist)):\n",
        "  print(\"-{}  {}\".format(i+1,wlist[i]))\n",
        "print(\"-------------------------------\",\"\\n Num. Words : {}\".format(len(wlist)))"
      ],
      "execution_count": 29,
      "outputs": [
        {
          "output_type": "stream",
          "text": [
            "-1  A\n",
            "-2  an\n",
            "-3  Assume\n",
            "-4  before\n",
            "-5  Cons\n",
            "-6  Do\n",
            "-7  Each\n",
            "-8  Easy\n",
            "-9  everything\n",
            "-10  Expensive\n",
            "-11  Faster\n",
            "-12  Find\n",
            "-13  For\n",
            "-14  Growing\n",
            "-15  hashed\n",
            "-16  Hashtables\n",
            "-17  If\n",
            "-18  integer\n",
            "-19  Is\n",
            "-20  judgement\n",
            "-21  judgment\n",
            "-22  Keeps\n",
            "-23  Lookup\n",
            "-24  Minor\n",
            "-25  Need\n",
            "-26  No\n",
            "-27  Occasionally\n",
            "-28  Of\n",
            "-29  Operation\n",
            "-30  Prefix\n",
            "-31  Pros\n",
            "-32  Rehashing\n",
            "-33  retrieval\n",
            "-34  Search\n",
            "-35  Seen\n",
            "-36  Term\n",
            "-37  Than\n",
            "-38  The\n",
            "-39  to\n",
            "-40  Tolerant\n",
            "-41  tree\n",
            "-42  variants\n",
            "-43  Vocabulary\n",
            "-44  Way\n",
            "-45  We\n",
            "-46  you’ve\n",
            "-47  Arash\n",
            "-48  Mehrzadi\n",
            "------------------------------- \n",
            " Num. Words : 48\n"
          ],
          "name": "stdout"
        }
      ]
    },
    {
      "cell_type": "code",
      "metadata": {
        "id": "V5sFk0PlD6w0"
      },
      "source": [
        "from collections import defaultdict\n",
        "\n",
        "\n",
        "class My_TreeNode():\n",
        "\n",
        "    def __init__(self):\n",
        "        self.children = defaultdict()\n",
        "        self.terminating = False\n",
        "\n",
        "\n",
        "class My_Tree():\n",
        "\n",
        "    def __init__(self):\n",
        "        self.root = self.get_node()\n",
        "\n",
        "    def get_node(self):\n",
        "        return My_TreeNode()\n",
        "\n",
        "    def get_index(self, ch):\n",
        "        return ord(ch) - ord('a')\n",
        "\n",
        "    def insert(self, word):\n",
        "\n",
        "        root = self.root\n",
        "        len1 = len(word)\n",
        "\n",
        "        for i in range(len1):\n",
        "            index = self.get_index(word[i])\n",
        "\n",
        "            if index not in root.children:\n",
        "                root.children[index] = self.get_node()\n",
        "            root = root.children.get(index)\n",
        "        root.terminating = True\n",
        "\n",
        "    def search(self, word, Mode):\n",
        "        root = self.root\n",
        "        len1 = len(word) \n",
        "        for i in range(len1):\n",
        "            index = self.get_index(word[i])\n",
        "            \n",
        "            if not root:\n",
        "                return False\n",
        "            root = root.children.get(index)\n",
        "            if Mode == 'traversal':\n",
        "               print(root,root.terminating)\n",
        "        return True if root and root.terminating else False\n",
        "    def delete(self, word):\n",
        "\n",
        "        root = self.root\n",
        "        len1 = len(word)\n",
        "\n",
        "        for i in range(len1):\n",
        "            index = self.get_index(word[i])\n",
        "\n",
        "            if not root:\n",
        "                print (\"Word not found\")\n",
        "                return -1\n",
        "            root = root.children.get(index)\n",
        "\n",
        "        if not root:\n",
        "            print (\"Word not found\")\n",
        "            return -1\n",
        "        else:\n",
        "            root.terminating = False\n",
        "            return 0\n",
        "\n",
        "    def update(self, old_word, new_word):\n",
        "        val = self.delete(old_word)\n",
        "        if val == 0:\n",
        "            self.insert(new_word)\n",
        "\n",
        "    \n",
        "\n",
        "if __name__ == \"__main__\":\n",
        "\n",
        "    strings = wlist\n",
        "\n",
        "    t = My_Tree()\n",
        "    for word in strings:\n",
        "        t.insert(word)"
      ],
      "execution_count": 30,
      "outputs": []
    },
    {
      "cell_type": "markdown",
      "metadata": {
        "id": "TWHYANNO0x-G"
      },
      "source": [
        "**In this section, I check all the words in the document**"
      ]
    },
    {
      "cell_type": "code",
      "metadata": {
        "colab": {
          "base_uri": "https://localhost:8080/"
        },
        "id": "ghpP9PnJFK-3",
        "outputId": "4fbacd92-2d5d-492b-d04b-d42f5e3d1631"
      },
      "source": [
        "for i in wlist:\n",
        "  print('Search - {} :'.format(i),t.search(i,'Simple'))"
      ],
      "execution_count": 31,
      "outputs": [
        {
          "output_type": "stream",
          "text": [
            "Search - A : True\n",
            "Search - an : True\n",
            "Search - Assume : True\n",
            "Search - before : True\n",
            "Search - Cons : True\n",
            "Search - Do : True\n",
            "Search - Each : True\n",
            "Search - Easy : True\n",
            "Search - everything : True\n",
            "Search - Expensive : True\n",
            "Search - Faster : True\n",
            "Search - Find : True\n",
            "Search - For : True\n",
            "Search - Growing : True\n",
            "Search - hashed : True\n",
            "Search - Hashtables : True\n",
            "Search - If : True\n",
            "Search - integer : True\n",
            "Search - Is : True\n",
            "Search - judgement : True\n",
            "Search - judgment : True\n",
            "Search - Keeps : True\n",
            "Search - Lookup : True\n",
            "Search - Minor : True\n",
            "Search - Need : True\n",
            "Search - No : True\n",
            "Search - Occasionally : True\n",
            "Search - Of : True\n",
            "Search - Operation : True\n",
            "Search - Prefix : True\n",
            "Search - Pros : True\n",
            "Search - Rehashing : True\n",
            "Search - retrieval : True\n",
            "Search - Search : True\n",
            "Search - Seen : True\n",
            "Search - Term : True\n",
            "Search - Than : True\n",
            "Search - The : True\n",
            "Search - to : True\n",
            "Search - Tolerant : True\n",
            "Search - tree : True\n",
            "Search - variants : True\n",
            "Search - Vocabulary : True\n",
            "Search - Way : True\n",
            "Search - We : True\n",
            "Search - you’ve : True\n",
            "Search - Arash : True\n",
            "Search - Mehrzadi : True\n"
          ],
          "name": "stdout"
        }
      ]
    },
    {
      "cell_type": "markdown",
      "metadata": {
        "id": "uolf1q8c2K2O"
      },
      "source": [
        "**I check some missing words in the document to make sure the algorithm is working properly**"
      ]
    },
    {
      "cell_type": "code",
      "metadata": {
        "id": "x7tiJcLsz_pj"
      },
      "source": [
        "outlier_list= ['Data','Programming','python','competition','dd']"
      ],
      "execution_count": 32,
      "outputs": []
    },
    {
      "cell_type": "code",
      "metadata": {
        "colab": {
          "base_uri": "https://localhost:8080/"
        },
        "id": "abFhxp8SzNOb",
        "outputId": "a73c255e-e8bf-46b9-8c8a-fec51398ed5a"
      },
      "source": [
        "for i in outlier_list:\n",
        "  print('Search - {} :'.format(i),t.search(i,'Simple'))"
      ],
      "execution_count": 33,
      "outputs": [
        {
          "output_type": "stream",
          "text": [
            "Search - Data : False\n",
            "Search - Programming : False\n",
            "Search - python : False\n",
            "Search - competition : False\n",
            "Search - dd : False\n"
          ],
          "name": "stdout"
        }
      ]
    },
    {
      "cell_type": "markdown",
      "metadata": {
        "id": "amKSvFrB2ULp"
      },
      "source": [
        "**Search All Steps**\n",
        "\n",
        "**Tree traversal**"
      ]
    },
    {
      "cell_type": "code",
      "metadata": {
        "colab": {
          "base_uri": "https://localhost:8080/"
        },
        "id": "QyO-oJbV2TWq",
        "outputId": "0384aaf4-0475-4644-9f6e-14c08127fdde"
      },
      "source": [
        "t.search('Arash','traversal')"
      ],
      "execution_count": 34,
      "outputs": [
        {
          "output_type": "stream",
          "text": [
            "<__main__.My_TreeNode object at 0x7f5f26dd0eb8> True\n",
            "<__main__.My_TreeNode object at 0x7f5f26dbc358> False\n",
            "<__main__.My_TreeNode object at 0x7f5f26dbc390> False\n",
            "<__main__.My_TreeNode object at 0x7f5f26dbc3c8> False\n",
            "<__main__.My_TreeNode object at 0x7f5f26dbc400> True\n"
          ],
          "name": "stdout"
        },
        {
          "output_type": "execute_result",
          "data": {
            "text/plain": [
              "True"
            ]
          },
          "metadata": {
            "tags": []
          },
          "execution_count": 34
        }
      ]
    },
    {
      "cell_type": "code",
      "metadata": {
        "colab": {
          "base_uri": "https://localhost:8080/"
        },
        "id": "JPlc7Bqz0lUk",
        "outputId": "e507d670-f7aa-4ace-c283-e1feafd5b457"
      },
      "source": [
        "t.search('Operation','traversal')"
      ],
      "execution_count": 35,
      "outputs": [
        {
          "output_type": "stream",
          "text": [
            "<__main__.My_TreeNode object at 0x7f5f26db2828> False\n",
            "<__main__.My_TreeNode object at 0x7f5f26db2588> False\n",
            "<__main__.My_TreeNode object at 0x7f5f26db25c0> False\n",
            "<__main__.My_TreeNode object at 0x7f5f26db2320> False\n",
            "<__main__.My_TreeNode object at 0x7f5f26db23c8> False\n",
            "<__main__.My_TreeNode object at 0x7f5f26db2358> False\n",
            "<__main__.My_TreeNode object at 0x7f5f26db26d8> False\n",
            "<__main__.My_TreeNode object at 0x7f5f26db2780> False\n",
            "<__main__.My_TreeNode object at 0x7f5f26db27b8> True\n"
          ],
          "name": "stdout"
        },
        {
          "output_type": "execute_result",
          "data": {
            "text/plain": [
              "True"
            ]
          },
          "metadata": {
            "tags": []
          },
          "execution_count": 35
        }
      ]
    },
    {
      "cell_type": "code",
      "metadata": {
        "colab": {
          "base_uri": "https://localhost:8080/"
        },
        "id": "DDFQfSRr3YhX",
        "outputId": "55155b98-9267-4a78-858b-6b298c3871af"
      },
      "source": [
        "t.search('integer','traversal')"
      ],
      "execution_count": 36,
      "outputs": [
        {
          "output_type": "stream",
          "text": [
            "<__main__.My_TreeNode object at 0x7f5f26db6128> False\n",
            "<__main__.My_TreeNode object at 0x7f5f26db6160> False\n",
            "<__main__.My_TreeNode object at 0x7f5f26db6198> False\n",
            "<__main__.My_TreeNode object at 0x7f5f26db6080> False\n",
            "<__main__.My_TreeNode object at 0x7f5f26db60b8> False\n",
            "<__main__.My_TreeNode object at 0x7f5f26db6048> False\n",
            "<__main__.My_TreeNode object at 0x7f5f26db6c50> True\n"
          ],
          "name": "stdout"
        },
        {
          "output_type": "execute_result",
          "data": {
            "text/plain": [
              "True"
            ]
          },
          "metadata": {
            "tags": []
          },
          "execution_count": 36
        }
      ]
    },
    {
      "cell_type": "markdown",
      "metadata": {
        "id": "j5ZVfaHfWeqg"
      },
      "source": [
        "# **Search Tree Diagram**\n",
        "![download1.png](data:image/png;base64,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)"
      ]
    },
    {
      "cell_type": "markdown",
      "metadata": {
        "id": "eBfy8Rmii3TP"
      },
      "source": [
        "### *Various search methods will be implemented soon ...*"
      ]
    }
  ]
}